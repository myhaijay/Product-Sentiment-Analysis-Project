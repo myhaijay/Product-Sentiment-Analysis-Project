{
 "cells": [
  {
   "cell_type": "markdown",
   "id": "c05a87d2",
   "metadata": {},
   "source": [
    "## Introduction to project\n",
    "\n",
    "\n",
    "\n",
    "### Content: \n",
    "* [Data cleaning and first exploration](#1)\n",
    "* [Getting the Benchmark](#2)\n",
    "* [Explore Other Clasifiers](#3)\n",
    "* [The Classifier - Model](#4)\n",
    "* [Conclusion](#5)"
   ]
  },
  {
   "cell_type": "markdown",
   "id": "a784cbe4",
   "metadata": {},
   "source": [
    "### Import Libraries & Data"
   ]
  },
  {
   "cell_type": "code",
   "execution_count": 171,
   "id": "edd98977",
   "metadata": {},
   "outputs": [
    {
     "data": {
      "text/html": [
       "<div>\n",
       "<style scoped>\n",
       "    .dataframe tbody tr th:only-of-type {\n",
       "        vertical-align: middle;\n",
       "    }\n",
       "\n",
       "    .dataframe tbody tr th {\n",
       "        vertical-align: top;\n",
       "    }\n",
       "\n",
       "    .dataframe thead th {\n",
       "        text-align: right;\n",
       "    }\n",
       "</style>\n",
       "<table border=\"1\" class=\"dataframe\">\n",
       "  <thead>\n",
       "    <tr style=\"text-align: right;\">\n",
       "      <th></th>\n",
       "      <th>asins</th>\n",
       "      <th>reviews.rating</th>\n",
       "      <th>reviews.text</th>\n",
       "    </tr>\n",
       "  </thead>\n",
       "  <tbody>\n",
       "    <tr>\n",
       "      <th>0</th>\n",
       "      <td>B00QWO9P0O,B00LH3DMUO</td>\n",
       "      <td>3</td>\n",
       "      <td>I order 3 of them and one of the item is bad quality. Is missing backup spring so I have to put ...</td>\n",
       "    </tr>\n",
       "    <tr>\n",
       "      <th>1</th>\n",
       "      <td>B00QWO9P0O,B00LH3DMUO</td>\n",
       "      <td>4</td>\n",
       "      <td>Bulk is always the less expensive way to go for products like these</td>\n",
       "    </tr>\n",
       "    <tr>\n",
       "      <th>2</th>\n",
       "      <td>B00QWO9P0O,B00LH3DMUO</td>\n",
       "      <td>5</td>\n",
       "      <td>Well they are not Duracell but for the price i am happy.</td>\n",
       "    </tr>\n",
       "    <tr>\n",
       "      <th>3</th>\n",
       "      <td>B00QWO9P0O,B00LH3DMUO</td>\n",
       "      <td>5</td>\n",
       "      <td>Seem to work as well as name brand batteries at a much better price</td>\n",
       "    </tr>\n",
       "    <tr>\n",
       "      <th>4</th>\n",
       "      <td>B00QWO9P0O,B00LH3DMUO</td>\n",
       "      <td>5</td>\n",
       "      <td>These batteries are very long lasting the price is great.</td>\n",
       "    </tr>\n",
       "  </tbody>\n",
       "</table>\n",
       "</div>"
      ],
      "text/plain": [
       "                   asins  reviews.rating  \\\n",
       "0  B00QWO9P0O,B00LH3DMUO               3   \n",
       "1  B00QWO9P0O,B00LH3DMUO               4   \n",
       "2  B00QWO9P0O,B00LH3DMUO               5   \n",
       "3  B00QWO9P0O,B00LH3DMUO               5   \n",
       "4  B00QWO9P0O,B00LH3DMUO               5   \n",
       "\n",
       "                                                                                          reviews.text  \n",
       "0  I order 3 of them and one of the item is bad quality. Is missing backup spring so I have to put ...  \n",
       "1                                  Bulk is always the less expensive way to go for products like these  \n",
       "2                                             Well they are not Duracell but for the price i am happy.  \n",
       "3                                  Seem to work as well as name brand batteries at a much better price  \n",
       "4                                            These batteries are very long lasting the price is great.  "
      ]
     },
     "execution_count": 171,
     "metadata": {},
     "output_type": "execute_result"
    }
   ],
   "source": [
    "import pandas as pd\n",
    "import numpy as np\n",
    "import re\n",
    "import string\n",
    "import nltk\n",
    "from sklearn.feature_extraction.text import TfidfVectorizer\n",
    "from nltk.sentiment.vader import SentimentIntensityAnalyzer \n",
    "from sklearn.model_selection import KFold, cross_val_score\n",
    "from sklearn.ensemble import RandomForestClassifier\n",
    "from sklearn.metrics import precision_recall_fscore_support as score, classification_report\n",
    "from sklearn.model_selection import train_test_split\n",
    "from sklearn.decomposition import PCA\n",
    "from sklearn.preprocessing import MinMaxScaler\n",
    "from sklearn.decomposition import TruncatedSVD\n",
    "from sklearn.linear_model import LogisticRegression\n",
    "from sklearn.ensemble import GradientBoostingClassifier\n",
    "from xgboost import XGBClassifier\n",
    "from sklearn.svm import SVC\n",
    "from imblearn.over_sampling import SMOTE\n",
    "import matplotlib.pyplot as plt\n",
    "import seaborn as sns\n",
    "import pickle\n",
    "pd.set_option('display.max_colwidth', 100)\n",
    "\n",
    "stopwords = nltk.corpus.stopwords.words('english')\n",
    "ps = nltk.PorterStemmer()\n",
    "wn = nltk.WordNetLemmatizer()\n",
    "\n",
    "data = pd.read_csv(\"Reviews_of_Amazon_Products_2.csv\")\n",
    "data.head()\n"
   ]
  },
  {
   "cell_type": "markdown",
   "id": "c854cea2",
   "metadata": {},
   "source": [
    "<a id ='1' ></a>\n",
    "### EDA - Data Preprocessing "
   ]
  },
  {
   "cell_type": "code",
   "execution_count": 164,
   "id": "304981e4",
   "metadata": {},
   "outputs": [
    {
     "data": {
      "text/html": [
       "<div>\n",
       "<style scoped>\n",
       "    .dataframe tbody tr th:only-of-type {\n",
       "        vertical-align: middle;\n",
       "    }\n",
       "\n",
       "    .dataframe tbody tr th {\n",
       "        vertical-align: top;\n",
       "    }\n",
       "\n",
       "    .dataframe thead th {\n",
       "        text-align: right;\n",
       "    }\n",
       "</style>\n",
       "<table border=\"1\" class=\"dataframe\">\n",
       "  <thead>\n",
       "    <tr style=\"text-align: right;\">\n",
       "      <th></th>\n",
       "      <th>reviews.rating</th>\n",
       "      <th>reviews.text</th>\n",
       "    </tr>\n",
       "    <tr>\n",
       "      <th>asins</th>\n",
       "      <th></th>\n",
       "      <th></th>\n",
       "    </tr>\n",
       "  </thead>\n",
       "  <tbody>\n",
       "    <tr>\n",
       "      <th>B00QWO9P0O</th>\n",
       "      <td>3</td>\n",
       "      <td>I order 3 of them and one of the item is bad quality. Is missing backup spring so I have to put ...</td>\n",
       "    </tr>\n",
       "    <tr>\n",
       "      <th>B00LH3DMUO</th>\n",
       "      <td>3</td>\n",
       "      <td>I order 3 of them and one of the item is bad quality. Is missing backup spring so I have to put ...</td>\n",
       "    </tr>\n",
       "    <tr>\n",
       "      <th>B00QWO9P0O</th>\n",
       "      <td>4</td>\n",
       "      <td>Bulk is always the less expensive way to go for products like these</td>\n",
       "    </tr>\n",
       "    <tr>\n",
       "      <th>B00LH3DMUO</th>\n",
       "      <td>4</td>\n",
       "      <td>Bulk is always the less expensive way to go for products like these</td>\n",
       "    </tr>\n",
       "    <tr>\n",
       "      <th>B00QWO9P0O</th>\n",
       "      <td>5</td>\n",
       "      <td>Well they are not Duracell but for the price i am happy.</td>\n",
       "    </tr>\n",
       "  </tbody>\n",
       "</table>\n",
       "</div>"
      ],
      "text/plain": [
       "            reviews.rating  \\\n",
       "asins                        \n",
       "B00QWO9P0O               3   \n",
       "B00LH3DMUO               3   \n",
       "B00QWO9P0O               4   \n",
       "B00LH3DMUO               4   \n",
       "B00QWO9P0O               5   \n",
       "\n",
       "                                                                                                   reviews.text  \n",
       "asins                                                                                                            \n",
       "B00QWO9P0O  I order 3 of them and one of the item is bad quality. Is missing backup spring so I have to put ...  \n",
       "B00LH3DMUO  I order 3 of them and one of the item is bad quality. Is missing backup spring so I have to put ...  \n",
       "B00QWO9P0O                                  Bulk is always the less expensive way to go for products like these  \n",
       "B00LH3DMUO                                  Bulk is always the less expensive way to go for products like these  \n",
       "B00QWO9P0O                                             Well they are not Duracell but for the price i am happy.  "
      ]
     },
     "execution_count": 164,
     "metadata": {},
     "output_type": "execute_result"
    }
   ],
   "source": [
    "#Make a copy of data,detangle the product ids and reset index\n",
    "df = data.copy()\n",
    "df['asins'] = df['asins'].apply(lambda x: x.split(','))\n",
    "df = df.explode('asins')\n",
    "df = df.set_index('asins')\n",
    "  \n",
    "df.head()"
   ]
  },
  {
   "cell_type": "code",
   "execution_count": 3,
   "id": "0d4e0848",
   "metadata": {},
   "outputs": [],
   "source": [
    "#Standardize columns\n",
    "standard_columns = [col_name.replace('.', '_') for col_name in df.columns]\n",
    "df.columns = standard_columns"
   ]
  },
  {
   "cell_type": "code",
   "execution_count": 4,
   "id": "81cb9747",
   "metadata": {},
   "outputs": [
    {
     "name": "stdout",
     "output_type": "stream",
     "text": [
      "Input data has 46774 rows and 2 columns\n"
     ]
    }
   ],
   "source": [
    "#What is the shape of the dataset\n",
    "print(\"Input data has {} rows and {} columns\".format(len(df), len(df.columns)))"
   ]
  },
  {
   "cell_type": "code",
   "execution_count": 5,
   "id": "33c7840b",
   "metadata": {},
   "outputs": [
    {
     "name": "stdout",
     "output_type": "stream",
     "text": [
      "Number of null in Reviews: 0\n",
      "Number of null in Reviews Rating: 0\n"
     ]
    }
   ],
   "source": [
    "# How much missing data is there?\n",
    "\n",
    "print(\"Number of null in Reviews: {}\".format(df['reviews_text'].isnull().sum()))\n",
    "print(\"Number of null in Reviews Rating: {}\".format(df['reviews_rating'].isnull().sum()))"
   ]
  },
  {
   "cell_type": "code",
   "execution_count": 6,
   "id": "a0254a55",
   "metadata": {},
   "outputs": [
    {
     "data": {
      "text/plain": [
       "'I order 3 of them and one of the item is bad quality. Is missing backup spring so I have to put a pcs of aluminum to make the battery work.'"
      ]
     },
     "execution_count": 6,
     "metadata": {},
     "output_type": "execute_result"
    }
   ],
   "source": [
    "# Take a peek into the Review text\n",
    "df['reviews_text'][0]"
   ]
  },
  {
   "cell_type": "markdown",
   "id": "45277ba0",
   "metadata": {},
   "source": [
    "#### Feature Extraction - Clean & Classify reviews sentiment using vader Sentiment analyzer tool"
   ]
  },
  {
   "cell_type": "code",
   "execution_count": 7,
   "id": "86e0028b",
   "metadata": {},
   "outputs": [],
   "source": [
    "# Cleaning and Tokenizing text\n",
    "\n",
    "def clean_text(text):\n",
    "    text = \"\".join([word.lower() for word in text if word not in string.punctuation])\n",
    "    tokens = re.split('\\W+', text)\n",
    "    text = [wn.lemmatize(word) for word in tokens if word not in stopwords]\n",
    "    return text\n"
   ]
  },
  {
   "cell_type": "code",
   "execution_count": 8,
   "id": "15bbb5d1",
   "metadata": {},
   "outputs": [],
   "source": [
    "#Get review classification \n",
    "def review_classifier(x):\n",
    "    analyzer = SentimentIntensityAnalyzer()\n",
    "    review_scores = [analyzer.polarity_scores(sentence)['compound'] for sentence in list(x)]\n",
    "    return ['Satisfied' if score>=0.05 and score<=0.25\n",
    "            else 'Happy' if (score>0.25 and score<=0.65)\n",
    "            else 'Very Happy' if score>0.65\n",
    "            else 'Indifferent' if (score>-0.05 and score<=0.05)\n",
    "            else 'Disappointed' for score in review_scores]\n"
   ]
  },
  {
   "cell_type": "code",
   "execution_count": 9,
   "id": "97b40da0",
   "metadata": {},
   "outputs": [],
   "source": [
    "#Apply function to feature for extraction\n",
    "df['emotions'] = review_classifier(df['reviews_text'])"
   ]
  },
  {
   "cell_type": "code",
   "execution_count": 10,
   "id": "a1785a91",
   "metadata": {},
   "outputs": [],
   "source": [
    "#Drop this feature\n",
    "df.drop(columns= 'reviews_rating',axis=1, inplace=True)"
   ]
  },
  {
   "cell_type": "code",
   "execution_count": 12,
   "id": "02c18047",
   "metadata": {},
   "outputs": [
    {
     "data": {
      "text/html": [
       "<div>\n",
       "<style scoped>\n",
       "    .dataframe tbody tr th:only-of-type {\n",
       "        vertical-align: middle;\n",
       "    }\n",
       "\n",
       "    .dataframe tbody tr th {\n",
       "        vertical-align: top;\n",
       "    }\n",
       "\n",
       "    .dataframe thead th {\n",
       "        text-align: right;\n",
       "    }\n",
       "</style>\n",
       "<table border=\"1\" class=\"dataframe\">\n",
       "  <thead>\n",
       "    <tr style=\"text-align: right;\">\n",
       "      <th></th>\n",
       "      <th>reviews_text</th>\n",
       "      <th>emotions</th>\n",
       "    </tr>\n",
       "    <tr>\n",
       "      <th>asins</th>\n",
       "      <th></th>\n",
       "      <th></th>\n",
       "    </tr>\n",
       "  </thead>\n",
       "  <tbody>\n",
       "    <tr>\n",
       "      <th>B00QWO9P0O</th>\n",
       "      <td>Well they are not Duracell but for the price i am happy.</td>\n",
       "      <td>Very Happy</td>\n",
       "    </tr>\n",
       "    <tr>\n",
       "      <th>B00LH3DMUO</th>\n",
       "      <td>Well they are not Duracell but for the price i am happy.</td>\n",
       "      <td>Very Happy</td>\n",
       "    </tr>\n",
       "    <tr>\n",
       "      <th>B00QWO9P0O</th>\n",
       "      <td>Bought a lot of batteries for Christmas and the AmazonBasics Cell have been good. I haven't noti...</td>\n",
       "      <td>Very Happy</td>\n",
       "    </tr>\n",
       "    <tr>\n",
       "      <th>B00LH3DMUO</th>\n",
       "      <td>Bought a lot of batteries for Christmas and the AmazonBasics Cell have been good. I haven't noti...</td>\n",
       "      <td>Very Happy</td>\n",
       "    </tr>\n",
       "    <tr>\n",
       "      <th>B00QWO9P0O</th>\n",
       "      <td>Well if you are looking for cheap non-rechargeable batteries that last quite a while then these ...</td>\n",
       "      <td>Very Happy</td>\n",
       "    </tr>\n",
       "  </tbody>\n",
       "</table>\n",
       "</div>"
      ],
      "text/plain": [
       "                                                                                                   reviews_text  \\\n",
       "asins                                                                                                             \n",
       "B00QWO9P0O                                             Well they are not Duracell but for the price i am happy.   \n",
       "B00LH3DMUO                                             Well they are not Duracell but for the price i am happy.   \n",
       "B00QWO9P0O  Bought a lot of batteries for Christmas and the AmazonBasics Cell have been good. I haven't noti...   \n",
       "B00LH3DMUO  Bought a lot of batteries for Christmas and the AmazonBasics Cell have been good. I haven't noti...   \n",
       "B00QWO9P0O  Well if you are looking for cheap non-rechargeable batteries that last quite a while then these ...   \n",
       "\n",
       "              emotions  \n",
       "asins                   \n",
       "B00QWO9P0O  Very Happy  \n",
       "B00LH3DMUO  Very Happy  \n",
       "B00QWO9P0O  Very Happy  \n",
       "B00LH3DMUO  Very Happy  \n",
       "B00QWO9P0O  Very Happy  "
      ]
     },
     "execution_count": 12,
     "metadata": {},
     "output_type": "execute_result"
    }
   ],
   "source": [
    "#Take a peek into the classifications for confirmation\n",
    "df[df['emotions']=='Very Happy'].head()"
   ]
  },
  {
   "cell_type": "markdown",
   "id": "828089c9",
   "metadata": {},
   "source": [
    "<a id ='2' ></a>\n",
    "### Getting  Benchmark"
   ]
  },
  {
   "cell_type": "markdown",
   "id": "ee8d6a26",
   "metadata": {},
   "source": [
    "#### Apply TfidfVectorizer to encode text(Vectorization)"
   ]
  },
  {
   "cell_type": "code",
   "execution_count": 14,
   "id": "dc7ba97e",
   "metadata": {},
   "outputs": [
    {
     "name": "stdout",
     "output_type": "stream",
     "text": [
      "(46774, 11675)\n",
      "['', '0', '01162017', '015', '021ea', '022', '022027', '025', '025050', '031ea', '033', '034', '043', '085', '09', '09500043200', '0f', '0v', '1', '10', '100', '1000', '10000', '100240', '1005', '100battery', '100ish', '100pack', '100this', '100v240v', '101', '1010', '1012', '1015', '101and', '102015', '1022mm', '105', '1080', '1080p', '10and', '10day', '10in', '10pack', '10paksgreat', '10pk', '10th', '10x', '10year', '10yearold', '10yr', '11', '110', '1102017not', '110v', '110w', '1112gb', '112', '112018', '112026', '112816', '1132017', '115f', '116', '11716', '11dec2015', '11year', '11yr', '12', '120', '1200', '1208', '120ea', '120is', '122026', '12212016update', '12416', '1249', '125', '125v', '127im', '128', '1280800', '128gb', '128gbi', '129', '12999', '12days', '12pack', '12packs', '12x', '13', '1300', '13000', '133', '139', '1397', '13k', '13th', '13v', '14', '144', '1440', '145', '146146125v', '148v', '14cant', '14pounds', '14yo', '15', '150', '15000', '1520', '156', '158', '15gb', '15inability', '15mins', '15tax', '15v', '15vdc', '16', '160', '161', '161v', '162', '163', '166v', '16993299', '16bay', '16g', '16gb', '16gbthanks', '16gig', '16mb', '16v', '16volt', '17', '17200', '173', '179', '17inch', '18', '180', '189ppi', '18i', '19', '1920', '1970s', '1985', '199', '1992', '1999', '1click', '1day', '1gb', '1gig', '1hr', '1mobile', '1month', '1one', '1st', '1v', '1weeki', '1year', '1yo', '1yr', '2', '20', '200', '20000', '200gb', '2012', '2013', '2014', '2015', '2015now', '2016', '2016batteries', '2017', '2020', '2024', '2025', '2026', '2026amazonbasics', '2026good', '2027', '2030', '2040', '20gb', '20ish', '20month', '20pack', '20packif', '20packwould', '20pak', '20pk', '21', '2162016ive', '22', '23', '23rd', '24', '240', '240gb', '247', '247put', '249', '24ghz', '24hrs', '24pack', '25', '250', '2500', '250000', '2526really', '253', '256', '256gb', '25each', '25hp', '25x', '26', '27', '28', '29', '290', '290350', '299910', '2a', '2aa', '2am', '2days', '2gbs', '2hrs', '2hrsthe', '2in1', '2month', '2months', '2mp', '2nd', '2tb', '2x', '2year', '2years', '2yo', '2yr', '2yrs', '3', '30', '300', '3000', '30010301', '300dpi', '3040', '30sec', '30yr', '310', '312', '32', '32021', '32416', '32g', '32gb', '32gbjust', '32mb', '33', '34', '35', '350', '3500', '35000', '354', '357', '36', '360', '36battery', '36pack', '37', '3717', '375', '37thanniversary', '38', '39', '39383', '3995', '39in', '3d', '3g', '3gb', '3hour', '3m', '3month', '3rd', '3vstates', '3weeks', '3x', '3year', '3yearold', '3yo', '3yr', '3yrold', '3yrs', '4', '40', '400', '4000', '40000', '4050', '40cm', '412', '42', '420', '43', '43016ive', '44', '4422mm', '443', '45', '450', '46', '46kindle', '46year', '48', '48aa', '48awesome', '48count', '48pack', '48packenergizer', '48th', '48v', '49', '499', '4999', '4bay', '4cell', '4g', '4gb', '4gig', '4hour', '4hours', '4in', '4k', '4pack', '4packs', '4pcs', '4prosgood', '4star', '4t', '4th', '4x', '4yo', '4yr', '4yrs', '5', '50', '500', '5000', '500ish', '50100', '5050', '5060', '5090', '50ea', '50its', '51', '510', '512', '53after', '55', '56', '5610', '56hours', '56months', '575', '57x', '58', '59', '590', '5999', '5ghz', '5i', '5star', '5stars', '5th', '5they', '5v', '5w', '5year', '5yearold', '5years', '5yo', '5yr', '6', '60', '600', '6000', '60000', '6070', '60it', '6128', '613', '61617', '623', '63', '64', '6499', '64gb', '64gig', '64kb', '65', '66', '67', '670', '68', '69', '6900', '699', '6999', '6a', '6gb', '6mos', '6th', '6weeks', '6wks', '6x', '6year', '6yo', '6yr', '6yrold', '6yrolds', '6yrs', '7', '70', '7075', '70he', '710', '72', '720p', '73', '75', '750', '758', '75v', '76', '76100', '77mm', '78', '79', '7999', '7999my', '79you', '7fire', '7i', '7in', '7inch', '7th', '7thxxxx', '7x', '7year', '7yearold', '7yo', '7yr', '8', '80', '800', '810', '812', '82', '82516', '83', '834', '83year', '84', '849', '85', '86', '864', '87', '88', '89', '8900', '899', '8999', '89yearold', '8g', '8gb', '8gig', '8hd', '8hour', '8in', '8inch', '8inches', '8mm', '8pack', '8she', '8since', '8th', '8the', '8this', '8was', '8x', '8year', '8yearold', '8yo', '8yoshe', '8yr', '9', '90', '900', '9000', '908', '9095', '910', '914', '924', '93', '9400', '95', '96', '96hrs', '97', '975', '97and', '98', '99', '9900', '994', '997', '999', '99c', '99cent', '9th', '9v', '9volt', '9year', '9yearold', '9yo', '9yr', 'a00810', 'a1', 'a4a', 'a6', 'a8', 'aa', 'aaa', 'aaaa', 'aaaaa', 'aaai', 'aaalr03am4', 'aawith', 'abandon', 'abc', 'abcmousecom', 'abg', 'ability', 'abim', 'abit', 'abj', 'abke', 'able', 'abnormal', 'abount', 'about8', 'abroad', 'absolute', 'absolutelt', 'absolutely', 'absorbent', 'absorbs', 'abundance', 'abuse', 'abused', 'abusive', 'abv', 'abysmal', 'ac', 'acc', 'accedently', 'accent', 'accented', 'accept', 'acceptable', 'acceptably', 'accepted', 'acces', 'access', 'accessable', 'accessed', 'accessibility', 'accessible', 'accessing', 'accessory', 'accident', 'accidental', 'accidentally', 'accidentallyor', 'accidently', 'accommodate', 'accomodate', 'accompanied', 'accomplish', 'accomplished', 'accomplishedthe', 'according', 'accordingly', 'account', 'accounting', 'accountit', 'accountpermissions', 'accountsextra', 'accountthe', 'acct', 'accurate', 'accurately', 'accustomed', 'acdc', 'acdelco', 'ace', 'acer', 'achieve', 'achieved', 'achievement', 'achieving', 'acid', 'acive', 'acme', 'acording', 'acoustic', 'acquainted', 'acrobat', 'across', 'act', 'acting', 'action', 'actioncons', 'activate', 'activated', 'activatedso', 'activating', 'activation', 'active', 'activity', 'actual', 'actuality', 'actually', 'acuity', 'ad', 'adapt', 'adaptable', 'adapter', 'adapterac', 'adapterother', 'adapterthe', 'adapterthis', 'adapting', 'adaptive', 'adapts', 'adaquate', 'add', 'addage', 'added', 'addict', 'addicted', 'addicting', 'addiction', 'adding', 'addition', 'additional', 'additionally', 'addon', 'address', 'addressed', 'adept', 'adequate', 'adequately', 'adh', 'adhd', 'adicting', 'adjust', 'adjustable', 'adjusted', 'adjuster', 'adjusting', 'adjustment', 'adjusts', 'adless', 'admit', 'admittedly', 'adolescent', 'adopted', 'adopter', 'adoption', 'adoptor', 'adorable', 'adore', 'adult', 'adultchild', 'adultsa', 'adultsgreat', 'adust', 'adv', 'advance', 'advanced', 'advancement', 'advantage', 'adventure', 'adverised', 'adverse', 'advertise', 'advertised', 'advertisement', 'advertising', 'advertisment', 'advertized', 'advice', 'advicei', 'advisable', 'advise', 'advised', 'advisor', 'advocate', 'aesthetic', 'affect', 'affected', 'affiliate', 'affodable', 'afforadable', 'afford', 'affordability', 'affordable', 'affordable1', 'affordably', 'aficionado', 'aforementioned', 'afraid', 'afresh', 'after2', 'afterall', 'aftermarket', 'afternoon', 'aftertaste', 'agaib', 'again4', 'againamazon', 'againcant', 'againfast', 'againi', 'againif', 'againin', 'againnor', 'againstill', 'againthat', 'againthe', 'againthey', 'againyou', 'agaun', 'age', 'ageappropriate', 'aged', 'agenda', 'agent', 'agerelated', 'ageseasy', 'aggravating', 'aggravation', 'agian', 'aging', 'ago', 'agoit', 'agothe', 'agps', 'agree', 'agreei', 'agreeing', 'ahead', 'ahesive', 'ahh', 'ahs8n', 'ahve', 'ai', 'aid', 'aidens', 'aim', 'aimed', 'aiming', 'aint', 'air', 'air2', 'aircraft', 'airline', 'airplane', 'airpod', 'airport', 'aka', 'akaline', 'akf', 'al', 'ala', 'alarm', 'alaska', 'albeit', 'album', 'alcaline', 'alert', 'alertanative', 'alerting', 'alex', 'alexa', 'alexaask', 'alexaecho', 'alexaenabled', 'alexait', 'alexas', 'alexia', 'alexis', 'alezxa', 'algorithm', 'alight', 'align', 'alike', 'alittle', 'alive', 'alkaline', 'alkalinequality', 'alkalines', 'alkalinesi', 'alkline', 'allaround', 'alleged', 'alleven', 'alleviate', 'alleviating', 'alley', 'allfair', 'allgood', 'alli', 'allinall', 'allinone', 'allits', 'allmetal', 'allot', 'allots', 'allotted', 'allow', 'allowance', 'allowed', 'allowing', 'allows', 'allpurpose', 'allthe', 'alltime', 'almanac', 'almighty', 'almost', 'almostexhausted', 'alone', 'along', 'alongside', 'alot', 'aloud', 'alpert', 'alphabet', 'alphanumeric', 'already', 'alreadyexpired', 'alreadygood', 'alright', 'also', 'alsoconveniently', 'alsodriggs', 'alsoi', 'alsome', 'alt', 'alter', 'alterior', 'alternate', 'alternatibve', 'alternative', 'alternatve', 'although', 'althought', 'altogether', 'altra', 'aluminium', 'aluminum', 'aluminumun', 'always', 'alwaysreliable', 'alwyas', 'am', 'amanzon', 'amaozon', 'amaxzon', 'amaze', 'amazed', 'amazement', 'amazes', 'amazin', 'amazing', 'amazingi', 'amazinglike', 'amazingly', 'amazingsound', 'amazingthe', 'amazn', 'amazom', 'amazon', 'amazona', 'amazonbascis', 'amazonbasic', 'amazonbasicis', 'amazonbasics', 'amazonbasicsi', 'amazonbrand', 'amazonbranded', 'amazonbut', 'amazoncant', 'amazonchatty0371', 'amazoncom', 'amazonconsram', 'amazone', 'amazonfire', 'amazonfor', 'amazonfound', 'amazong', 'amazoni', 'amazonjunkie', 'amazonno', 'amazonnone', 'amazonpro', 'amazonrayovac', 'amazonrelated', 'amazonso', 'amazonthe', 'amazonthis', 'amazonyou', 'ambient', 'ambition', 'amd', 'america', 'american', 'amir', 'amizon', 'ammo', 'ammount', 'amoled', 'among', 'amongst', 'amope', 'amore', 'amount', 'amout', 'amozon', 'amp', 'ample', 'ampliamente', 'ampsthis', 'amusing', 'amyou', 'amzon', 'an3', 'analysis', 'analyzer', 'anazon', 'anchor', 'ancient', 'andespn', 'andi', 'andor', 'andriod', 'android', 'androidamazon', 'androidbased', 'androidhowever', 'ands', 'andthe', 'andvreallyninportant', 'andy', 'anecdotal', 'angel', 'angle', 'angry', 'animal', 'animation', 'anime', 'anker', 'ankle', 'anniversary', 'announced', 'announcedherself', 'announcement', 'annoyance', 'annoyed', 'annoying', 'annoyingfar', 'annoyingscreen', 'annoyingsilk', 'annoys', 'annually', 'another', 'anotherbut', 'ansered', 'answer', 'answered', 'answering', 'ant', 'antenna', 'anti', 'anticipate', 'anticipated', 'anticipatedi', 'anticipatedthe', 'anticipation', 'antifreeze', 'antileakage', 'antivirus', 'anxiety', 'anxious', 'anybody', 'anyday', 'anymore', 'anyone', 'anyones', 'anyonesimply', 'anything', 'anythingthe', 'anythinh', 'anytime', 'anyway', 'anywaybut', 'anywayi', 'anyways', 'anywhere', 'anywherewillbuy', 'aok', 'aokas', 'ap', 'apart', 'apartment', 'apiece', 'apk', 'aplication', 'apocalypse', 'apologized', 'app', 'appalled', 'apparent', 'apparently', 'appeal', 'appealing', 'appear', 'appearance', 'appeared', 'appeares', 'appearing', 'appears', 'appease', 'appfit', 'appgamesvideos', 'apple', 'appliance', 'appliancestoys', 'applicable', 'application', 'applicationdevice', 'applicationsgames', 'applies', 'apply', 'appointment', 'apponto', 'apposed', 'appple', 'appreciable', 'appreciate', 'appreciated', 'appreciates', 'appreciation', 'appreciative', 'apprehensive', 'approach', 'approached', 'appropariate', 'appropriate', 'appropriately', 'approve', 'approved', 'approx', 'approximate', 'approximately', 'apps', 'apps16g', 'appsamazon', 'appsbooksvideos', 'appschild', 'appsease', 'appsgames', 'appsgamesbooksbest', 'appsgood', 'appshonestly', 'appso', 'appsprospriceperformancefeels', 'appsservices', 'appsshes', 'appsso', 'appsthe', 'appstore', 'appt', 'appts', 'apr', 'april', 'aps', 'apts', 'aquired', 'ar', 'arch', 'archive', 'area', 'areal', 'areamazon', 'areathe', 'arei', 'areit', 'arelucky', 'arena', 'arent', 'arentthen', 'arethese', 'aretime', 'arguably', 'argue', 'arguing', 'arises', 'ariseshintgreat', 'arm', 'armchair', 'army', 'aroind', 'around', 'aroundconsi', 'arounds', 'arranged', 'arrangement', 'array', 'arrival', 'arrivalplease', 'arrive', 'arrived', 'arrives', 'arrow', 'art', 'arthritis', 'article', 'articulating', 'artificial', 'artist', 'artistic', 'artwork', 'as', 'asap', 'asd', 'asdfghj', 'asesome', 'ashamed', 'asia', 'asian', 'aside', 'ask', 'asked', 'askfor', 'asking', 'asks', 'asleep', 'aspect', 'aspectsit', 'asphalt', 'ass', 'assessible', 'asset', 'assign', 'assignment', 'assist', 'assistance', 'assistant', 'assisted', 'assisting', 'assoc', 'assocate', 'associate', 'associated', 'assorted', 'assortment', 'asstounding', 'assume', 'assumed', 'assuming', 'assumwd', 'assure', 'assured', 'astonishing', 'astounding', 'asus', 'aswell', 'ata', 'atany', 'atari', 'ate', 'athey', 'atlantic', 'atleast', 'atmos', 'att', 'attach', 'attached', 'attachment', 'attack', 'attacked', 'attempt', 'attempted', 'attempting', 'attending', 'attention', 'attest', 'attract', 'attracted', 'attractive', 'attribute', 'audible', 'audiblecom', 'audio', 'audiobook', 'audiobooks', 'audiophile', 'audiophiles', 'aug', 'august', 'aunt', 'aura', 'australia', 'authenticated', 'author', 'authorize', 'authorized', 'autism', 'autistic', 'auto', 'autoadjust', 'autobrightness', 'autofocus', 'automated', 'automatic', 'automatically', 'automation', 'autoorder', 'autoship', 'aux', 'av', 'avaiable', 'avaiailable', 'avail', 'availability', 'available', 'availablei', 'availablein', 'availablesare', 'availablethousands', 'availablility', 'avaliable', 'avarage', 'average', 'averaged', 'avery', 'averything', 'avi', 'avid', 'avoid', 'avoids', 'awake', 'aware', 'away', 'aweosme', 'awesome', 'awesomeand', 'awesomebest', 'awesomecheaper', 'awesomegreat', 'awesomehd', 'awesomei', 'awesomely', 'awesomemy', 'awesomeness', 'awesomewell', 'awful', 'awfulthe', 'awhile', 'awkward', 'awkwardly', 'aws', 'awseome', 'awsome', 'awsomo', 'awwsome', 'axis', 'azi', 'b', 'babe', 'baby', 'babyhe', 'babykeeps', 'babysit', 'babysitter', 'bacic', 'back', 'backed', 'background', 'backi', 'backing', 'backless', 'backlight', 'backlightgreat', 'backlighting', 'backlights', 'backlit', 'backlot', 'backordered', 'backpack', 'backpacking', 'backpacklots', 'backside', 'backspace', 'backstrap', 'backtoback', 'backup', 'backupand', 'backvery', 'backward', 'backwards', 'backyard', 'bacteria', 'bad', 'badly', 'badno', 'badthe', 'baffled', 'bag', 'bagel', 'baggie', 'baggies', 'bah', 'baked', 'balance', 'balanced', 'balcony', 'baldwin', 'ballistic', 'balloon', 'bam', 'bama', 'ban', 'band', 'bandwidth', 'bang', 'bank', 'banking', 'bankupdated', 'bar', 'barbie', 'bare', 'barebones', 'barely', 'bargain', 'bargaindont', 'bargainwould', 'bargin', 'bark', 'barking', 'barley', 'barnes', 'barreries', 'barring', 'barrow', 'bascially', 'bascis', 'base', 'based', 'baseline', 'basement', 'bashing', 'basic', 'basically', 'basicsload', 'basicspackaging', 'basicthese', 'basis', 'basket', 'baskey', 'bass', 'bat', 'batch', 'batchwhich', 'bateries', 'batery', 'bath', 'bathroom', 'bathtub', 'batreries', 'battary', 'batteires', 'batteiries', 'batter', 'battereis', 'batteres', 'batterey', 'batterie', 'batteriersthey', 'batteries2', 'batteries4', 'batteriesamazonbasics', 'batteriesand', 'batteriesare', 'batteriesat', 'batteriesbesides', 'batteriescheaper', 'batteriesdont', 'batteriesduracell', 'batteriesespecially', 'batteriesforget', 'batteriesgets', 'batteriesgood', 'batteriesgreat', 'batteriesheck', 'batterieshere', 'batterieshighly', 'batteriesi', 'batteriesit', 'batteriesive', 'batteriesjust', 'batterieslast', 'batterieslightbulbsetc', 'batterieslike', 'batterieslol', 'batterieslong', 'batteriesmake', 'batteriesmaxell', 'batteriesmeets', 'batteriesnice', 'batteriesno', 'batteriesnot', 'batteriesoff', 'batteriesone', 'batteriesrayb', 'batteriessave', 'batteriessimple', 'batteriessize', 'batteriesso', 'batteriessorry', 'batteriesthanks', 'batteriesthe', 'batteriesthen', 'batteriesthese', 'batteriesthey', 'batteriestotally', 'batterieswhat', 'batterieswho', 'batterieswill', 'batterieswith', 'batterieswork', 'batterieswould', 'batteris', 'batterize', 'batterry', 'battert', 'batterues', 'battery', 'batteryand', 'batterycharging', 'batterydimensions', 'batteryget', 'batteryhungry', 'batteryi', 'batteryim', 'batteryimho', 'batterylife', 'batteryoperated', 'batterypowered', 'batterytry', 'batteryvery', 'batterywe', 'battey', 'battieries', 'battiers', 'batties', 'battle', 'battreries', 'battries', 'batts', 'battteries', 'baught', 'bay', 'bb', 'bbc', 'bbuy', 'bc', 'bcuz', 'beaaa', 'beach', 'bealso', 'bean', 'bear', 'beard', 'beast', 'beastly', 'beat', 'beat1', 'beatable', 'beatabsolutely', 'beatbatteries', 'beaten', 'beater', 'beating', 'beattheyre', 'beautiful', 'beautifully', 'beauty', 'became', 'becausethey', 'becazuse', 'become', 'becomes', 'becoming', 'becuase', 'bed', 'bedriddendisabled', 'bedroom', 'bedside', 'bedt', 'bedtime', 'beech', 'beeding', 'beef', 'beefy', 'beep', 'beeped', 'beeping', 'beepsnot', 'beer', 'beet', 'beforebummer', 'beforebut', 'beforehand', 'beg', 'began', 'begginers', 'begging', 'begin', 'beginers', 'begingood', 'begining', 'beginner', 'beginning', 'begrudge', 'behind', 'behold', 'bejeweled', 'believe', 'believed', 'believer', 'belight', 'belkin', 'bell', 'belong', 'belonging', 'belongs', 'bemoaning', 'bend', 'bending', 'beneficial', 'benefit', 'benefiting', 'bent', 'beoke', 'berenstain', 'besides', 'best', 'bestbuy', 'bestbuycom', 'bestlove', 'bestmade', 'bestnote', 'bestthe', 'bestyou', 'bet', 'beta', 'better', 'betterallthough', 'betterfaster', 'betterheres', 'betteri', 'betterthan', 'betterwith', 'betterwork', 'bettery', 'bettter', 'beware', 'beyes', 'beyond', 'bezel', 'bf', 'bfrnd', 'bht', 'bias', 'biased', 'bible', 'bicycle', 'bid', 'bifocals', 'big', 'bigbox', 'bigger', 'biggest', 'biggie', 'bike', 'biking', 'bilingual', 'bill', 'billboard', 'bimonthly', 'binder', 'bindersthere', 'bing', 'binge', 'binged', 'biodegradable', 'biography', 'biology', 'bird', 'birthday', 'birthdayits', 'birthdayshe', 'bit', 'bite', 'bith', 'biting', 'bitten', 'biz', 'bj', 'bjs', 'black', 'blackberry', 'blackfriday', 'blackish', 'blackjack', 'blackscreen', 'blackside', 'blackweb', 'blade', 'blah', 'blame', 'bland', 'blank', 'blanket', 'blanking', 'blast', 'blazing', 'bled', 'bleed', 'blemish', 'bless', 'blessing', 'blew', 'blinded', 'blink', 'blinked', 'blinkforhome', 'blinking', 'blister', 'blitz', 'bloat', 'bloatware', 'block', 'blocked', 'blocking', 'blood', 'bloom', 'blotch', 'blow', 'blowing', 'blown', 'blu', 'blue', 'blueish', 'blueray', 'blueshade', 'bluetooth', 'bluetoothdecent', 'bluetoothwifi', 'bluish', 'bluray', 'bn', 'board', 'boasting', 'boat', 'bob', 'body', 'bodyour', 'bog', 'boggles', 'boggling', 'bok', 'bold', 'bolton', 'bomb', 'bonknbatteries', 'bonus', 'boo', 'book', 'booka', 'bookclub', 'bookgreat', 'bookhow', 'booklet', 'booklike', 'bookmark', 'bookokay', 'bookreader', 'booksbooks', 'booksgamesmusic', 'bookshelf', 'booksmagazines', 'bookspaper', 'bookstextbooks', 'booksthey', 'booksthird', 'booksthis', 'bookstore', 'bookstyle', 'bookworm', 'boom', 'boombox', 'booming', 'boomshackalackalacka', 'boomthe', 'booooo', 'boost', 'boot', 'booted', 'booting', 'border', 'bored', 'boredom', 'boredtip', 'born', 'borrow', 'borrowed', 'bos', 'bose', 'bother', 'bothered', 'bothering', 'bothersome', 'bottle', 'bottled', 'bottleneck', 'bottletaking', 'bottom', 'bough', 'bought', 'boughtthe', 'boughtwe', 'boughy', 'bounced', 'bouncer', 'bouncing', 'bound', 'boundbook', 'bout', 'bowl', 'box', 'box3', 'box48', 'boxed', 'boxhowevertwo', 'boxi', 'boxnice', 'boxnothing', 'boy', 'boycotting', 'boyfriend', 'boygirl', 'boysi', 'bp', 'brain', 'brainer', 'brake', 'branch', 'branching', 'brand', 'brandbogus', 'branded', 'brandedname', 'branding', 'brandinggreat', 'brandlasts', 'brandname', 'brandnamed', 'brandperhaps', 'brandquality', 'brands2', 'brandsbattery', 'brandsbrands', 'brandsbut', 'brandsexcellent', 'brandsfor', 'brandshave', 'brandsi', 'brandsid', 'brandsin', 'brandssuper', 'brandupdate', 'brandwill', 'bravo', 'brawl', 'break', 'breakable', 'breakage', 'breakcons', 'breaker', 'breakeven', 'breaking', 'breast', 'breath', 'breathe', 'breed', 'breeze', 'brenda', 'brew', 'brick', 'brickandmortar', 'brief', 'briefcase', 'briefing', 'bright', 'brighten', 'brightens', 'brighter', 'brightest', 'brightly', 'brightness', 'brightusually', 'brightwhite', 'brilliant', 'brilliant2', 'brilliantno', 'bring', 'bringing', 'brings', 'britbox', 'broad', 'broadcasting', 'broke', 'broken', 'brokengreat', 'brokenlost', 'brorher', 'brother', 'brotherinlaw', 'brought', 'brown', 'browny', 'browse', 'browser', 'browserfirst', 'browsing', 'browsingsocial', 'bruce', 'bruised', 'brush', 'brutal', 'bt', 'btc2000', 'btw', 'bubble', 'buck', 'buckle', 'bucksthe', 'bud', 'buddy', 'budget', 'budgetconscious', 'budgetfriendly', 'buen', 'buenos', 'buffalo', 'buffer', 'buffered', 'buffering', 'bug', 'bugger', 'buggin', 'bugging', 'buggy', 'build', 'builder', 'building', 'built', 'builtcons', 'builtin', 'bulb', 'bulge', 'bulk', 'bulkin', 'bulkiness', 'bulkno', 'bulky', 'bullet', 'bulletsdecent', 'bummed', 'bummer', 'bump', 'bumper', 'bumping', 'bunch', 'bundle', 'bundled', 'bunny', 'bunnyall', 'bunnyduracell', 'bur', 'burn', 'burned', 'burning', 'burnt', 'burst', 'bursting', 'bus', 'business', 'busted', 'busy', 'busythis', 'butits', 'butmajor', 'butt', 'button', 'buttoni', 'buttonstyle', 'buttuns', 'butwhen', 'butwhile', 'buy', 'buyand', 'buyas', 'buyer', 'buyhas', 'buyi', 'buying', 'buyng', 'buyshock', 'buywork', 'buzz', 'buzzing', 'bv', 'bwhatever', 'bybut', 'bye', 'byee', 'byfar', 'byod', 'bypass', 'bypassed', 'byut', 'c', 'cabin', 'cabinet', 'cable', 'cableplugged', 'cablesand', 'cablesanyoneill', 'cablesto', 'cache', 'cadillac', 'cage', 'cake', 'cal', 'calculate', 'calculated', 'calculation', 'calculator', 'calendar', 'calender', 'caliberallinall', 'calibre', 'call', 'called', 'calling', 'callinh', 'callused', 'calm', 'calming', 'calmly', 'calmness', 'calvin', 'cam', 'camcorder', 'came', 'camenor', 'camer', 'camera', 'camerahowever', 'cameraso', 'cameratouch', 'camp', 'camper', 'camping', 'camsthe', 'can', 'canaccess', 'cancel', 'canceled', 'cancellation', 'cancelling', 'candle', 'candleslove', 'candy', 'cangreat', 'canister', 'cannon', 'cannot', 'canon', 'cant', 'canvas', 'cap', 'capability', 'capable', 'capacitancethey', 'capacity', 'capacitywise', 'capsule', 'captable', 'captain', 'captivated', 'capture', 'captured', 'capturing', 'car', 'carbon', 'card', 'cardboard', 'cardboardto', 'cardiac', 'cardscons', 'care', 'careful', 'carefully', 'caribbean', 'caring', 'carousel', 'carpal', 'carpet', 'carrasoul', 'carreduces', 'carried', 'carrier', 'carry', 'carryeasy', 'carrying', 'carryingpacking', 'carseat', 'cart', 'carton', 'cartonthese', 'cartoon', 'cartridge', 'case', 'case100', 'casebut', 'casedispenser', 'caseedit', 'casei', 'caseit', 'casekeyboard', 'casethe', 'casetry', 'casewell', 'cash', 'cashi', 'casing', 'casino', 'cast', 'casting', 'casual', 'casually', 'cat', 'catalog', 'catch', 'catcher', 'catching', 'category', 'caught', 'cause', 'caused', 'causing', 'caution', 'cautious', 'caveat', 'caveman', 'cbatteries', 'cc', 'cd', 'cease', 'ceiling', 'cell', 'cello', 'cellophane', 'cellphone', 'cellrayovac', 'cellular', 'celo', 'cent', 'center', 'centered', 'centerpiece', 'centre', 'century', 'ceremony', 'certain', 'certainly', 'certainty', 'certificate', 'certified', 'cery', 'cevprf', 'chaege', 'chagrin', 'chain', 'chair', 'chalking', 'challenge', 'challenged', 'challenging', 'champ', 'champion', 'championship', 'chance', 'change', 'changeable', 'changed', 'changedleaked', 'changer', 'changesamazon', 'changesin', 'changesupdate', 'changing', 'channel', 'channelsit', 'chapter', 'chapterbook', 'character', 'characteristic', 'charactersthemes', 'charge', 'charged', 'chargedit', 'chargedwe', 'chargeeven', 'chargefor', 'chargei', 'charger', 'chargerhey', 'chargerthe', 'chargethe', 'charging', 'chargingdata', 'chargingheadphone', 'charitable', 'charity', 'charlie', 'charm', 'charmmm', 'charmsome', 'chart', 'chase', 'chat', 'chatging', 'chatter', 'cheap', 'cheapdont', 'cheaped', 'cheaper', 'cheaperand', 'cheaperbattery', 'cheapest', 'cheapfeeling', 'cheapgot', 'cheapi', 'cheapish', 'cheaply', 'cheapo', 'cheapos', 'cheapthey', 'cheapworth', 'check', 'checked', 'checker', 'checkgreat', 'checking', 'checkjust', 'checkmy', 'checkreliable', 'cheep', 'cheesy', 'chency', 'cheper', 'chess', 'chew', 'chewed', 'chewing', 'chianese', 'chicken', 'child', 'childcentered', 'childfriendly', 'childproof', 'childrena', 'childrencomes', 'childrens', 'childsafety', 'childthis', 'chime', 'china', 'chineese', 'chinese', 'chip', 'chipper', 'chocked', 'chocolate', 'choice', 'choicethe', 'choking', 'choo', 'choose', 'chooses', 'choosing', 'choppy', 'chord', 'chose', 'chosen', 'christ', 'christian', 'christmas', 'christmashavent', 'christmasim', 'christmastherefore', 'christmasthese', 'christmaswe', 'chrome', 'chromebooksurface', 'chromecast', 'chronic', 'chtistmas', 'chubby', 'chuckle', 'chug', 'church', 'cinch', 'circadian', 'circle', 'circlers', 'circling', 'circuit', 'circuited', 'circular', 'circumferenceetc', 'cited', 'citizen', 'city', 'ckd', 'claim', 'claimed', 'clamp', 'clamshell', 'clan', 'clarity', 'clarityalexia', 'clarityquality', 'clark', 'clash', 'class', 'classeseasier', 'classified', 'classroom', 'classwork', 'classy', 'clean', 'cleaned', 'cleaning', 'cleanlove', 'cleanup', 'clear', 'clearance', 'clearer', 'clearing', 'clearly', 'clearness', 'clerk', 'click', 'clicker', 'clicking', 'client', 'clinicals', 'clip', 'clipper', 'clipping', 'clock', 'clockradio', 'clocksgo', 'clockwill', 'clog', 'clogged', 'clone', 'closable', 'close', 'closed', 'closely', 'closer', 'closest', 'closet', 'closethallway', 'closeto', 'closeup', 'closing', 'cloth', 'clothes', 'cloud', 'cloudbased', 'club', 'clubhouse', 'clud', 'clue', 'clued', 'clumsiness', 'clumsy', 'clunky', 'cluster', 'clutter', 'cluttered', 'cmon', 'cnadles', 'cnet', 'cnn', 'coarse', 'coat', 'coated', 'coating', 'cobtroller', 'coc', 'coclors', 'code', 'coexist', 'coffee', 'coherent', 'coin', 'coincidence', 'cold', 'coldiced', 'coll', 'collar', 'colleague', 'collect', 'collected', 'collectible', 'collecting', 'collection', 'collector', 'college', 'coloer', 'color', 'colorado', 'colorbrightness', 'colored', 'colorery', 'colorful', 'coloring', 'colorput', 'colorsyou', 'column', 'combination', 'combine', 'combined', 'combining', 'combo', 'comcast', 'come', 'comeon', 'comfort', 'comfortable', 'comfortablethe', 'comfortably', 'comforting', 'comfy', 'comic', 'coming', 'comingalways', 'comixology', 'command', 'commandscons', 'commandthat', 'comment', 'commented', 'commercial', 'commercialsso', 'committed', 'commodity', 'common', 'commonly', 'communicate', 'communication', 'community', 'commute', 'commuter', 'commuting', 'compact', 'compacteasy', 'compacted', 'compainion', 'compaints', 'compaired', 'companion', 'companiontip', 'company', 'comparable', 'comparably', 'comparative', 'comparatively', 'compare', 'comparebut', 'compared', 'comparing', 'comparison', 'compartment', 'compartmentconsgeneric', 'compartmentjust', 'compartmentlots', 'compartmentscons', 'compatable', 'compatibility', 'compatible', 'compelling', 'compensate', 'compensated', 'compensates', 'compensation', 'comperable', 'comperitive', 'compete', 'competent', 'competes', 'competing', 'competition', 'competitionbatteries', 'competitioni', 'competitiontoo', 'competitioo', 'competitive', 'competitively', 'competitor', 'compiled', 'complain', 'complainapps', 'complained', 'complaining', 'complains', 'complaint', 'complainthey', 'complaintscreen', 'complaintsi', 'complants', 'complement', 'complete', 'completed', 'completely', 'completion', 'completly', 'complex', 'complicated', 'complicates', 'complication', 'complies', 'compliment', 'complimentary', 'component', 'comprehensive', 'comprehensively', 'compromise', 'computed', 'computer', 'computeri', 'computersetup', 'computersmy', 'computertablet', 'computertechnical', 'con', 'conair', 'conceal', 'concentrate', 'concentration', 'concept', 'concern', 'concerned', 'concerning', 'concert', 'conclude', 'concluded', 'concluding', 'conclusion', 'concrete', 'condition', 'conditioned', 'conditioner', 'condo', 'conducive', 'conduct', 'conducted', 'conecctions', 'conection', 'conferencing', 'confess', 'confidence', 'confident', 'configurablethe', 'configuration', 'configure', 'configured', 'confirm', 'confirmation', 'confirmed', 'confirmedwow', 'confirms', 'conflicted', 'conflicting', 'conforms', 'confused', 'confusing', 'confusingbut', 'confusion', 'congrats', 'conistent', 'conjecture', 'conjunction', 'connect', 'connected', 'connecting', 'connection', 'connectionoverall', 'connectivity', 'connector', 'connectproblem', 'connects', 'conneseiur', 'connivence', 'conpack', 'conpaired', 'consensus', 'consequently', 'conservative', 'consice', 'consider', 'consider1', 'considerable', 'considerably', 'considerarions', 'considerate', 'consideration', 'considerationsthese', 'considered', 'considering', 'considers', 'consisnt', 'consistency', 'consistent', 'consistentl', 'consistently', 'console', 'conspiracy', 'constant', 'constantly', 'constructed', 'construction', 'constructioncompares', 'consult', 'consulting', 'consumable', 'consume', 'consumer', 'consuming', 'consumption', 'contaced', 'contact', 'contacted', 'contacting', 'contain', 'contained', 'container', 'containing', 'containment', 'contains', 'contemplating', 'contemporary', 'contender', 'content', 'contentthe', 'context', 'continually', 'continue', 'continued', 'continues', 'continuous', 'continuously', 'contol', 'contorl', 'contract', 'contracted', 'contraption', 'contrast', 'control', 'controler', 'controli', 'controlled', 'controller', 'controllersplaying', 'controllersthey', 'controlling', 'controlsand', 'controlschild', 'conv', 'convection', 'convenience', 'conveniencewhen', 'convenient', 'conveniently', 'convent', 'conventional', 'conversation', 'conversing', 'conversion', 'convert', 'converted', 'converter', 'convience', 'convienent', 'convient', 'convince', 'convinced', 'convincing', 'convinient', 'cookbook', 'cooking', 'cool', 'cooler', 'coolest', 'coop', 'cooperate', 'cope', 'copied', 'copper', 'copperish', 'coppertop', 'coppertops', 'coppertopsso', 'copy', 'copyright', 'copywriter', 'coral', 'cord', 'cordless', 'cordstained', 'cordthis', 'core', 'corner', 'correct', 'corrected', 'correctly', 'correra', 'corresponding', 'corrode', 'corroded', 'corroding', 'corrosion', 'corrosive', 'corrugated', 'corrupted', 'cortonna', 'cosco', 'cost', 'costbenefit', 'costcell', 'costco', 'costcokirkland', 'costcos', 'costed', 'costeffective', 'costeffectiveness', 'costgreat', 'costing', 'costliest', 'costly', 'costlywas', 'costo', 'costoco', 'costsavings', 'coststock', 'costwe', 'couch', 'coud', 'coughing', 'could', 'couldnt', 'couldshould', 'couldve', 'count', 'countduracell', 'counted', 'counter', 'counterpart', 'countertop', 'counterwould', 'counting', 'countless', 'country', 'county', 'couple', 'coupon', 'course', 'courseso', 'courtesy', 'cousin', 'covenient', 'cover', 'coverage', 'coverbattery', 'covered', 'coveri', 'covering', 'covert', 'coworker', 'coworkers', 'coyote', 'coz', 'cozy', 'cpu', 'cpugpu', 'cr123', 'crack', 'cracked', 'cracking', 'cradle', 'craft', 'crafted', 'crafting', 'crafty', 'craigs', 'cramped', 'crank', 'crap', 'crapped', 'crappy', 'crash', 'crashed', 'crashing', 'crate', 'crawled', 'crawler', 'craze', 'craziest', 'crazy', 'crazyand', 'cream', 'create', 'created', 'creating', 'creation', 'creative', 'credible', 'credit', 'creditwhich', 'cree', 'crew', 'cricut', 'crime', 'crimp', 'crinkly', 'crisp', 'crisper', 'criterion', 'critical', 'criticism', 'criticize', 'critique', 'cross', 'crossed', 'crossword', 'crowd', 'crucial', 'cruise', 'cruising', 'crumb', 'crummy', 'crush', 'cruzing', 'cry', 'crystal', 'crystalclear', 'ct', 'cu', 'cub', 'cubby', 'cube', 'cuff', 'culprit', 'cult', 'cumbersome', 'cumulative', 'cup', 'cupboard', 'curfew', 'curiosity', 'curious', 'curler', 'current', 'currently', 'curriculum', 'cursing', 'curve', 'curved', 'cushion', 'cushioning', 'custom', 'customer', 'customet', 'customizable', 'customization', 'customize', 'customized', 'customizing', 'cut', 'cute', 'cuter', 'cutoff', 'cutout', 'cutpast', 'cutrate', 'cutting', 'cv', 'cycle', 'cycled', 'cylinder', 'd', 'd600', 'da', 'dad', 'daddy', 'dael', 'daily', 'dailydoes', 'dallas', 'damage', 'damaged', 'damageeasy', 'damaging', 'dammit', 'damn', 'dan', 'dance', 'dancing', 'dandy', 'dang', 'danger', 'dangerous', 'daniel', 'dark', 'darkens', 'darker', 'darkness', 'darkpretty', 'darn', 'darth', 'dash', 'dashboard', 'dat', 'data', 'date', 'dated', 'daughter', 'daughter3', 'daughterhowever', 'daughterinlaw', 'daughterlove', 'daughtershe', 'daugter', 'daugther', 'dauther', 'david', 'day', 'dayall', 'dayand', 'daycare', 'dayconsif', 'daykeeps', 'daylight', 'daylightits', 'daysand', 'daysspam', 'dayssturdier', 'daysthey', 'dayswell', 'daythe', 'daytime', 'dayyou', 'dc', 'dcompared', 'dea', 'dead', 'deadbolt', 'deadboltwhen', 'deadnot', 'deadsucks', 'deadthen', 'deaf', 'deal', 'deal1050', 'deala', 'dealarrived', 'dealdisappointing', 'dealgreat', 'deali', 'dealill', 'dealing', 'dealprice', 'dealscheck', 'dealso', 'dealsusing', 'dealthe', 'dealusually', 'dearly', 'death', 'debate', 'debated', 'debating', 'debit', 'dec', 'decade', 'decay', 'deceased', 'december', 'decent', 'decently', 'decentnot', 'deceptively', 'decide', 'decided', 'decidedthat', 'deciding', 'decision', 'deck', 'decline', 'decode', 'decor', 'decorating', 'decoration', 'decorative', 'decorator', 'decrease', 'decribed', 'dedicate', 'dedicated', 'deduct', 'deducted', 'deductible', 'deed', 'deems', 'deep', 'deeper', 'deeply', 'deer', 'def', 'default', 'defeat', 'defeated', 'defect', 'defected', 'defective', 'defectlve', 'defectsgreat', 'defender', 'defense', 'defiantly', 'deficit', 'definate', 'definately', 'definently', 'definetly', 'definite', 'definitely', 'definition', 'definitly', 'defintely', 'defintiely', 'defribrilator', 'defuzzerclothing', 'degeneration', 'degradation', 'degrade', 'degree', 'deivce', 'dela', 'delay', 'delegating', 'delete', 'deleted', 'deletion', 'deliberately', 'delicate', 'delicious', 'delight', 'delighted', 'delightful', 'deliver', 'delivered', 'deliveredgetting', 'delivering', 'delivers', 'delivery', 'deliverycons', 'deliveryl', 'deliveryreally', 'deliveryupdate', 'deliverywhat', 'dell', 'demand', 'demanding', 'demensions', 'dementia', 'demerit', 'demon', 'demonstrate', 'demonstrated', 'density', 'dent', 'dentist', 'deny', 'deodorizer', 'department', 'departure', 'depend', 'dependability', 'dependable', 'dependent', 'depending', 'depends', 'depicted', 'deplete', 'depleted', 'deployment', 'depot', 'depotlowes', 'depth', 'deregistered', 'descent', 'desciples', 'descovering', 'describe', 'described', 'describedfine', 'describedlove', 'describing', 'description', 'desent', 'desert', 'deserve', 'deserved', 'deserves', 'desided', 'design', 'designated', 'designed', 'designing', 'desire', 'desired', 'desireyou', 'desk', 'desktop', 'desperate', 'desperation', 'despicable', 'despise', 'despite', 'destination', 'destroy', 'destroyed', 'destroying', 'destruction', 'destructive', 'detached', 'detachment', 'detail', 'detailed', 'detailing', 'detaillarge', 'detect', 'detecting', 'detector', 'detectorsin', 'deter', 'deterioration', 'determination', 'determine', 'determined', 'determining', 'deterred', 'deterrent', 'detract', 'detracts', 'developed', 'development', 'device', 'devicebut', 'devicei', 'deviceit', 'deviceits', 'devicejust', 'deviceonly', 'devicepros', 'devices11', 'devicesamazon', 'devicesi', 'devicesmy', 'devicesoriginal', 'devicethe', 'devicewell', 'devise', 'dewdrop', 'dfd', 'diabetes', 'diabetic', 'diagnosed', 'diagram', 'diameter', 'diamond', 'diaper', 'diapointed', 'diary', 'dice', 'dictate', 'dictionary', 'didi', 'didnt', 'didont', 'die', 'died', 'diedneeded', 'dif', 'differ', 'difference', 'differenceim', 'differencemay', 'differencethank', 'differencewhen', 'different', 'differentiate', 'differentiator', 'differently', 'differents', 'differentthe', 'difficult', 'difficulty', 'diffuser', 'difiitioin', 'dig', 'digging', 'digiscale', 'digit', 'digital', 'digitally', 'dim', 'dime', 'diming', 'diminish', 'diminished', 'diminishes', 'dimly', 'dimmed', 'dimmer', 'dimming', 'dims', 'dinner', 'dinostore', 'dip', 'direct', 'directed', 'direction', 'directionscolors', 'directly', 'directtv', 'dirt', 'dirtcheap', 'dirty', 'dirtying', 'disability', 'disable', 'disabled', 'disablei', 'disablesenables', 'disadvantage', 'disallow', 'disappear', 'disappeared', 'disappoint', 'disappointed', 'disappointing', 'disappointment', 'disappoints', 'disassembling', 'disaster', 'disastrous', 'disbelief', 'disc', 'discard', 'discarding', 'discerning', 'discharge', 'discharged', 'discharging', 'disclosure', 'discoloration', 'discolorationone', 'disconcerting', 'disconnect', 'disconnected', 'disconnecting', 'discontinue', 'discontinued', 'discount', 'discounted', 'discountedfree', 'discover', 'discovered', 'discoveredthe', 'discovering', 'discreet', 'discretely', 'discribed', 'discsi', 'discus', 'discussing', 'discussion', 'dish', 'dishescookanything', 'dishwasher', 'disintegrating', 'dislike', 'disliking', 'dismissed', 'disney', 'disneyland', 'dispenser', 'display', 'displayed', 'displaying', 'displaynice', 'displeased', 'disposable', 'dispose', 'disposed', 'disposing', 'dispute', 'disrespectful', 'disrupt', 'disrupts', 'dissapointed', 'dissappintes', 'dissappointed', 'dissatisfied', 'disservice', 'disspoinment', 'distance', 'distinctive', 'distinguish', 'distinguished', 'distorted', 'distortion', 'distracted', 'distracting', 'distractingnote', 'distraction', 'distractionthe', 'distracts', 'distressed', 'distribute', 'distributed', 'disturb', 'disturbing', 'ditch', 'dive', 'diversity', 'divice', 'divide', 'divider', 'dividing', 'division', 'dizzying', 'dj', 'dji', 'dmv', 'dnt', 'do', 'doa', 'doc', 'dock', 'docket', 'doctor', 'document', 'documentary', 'documentation', 'docx', 'doesalthough', 'doesi', 'doesit', 'doesnot', 'doesnt', 'doessome', 'dog', 'dogeared', 'dogearing', 'doggy', 'dohandy', 'dohyou', 'doi', 'doin', 'doingalso', 'dolby', 'doll', 'dollar', 'dollarsfireos', 'dollarsmy', 'dollarsoutput', 'dollarstore', 'dollartree', 'dominance', 'dominate', 'domino', 'domke', 'don', 'don5', 'donate', 'donated', 'done', 'donecheap', 'donecon', 'donenot', 'doneworks', 'donobody', 'dont', 'donut', 'doodad', 'doon', 'dooooo', 'door', 'doorbell', 'doorbuster', 'doorstep', 'dor', 'dorky', 'dorm', 'dormant', 'dosappointed', 'dose', 'dosent', 'dot', 'dotperinch', 'double', 'doubled', 'doubt', 'dough', 'down', 'down2', 'downer', 'downfall', 'downgrade', 'downgraded', 'downgrading', 'downhe', 'downhill', 'downit', 'download', 'downloadable', 'downloaded', 'downloading', 'downloads', 'downon', 'downright', 'downside', 'downsideagain', 'downstairs', 'downtime', 'dozen', 'dpi', 'dptrp1b', 'drag', 'drain', 'drainage', 'drained', 'draining', 'drainoverall', 'drama', 'dramatic', 'drastic', 'drastically', 'draugther', 'draw', 'drawback', 'drawer', 'drawerjust', 'drawing', 'dread', 'dream', 'dreamed', 'dreamtab', 'dreregistering', 'dressed', 'dresser', 'drift', 'drink', 'drinking', 'drip', 'drive', 'drivebuild', 'driveheadphones3d', 'driven', 'driver', 'drivesaving', 'driving', 'droid', 'drone', 'drop', 'dropbox', 'dropin', 'dropoff', 'dropout', 'droppable', 'dropped', 'dropping', 'dropproof', 'dropsthrows', 'drove', 'drug', 'drugstore', 'drum', 'dry', 'dryer', 'drying', 'dslr', 'dual', 'dualbattery', 'duarable', 'dubbles', 'dubious', 'dubuque', 'duck', 'dud', 'dude', 'due', 'duel', 'duh', 'dull', 'duly', 'dumb', 'dummy', 'dump', 'dumping', 'dung', 'dura', 'duraamazon', 'durability', 'durable', 'durably', 'duraccels', 'duracel', 'duracell', 'duracellenergizer', 'duracellenergizers', 'duracellhopefully', 'duracelli', 'duracellin', 'duracells', 'duracellslast', 'duracellwouldnt', 'duracels', 'duralast', 'duran', 'duration', 'durcaell', 'durcell', 'durecel', 'durecell', 'duresall', 'durrible', 'dust', 'dutifully', 'duty', 'dvd', 'dwarf', 'dx', 'dy', 'dying', 'dymo', 'dynamic', 'dynex', 'dyslexic', 'dystopia', 'e', 'ea', 'eady', 'eagerly', 'eagerness', 'ear', 'earbleeding', 'earbuds', 'earlier', 'earlierthis', 'earliest', 'early', 'earned', 'earning', 'earphone', 'earth', 'earthquake', 'ease', 'easel', 'easey', 'easier', 'easiest', 'easily', 'easilymy', 'easiness', 'easliy', 'east', 'easter', 'easy', 'easyer', 'easyopen', 'easyperfect', 'easythey', 'easyto', 'easytofollow', 'easytouse', 'eat', 'eating', 'eats', 'eaxh', 'ebay', 'ebook', 'ebooks', 'ebooksi', 'echo', 'echoanyway', 'echoi', 'echostill', 'echotap', 'echowhich', 'eclipsed', 'eco', 'ecobee', 'ecofriendly', 'ecological', 'economic', 'economical', 'economy', 'ecopackaging', 'ecopies', 'ecosphere', 'ecosystem', 'ecpected', 'ect', 'ed', 'edge', 'edgewise', 'edit', 'edited', 'editing', 'edition', 'educate', 'educated', 'educating', 'education', 'educational', 'educationaleady', 'educationali', 'educationally', 'eeeks', 'effect', 'effective', 'effectively', 'effectiveness', 'efficacy', 'efficiency', 'efficient', 'efficientgreat', 'efficiently', 'effiency', 'effort', 'effortless', 'effortlessly', 'effusive', 'eg', 'egad', 'egg', 'egger', 'eh', 'ehhh', 'ehhthey', 'ei', 'eight', 'eighth', 'eink', 'einstein', 'either', 'eitherthat', 'el', 'elaborate', 'elated', 'elder', 'elderly', 'electric', 'electrical', 'electricalelectronic', 'electrician', 'electricity', 'electrochemistry', 'electron', 'electronic', 'electronics', 'electronicsecti', 'electronicsgrandchildrens', 'electronicsi', 'electroniucs', 'elegant', 'element', 'elementary', 'elevated', 'eliminate', 'eliminated', 'eliminates', 'elite', 'elliptical', 'elmo', 'els111', 'else', 'else2', 'elseware', 'elsewhere', 'elsewhereoverall', 'em', 'email', 'emailed', 'emailing', 'embarrassing', 'embossed', 'emergency', 'emergeny', 'emgreat', 'emphasizing', 'employee', 'emptor', 'empty', 'enable', 'enabled', 'enables', 'encased', 'encephalitis', 'enclosure', 'encompasses', 'encounter', 'encountered', 'encountering', 'encourage', 'encouraged', 'encourages', 'encryption', 'encyclopedia', 'end', 'endbattery', 'ended', 'endedup', 'ending', 'endless', 'endorsement', 'endurance', 'endure', 'endured', 'eneagiser', 'ened', 'eneegizer', 'enegizer', 'eneloop', 'eneloops', 'energenizer', 'energerzier', 'energetically', 'energiser', 'energize', 'energized', 'energizer', 'energizerduracell', 'energizerduracellrayovac', 'energizerthey', 'energizervery', 'energy', 'energydollar', 'engage', 'engaged', 'engergizer', 'engine', 'engineer', 'engineered', 'engineering', 'enginzer', 'english', 'englishchinsespanishdutchfrench', 'enhance', 'enhancement', 'enhances', 'enigizeer', 'enjoy', 'enjoyable', 'enjoyed', 'enjoyes', 'enjoying', 'enjoyment', 'enjoys', 'enlarge', 'enlarged', 'enlarges', 'enougfh', 'enough', 'enoughbasically', 'enoughi', 'enought', 'enroll', 'enrolled', 'ensure', 'ensures', 'ent', 'enter', 'entered', 'entering', 'entertain', 'entertained', 'entertainig', 'entertaining', 'entertainment', 'entertains', 'entire', 'entirely', 'entity', 'entry', 'enuf', 'environment', 'environmental', 'environmentally', 'environmentaly', 'envy', 'epaper', 'epic', 'episode', 'equal', 'equally', 'equate', 'equates', 'equation', 'equipment', 'equipped', 'equivalent', 'erasing', 'ereader', 'ereaderi', 'ereaders', 'ereadersif', 'ereadersreading', 'ereadertablet', 'ereading', 'ergomatic', 'ergonomic', 'ergonomical', 'ergonomics', 'ergonomicshere', 'ernyyl', 'errand', 'error', 'escape', 'escaped', 'esp', 'especially', 'espn3netflixyoutube', 'essential', 'essentially', 'established', 'estate', 'estimate', 'estimated', 'estimation', 'etc', 'etcbattery', 'etcbetween', 'etcdurable', 'etceat', 'etci', 'etcif', 'etcit', 'etcmy', 'etcof', 'etcso', 'etcthere', 'etcthey', 'etcthis', 'etcweve', 'etekcity', 'eternity', 'ethe', 'ethernet', 'etrex', 'european', 'evaluate', 'evaluated', 'evaluates', 'evaluating', 'evaluation', 'evaluator', 'eve', 'even', 'evening', 'evenly', 'evenlydistributed', 'event', 'eventually', 'ever', 'everday', 'eveready', 'everpresent', 'everready', 'everseriously', 'everteady', 'everthey', 'everthing', 'everwhere', 'every', 'everybit', 'everybody', 'everybodys', 'everyday', 'everynight', 'everyone', 'everyonec', 'everyonethank', 'everyonethanks', 'everyready', 'everythig', 'everything', 'everythinggames', 'everytime', 'everytimevery', 'everyway', 'everywhere', 'evidence', 'evidenced', 'evil', 'evolution', 'evolve', 'evtug', 'ew', 'ex', 'exact', 'exactlo', 'exactly', 'exaggerating', 'exaggeration', 'exam', 'example', 'exceed', 'exceeded', 'exceeds', 'excel', 'excelent', 'excelente', 'excelentproduct', 'excellant', 'excellence', 'excellent', 'excellently', 'excellentthere', 'excellentwell', 'excels', 'except', 'exception', 'exceptional', 'exceptionally', 'exceptionbattery', 'exceptionthey', 'excess', 'excessive', 'excessively', 'exchange', 'exchanged', 'excited', 'excitedly', 'excitement', 'exciting', 'exclusive', 'exclusively', 'excursion', 'excuse', 'execution', 'executive', 'exelent', 'exercise', 'exercising', 'exhaust', 'exhibiting', 'exist', 'existed', 'existing', 'exit', 'exited', 'exorbitant', 'exp', 'expand', 'expandability', 'expandable', 'expanded', 'expanding', 'expands', 'expansion', 'expansive', 'expect', 'expectancy', 'expectation', 'expectationin', 'expectationsway', 'expected', 'expectedappropriate', 'expectedfit', 'expectedfits', 'expectedit', 'expectedno', 'expectedtoo', 'expectedworks', 'expecting', 'expectionations', 'expedited', 'expencted', 'expenditure', 'expends', 'expense', 'expensive', 'expensiveand', 'expensiveis', 'expensivewith', 'experiance', 'experience', 'experienced', 'experiencelike', 'experiment', 'experimental', 'experimented', 'experimenting', 'expert', 'expeted', 'expiration', 'expire', 'expired', 'expirence', 'expires', 'expiring', 'explain', 'explained', 'explainedother', 'explaining', 'explains', 'explanatory', 'explandable', 'explode', 'exploded', 'explodeso', 'explore', 'explored', 'explorer', 'exploring', 'explosion', 'exploted', 'exploxed', 'exposed', 'exposure', 'expressed', 'expression', 'ext', 'extend', 'extended', 'extension', 'extensive', 'extensively', 'extent', 'exterior', 'external', 'externally', 'extra', 'extract', 'extraneous', 'extraordinary', 'extrapolating', 'extratough', 'extreme', 'extremely', 'exxpected', 'eye', 'eyelash', 'eyesight', 'eyeswhen', 'ez', 'f', 'fa', 'fab', 'fabric', 'fabulous', 'fabulously', 'face', 'facebook', 'facebooking', 'facebookworks', 'facedown', 'facemask', 'facet', 'facetime', 'facewhen', 'facing', 'fact', 'factor', 'factory', 'factorywhen', 'factplease', 'fade', 'fadedwore', 'fail', 'failed', 'failing', 'fails', 'failure', 'fair', 'fairly', 'fairy', 'faith', 'fake', 'fall', 'fallen', 'falling', 'fallout', 'falmeless', 'false', 'familiar', 'familiarizing', 'family', 'famous', 'fan', 'fan1', 'fanastic', 'fanatic', 'fancier', 'fanciest', 'fancy', 'fancyand', 'fantastic', 'fantastically', 'fantasticnote', 'far', 'farall', 'fare', 'fargreat', 'farhighly', 'farm', 'farmuch', 'farno', 'farone', 'farpictures', 'farproperfect', 'fart', 'farthe', 'farther', 'fascinated', 'fashion', 'fashionable', 'fashioned', 'fast', 'fastand', 'fasteasy', 'faster', 'fastest', 'fastgaming', 'fastgreat', 'fasti', 'fastrecommended8', 'fastresponsive', 'fat', 'fat32', 'father', 'fatherinlaw', 'fatigue', 'fault', 'faulty', 'fav', 'fave', 'favor', 'favorably', 'favorite', 'favourite', 'favs', 'fay', 'fb', 'fbi', 'fbs', 'fe', 'feachers', 'fear', 'fearful', 'feather', 'featuers', 'feature', 'featured', 'featureearlier', 'featurei', 'featuresexpansion', 'featuresi', 'featuresjust', 'featurewe', 'featuring', 'feaures', 'feb', 'february', 'februarymarch', 'fed', 'fee', 'feed', 'feedback', 'feeder', 'feel', 'feeli', 'feeling', 'fell', 'fellow', 'felt', 'feltlike', 'female', 'fence', 'ferocious', 'few', 'fewcause', 'fewer', 'fewminutes', 'fi', 'fianc', 'fiance', 'fiber', 'fiddle', 'fiddled', 'fiddler', 'fide', 'fidelity', 'field', 'fierce', 'fiery', 'fifteen', 'fifth', 'fifty', 'figertips', 'fight', 'fighting', 'figthing', 'figure', 'figured', 'figurine', 'figuring', 'file', 'filesso', 'fill', 'filled', 'filling', 'film', 'filter', 'filtered', 'fin', 'final', 'finally', 'financial', 'find', 'finding', 'fine', 'finenone', 'finepix', 'finesame', 'finger', 'fingerprint', 'fingertip', 'finicky', 'finish', 'finished', 'finishing', 'fintie', 'fir', 'fire', 'fire1', 'fire7s', 'fire8', 'fire8s', 'fired', 'fireeasy', 'firefox', 'firefriendly', 'firehd', 'firehd8', 'firei', 'fireit', 'fireits', 'firends', 'firenot', 'fireonce', 'fireos', 'firestick', 'firestickmy', 'firesticks', 'firetv', 'firewhile', 'firm', 'firmly', 'firmware', 'first', 'firstlasts', 'firstly', 'firstrecently', 'firsttime', 'firstunfortunately', 'firstupdate', 'firstwith', 'fish', 'fishing', 'fit', 'fitbit', 'fitness', 'fitso', 'fitst', 'fitted', 'fitting', 'five', 'fiveyearold', 'fix', 'fixed', 'fixture', 'fizzling', 'fl', 'flag', 'flagship', 'flameless', 'flap', 'flash', 'flashiest', 'flashing', 'flashlight', 'flashlight200', 'flashlight400', 'flashlightnote', 'flashlightselectric', 'flashlightsthese', 'flat', 'flatness', 'flatter', 'flattered', 'flavor', 'flaw', 'flawless', 'flawlessly', 'flawlesslyeasy', 'flexibility', 'flexible', 'flextronics', 'flicker', 'flickering', 'flight', 'flimsy', 'flip', 'flipping', 'floating', 'floor', 'floored', 'florida', 'flow', 'flower', 'fluctuate', 'fluid', 'fluidity', 'fluke', 'flush', 'fly', 'flyer', 'flying', 'fml', 'fo', 'foam', 'focus', 'focused', 'foe', 'foil', 'fold', 'folded', 'folder', 'foldover', 'foliostyle', 'folk', 'follow', 'followed', 'following', 'fondly', 'fone', 'font', 'food', 'fool', 'fooled', 'fooling', 'foor', 'foot', 'football', 'footprint', 'for60', 'foray', 'forbattery', 'forbid', 'forcast', 'force', 'forced', 'forcethem', 'forcibly', 'fordownloads', 'forecast', 'forego', 'foreign', 'foremost', 'foreseeable', 'forever', 'foreverbuying', 'forevergreat', 'forevertwo', 'forget', 'forgetful', 'forgets', 'forgetthese', 'forgetting', 'forgive', 'forgot', 'forgotten', 'forgottendo', 'fori', 'forit', 'fork', 'forkids', 'forking', 'forlucky', 'form', 'formally', 'formance', 'format', 'formated', 'formatted', 'formed', 'former', 'forming', 'formulation', 'forover', 'forrest', 'forsaking', 'forsee', 'forso', 'fort', 'forte', 'forth', 'forthcoming', 'forthey', 'fortunate', 'fortunately', 'fortune', 'forum', 'forward', 'forwardback', 'forwarded', 'fory', 'foster', 'fot', 'fought', 'fouled', 'found', 'four', 'foursome', 'fourth', 'fouryear', 'fouryearold', 'fox', 'fraction', 'fragile', 'frame', 'frameless', 'framework', 'francisco', 'frankenstein', 'frankfort', 'frankly', 'fre', 'freak', 'freakin', 'freaking', 'freat', 'free', 'freebie', 'freedom', 'freefor', 'freely', 'freeplay', 'freespace', 'freetime', 'freetimeunlimited', 'freeze', 'freezer', 'freezing', 'freight', 'freind', 'french', 'frequent', 'frequently', 'fresh', 'freshener', 'fresher', 'freshfull', 'freshly', 'freshness', 'friction', 'friday', 'fridaycyber', 'fridaypros', 'fridaywhat', 'fridge', 'friend', 'friendas', 'frienday', 'friendly', 'friendlyand', 'friendlycon', 'friendlygood', 'friendlyi', 'friendlylong', 'friendsfound', 'friendsvery', 'frill', 'fritz', 'fro', 'frog', 'fromsales', 'front', 'fronti', 'frontlit', 'frontrear', 'frother', 'froze', 'frozen', 'frugal', 'fruit', 'frustrated', 'frustrates', 'frustrating', 'frustratingwith', 'frustration', 'frustrationfree', 'fry', 'fsntastic', 'ft', 'fuel', 'fueling', 'fugured', 'fujitsu', 'ful', 'fulcrum', 'fulfill', 'fulfillment', 'fulfills', 'full', 'fuller', 'fullfeatured', 'fullfledged', 'fullsize', 'fullsized', 'fully', 'fumbling', 'fun', 'funcitonality', 'functinality', 'functiomal', 'function', 'functional', 'functionality', 'functionalityrecommend', 'functionalive', 'functioned', 'functioning', 'functionlime', 'fundraiser', 'funny', 'funnythe', 'funtional', 'furby', 'furious', 'furnace', 'furniture', 'furthermore', 'fuss', 'fustration', 'futile', 'futon', 'future', 'futuristic', 'fuzzy', 'fyi', 'g', 'g3', 'gadget', 'gadgetsremotes', 'gagets', 'gain', 'gained', 'gaining', 'galaxy', 'gallery', 'gallon', 'game', 'gameboy', 'gamecircle', 'gamehis', 'gamemovie', 'gameplay', 'gameprogram', 'gamer', 'gamers', 'gamesactivity', 'gamesadults', 'gamesapps', 'gamesdecent', 'gamesdo', 'gameseasy', 'gamesfacebook', 'gamesi', 'gameso', 'gamesonly', 'gamespros', 'gamesvideos', 'gameswhile', 'gaming', 'gamingtv', 'ganes', 'garabge', 'garage', 'garbage', 'garbagei', 'garbagethey', 'garden', 'gardening', 'garmin', 'gas', 'gate', 'gateway', 'gather', 'gathered', 'gathering', 'gauge', 'gaurantee', 'gave', 'gb', 'gbthey', 'gbthis', 'gbyte', 'gear', 'geared', 'gearvery', 'geating', 'gecksqd', 'geek', 'gem', 'gen', 'general', 'generally', 'generates', 'generation', 'generationworking', 'generic', 'generous', 'generously', 'genius', 'genkindle', 'genre', 'gentle', 'genuine', 'genuinely', 'george', 'georgia', 'geotrax', 'germany', 'get', 'getgo', 'getting', 'getum', 'gety', 'gf', 'ghj', 'ghost', 'ghz', 'giant', 'gift', 'giftand', 'giftdid', 'gifted', 'gifthe', 'gifti', 'giftprize', 'giftshe', 'giftsthe', 'giftsturdy', 'giftthe', 'giftthey', 'gig', 'gigabit', 'gigabyte', 'gigahertz', 'gigantic', 'gina', 'gingerbread', 'girl', 'girlfriend', 'girly', 'git', 'give', 'giveaway', 'given', 'giver', 'giving', 'gizmo', 'glad', 'glade', 'gladly', 'glambaby', 'glance', 'glare', 'glarethe', 'glass', 'glassestablet', 'glear', 'gleeful', 'glitch', 'glitchi', 'glitchy', 'glossy', 'glove', 'gloveboxes', 'gloveif', 'glow', 'glowing', 'glowlight', 'glue', 'glued', 'gmail', 'go', 'goal', 'gobble', 'god', 'godchild', 'goddaughter', 'godsend', 'godson', 'gofinally', 'gofully', 'goggle', 'goggleplay', 'goggles', 'gogreat', 'going', 'goingit', 'gold', 'goldblack', 'golden', 'goldplated', 'gona', 'gone', 'gonna', 'goo', 'good', 'goodand', 'goodbut', 'goodbutamazon', 'goodbye', 'goodcase', 'gooddidnt', 'goodexcellent', 'goodfor', 'goodgifted', 'goodgood', 'goodhe', 'goodi', 'goodidnt', 'goodive', 'goodness', 'goodnight', 'goodreads', 'goodso', 'goodthank', 'goodthanks', 'goodthe', 'goodughthen', 'goodusing', 'goodwork', 'goodworthless', 'goodwould', 'goody', 'goof', 'goofy', 'goog', 'google', 'googleandroid', 'googlecom', 'googlepay', 'googleplay', 'googleplayappstore', 'goood', 'gooood', 'goowen', 'gor', 'gorecommended', 'gorgeous', 'gosh', 'got', 'gotchas', 'goto', 'gots', 'gotta', 'gotten', 'gps', 'gpu', 'graat', 'grab', 'grabbed', 'grabbing', 'grade', 'graded', 'grader', 'gradient', 'gradual', 'gradually', 'graduate', 'graduated', 'graduation', 'graficsand', 'grainy', 'gramps', 'gran', 'grand', 'grandaughter', 'grandaughters', 'grandbabie', 'grandbabies', 'grandbaby', 'grandboy', 'grandchild', 'grandchildrens', 'granddaughter', 'granddaugter', 'granddaugther', 'grandfather', 'grandfatherinlaw', 'grandkids', 'grandkidsages', 'grandkidsand', 'grandma', 'grandmother', 'grandniece', 'grandpa', 'grandparent', 'grandson', 'grandson8loves', 'grandsonhe', 'grandtoddler', 'grankids', 'granted', 'granville', 'graph', 'graphic', 'graphical', 'graphing', 'grasp', 'grass', 'grassyass', 'grat', 'grate', 'grateful', 'gratifying', 'gravitated', 'gravity', 'gray', 'gre', 'grea', 'greaatttt', 'great', 'great3', 'greatand', 'greatbest', 'greatbought', 'greatcame', 'greatconsnot', 'greatdifficult', 'greateasy', 'greater', 'greatest', 'greatf', 'greatgrandchildrens', 'greatgranddaughter', 'greatgrandson', 'greathappy', 'greathere', 'greati', 'greatlast', 'greatlove', 'greatly', 'greatplease', 'greatprice', 'greatproduct', 'greatsolid', 'greatthank', 'greatthe', 'greatuntil', 'greatvery', 'greatvprice', 'greatyou', 'greek', 'green', 'greenish', 'greenishyellowish', 'grest', 'grew', 'grey', 'griendly', 'grin', 'grind', 'grinder', 'grip', 'gripe', 'gripping', 'grippy', 'gritty', 'groan', 'grocer', 'grocery', 'grooming', 'grossed', 'ground', 'group', 'grouped', 'grouping', 'groupon', 'grow', 'growing', 'grown', 'grownup', 'grows', 'grr', 'grrat', 'grrrrrrreeeeeeeeaaaaaattttttt', 'grt', 'gteat', 'guam', 'guarantee', 'guaranteed', 'guard', 'guess', 'guessdont', 'guessed', 'guessing', 'guest', 'gui', 'guide', 'guided', 'guitar', 'gullible', 'gun', 'gungf', 'gunman', 'guppy', 'gur', 'gurantee', 'gurfr', 'guru', 'gut', 'gutter', 'guy', 'guzzler', 'gym', 'h', 'ha', 'habe', 'habit', 'habitually', 'hack', 'hadit', 'hadnt', 'haf', 'haha', 'hail', 'hair', 'haircut', 'half', 'hall', 'hallmark', 'halloween', 'ham', 'hama', 'hammer', 'hand', 'handbag', 'handed', 'handful', 'handheld', 'handhelds', 'handi', 'handicappedi', 'handing', 'handle', 'handled', 'handlemy', 'handling', 'handme', 'handsdown', 'handset', 'handsfree', 'handsometimes', 'handson', 'handsupdate', 'handsyou', 'handwriting', 'handy', 'handydandy', 'handythese', 'hang', 'hanging', 'happen', 'happend', 'happened', 'happening', 'happeningthere', 'happens', 'happensthanks', 'happier', 'happierbuy', 'happily', 'happiness', 'happy', 'happysuch', 'happythank', 'haptic', 'harbor', 'harbour', 'hard', 'hardback', 'hardcore', 'hardcover', 'hardearned', 'harder', 'hardest', 'hardly', 'hards', 'hardship', 'hardware', 'hardwarei', 'hardwark', 'hardwood', 'harmful', 'harmony', 'harry', 'harsh', 'hasall', 'hascamera', 'hasle', 'hasmore', 'hasnt', 'hassle', 'hasslevery', 'hasstle', 'hat', 'hate', 'hated', 'hating', 'haul', 'haveeverything', 'havefound', 'haveing', 'haveit', 'havent', 'havet', 'havethe', 'havethen', 'havethis', 'havnt', 'hawaii', 'hay', 'hazardous', 'hbo', 'hd', 'hd10', 'hd2', 'hd7', 'hd8', 'hd8s', 'hdfire', 'hdmi', 'hds', 'hdtv', 'hdtvfire', 'hdx', 'he', 'head', 'headache', 'header', 'heading', 'headlamp', 'headlight', 'headline', 'headphone', 'headrest', 'headset', 'headstart', 'healthy', 'heaper', 'hear', 'heard', 'hearing', 'heart', 'heartbeat', 'heat', 'heater', 'heating', 'heaven', 'heavier', 'heavily', 'heaviness', 'heavy', 'heavyannoying', 'heavyduty', 'heavylove', 'heavyweight', 'heck', 'heckuva', 'hectic', 'hed', 'heed', 'heft', 'hefty', 'height', 'held', 'helicopter', 'helium', 'hell', 'hello', 'help', 'helped', 'helpedalways', 'helper', 'helpful', 'helpfulmy', 'helpfulthe', 'helping', 'hence', 'hep', 'hepatic', 'herb', 'here', 'hereafter', 'herei', 'herekeep', 'hererecommendedgo', 'herethe', 'herit', 'hero', 'herselfvery', 'hershe', 'hertwo', 'hesitant', 'hesitate', 'hesitation', 'hevc', 'hey', 'heyit', 'hf', 'hi', 'hiccup', 'hid', 'hidden', 'hide', 'hiding', 'high', 'highdefinition', 'highdrain', 'highdraw', 'highend', 'higher', 'higherdrain', 'higherend', 'higherpriced', 'highest', 'highestenergy', 'highfull', 'highlight', 'highlighted', 'highly', 'highlygreat', 'highperformance', 'highpower', 'highpowerdrain', 'highquality', 'highres', 'highresolution', 'highschool', 'hight', 'hightech', 'highuse', 'highway', 'hii', 'hike', 'hiking', 'hilariously', 'himsince', 'hindrancenot', 'hindsight', 'hint', 'hip', 'hipster', 'hire', 'hiresolution', 'hiss', 'historywith', 'hit', 'hitch', 'hitormisshad', 'hitting', 'hmmm', 'hmmmmpaid', 'ho', 'hoard', 'hobby', 'hockey', 'hog', 'hogging', 'hold', 'holder', 'holding', 'holdlightweight', 'holdswhen', 'hole', 'holei', 'holiday', 'hollow', 'hols', 'holter', 'holy', 'home', 'homedics', 'homeless', 'homemade', 'homepage', 'homer', 'homerun', 'homeschool', 'homethe', 'homework', 'honeatly', 'honest', 'honestly', 'honestthese', 'honesty', 'honeycomb', 'honeywell', 'hoo', 'hook', 'hooked', 'hooking', 'hookup', 'hoop', 'hoopla', 'hope', 'hoped', 'hopeful', 'hopefully', 'hoping', 'horizontal', 'horizontally', 'horoscope', 'horrendous', 'horrible', 'horriblejust', 'horribly', 'horror', 'horsepower', 'hose', 'hosed', 'hospital', 'host', 'hot', 'hotel', 'hotmail', 'hotspot', 'hound', 'hour', 'hourmy', 'houroff', 'hoursafter', 'hoursday', 'hourshould', 'hoursthe', 'houryay', 'house', 'housed', 'household', 'housethey', 'housetraining', 'housework', 'hover', 'howard', 'however', 'howeveri', 'hows', 'howto', 'hp', 'hr', 'hroat', 'hrs200', 'hrs400', 'hrsas', 'hrsmy', 'hsve', 'html', 'httpsaintladcominstallgoogleplaystoreonkindlefire', 'httpswwwamazoncombaldwin8252ac1cylinderelectronicdeadboltdpb00441ucy0', 'httpswwwamazoncomdpb005g7sby4', 'httpswwwamazoncomfenixhl23headlampxpg2fenixhl23xpg2golddpb00sh08uxy', 'httpswwwamazoncomgppdpprofilea35h8y36s43csgrefcmcrdppdp', 'httpswwwhowtogeekcom232726howtoinstallthegoogleplaystoreonyouramazonfiretabletthe', 'hub', 'hubby', 'hue', 'hug', 'huge', 'hugh', 'huh', 'hulu', 'hulunetflix', 'human', 'humble', 'humbly', 'humbug', 'humidity', 'humming', 'hundred', 'hundredth', 'hung', 'hunt', 'hunting', 'hurricane', 'hurriedly', 'hurry', 'hurt', 'hurting', 'husband', 'husbandand', 'husbandhe', 'husbandso', 'hut', 'hvac', 'hve', 'hw', 'hy', 'hybrid', 'hyp', 'hype', 'hyped', 'hypersensitive', 'hzdc', 'ia', 'iam', 'ibm', 'icant', 'ice', 'iceberg', 'iceland', 'icing', 'icon', 'id', 'idea', 'ideal', 'idems', 'identical', 'identify', 'identifying', 'idigital', 'idisappointed', 'idk', 'idle', 'ie', 'iffy', 'ifnnot', 'ifttt', 'ifwhen', 'ignorance', 'ignorant', 'ignore', 'ignored', 'iheart', 'iheartradio', 'ii', 'iimited', 'ijnfo', 'ikea', 'ill', 'illiterate', 'illl', 'illumination', 'illusion', 'ilovemy', 'im', 'imac', 'image', 'imaginable', 'imagination', 'imagine', 'imagined', 'imaging', 'imho', 'immediate', 'immediately', 'immense', 'immensely', 'immenselyi', 'immersive', 'immortal', 'imo', 'impact', 'impacted', 'impaired', 'impatient', 'impede', 'implementation', 'implemented', 'implied', 'imporoved', 'importance', 'important', 'importantly', 'imported', 'imposed', 'impossible', 'impossibly', 'impress', 'impressed', 'impressedits', 'impressedthese', 'impressing', 'impression', 'impressive', 'impressivethese', 'imprinted', 'improperly', 'improve', 'improved', 'improvement', 'improvents', 'improves', 'improving', 'improvments', 'impulse', 'imy', 'ina', 'inability', 'inaccuratewhich', 'inadequate', 'inadvertant', 'inadvertently', 'inapp', 'inappropriate', 'inbuilt', 'incapability', 'incase', 'inch', 'inchby', 'incident', 'inclement', 'include', 'included', 'includedsuch', 'includes', 'including', 'inclusion', 'inclusionposition', 'income', 'incompatibility', 'inconsistent', 'inconvenience', 'inconveniencei', 'inconvenient', 'inconvient', 'incorporate', 'increase', 'increased', 'increasing', 'increasingly', 'incredible', 'incredibly', 'increideble', 'incrementally', 'incurred', 'indeed', 'indefinite', 'independant', 'independence', 'independent', 'indept', 'indestructable', 'indestructible', 'india', 'indiana', 'indicate', 'indicated', 'indicates', 'indication', 'indicator', 'indigenous', 'indispensable', 'indistinguishable', 'individual', 'individually', 'indonesia', 'indoor', 'indooroutdoor', 'indoors', 'induced', 'inducing', 'industrial', 'industry', 'inedible', 'ineffective', 'ineligible', 'inevitably', 'inexpeisve', 'inexpensive', 'inexplicably', 'inexpressive', 'inexspensive', 'infact', 'infamous', 'infant', 'inferior', 'infinite', 'infinitely', 'influence', 'info', 'information', 'informative', 'informed', 'informs', 'infrared', 'infrequent', 'infrequently', 'ingredient', 'inherited', 'inhome', 'initial', 'initially', 'ink', 'inlaw', 'inlaws', 'inmaking', 'inna', 'inner', 'innovation', 'innovative', 'inout', 'input', 'inputting', 'inquiring', 'insane', 'insanely', 'insensitive', 'insert', 'inserted', 'inserting', 'inside', 'insideim', 'insideoverall', 'insider', 'insignia', 'insisted', 'insistence', 'insitu', 'inspecting', 'inspection', 'inspiron', 'insta', 'instagram', 'instagramall', 'install', 'installation', 'installed', 'installedif', 'installing', 'instance', 'instancei', 'instant', 'instantly', 'instead', 'insteadi', 'instore', 'instructed', 'instructio', 'instruction', 'instructional', 'instructive', 'instrument', 'instrumentals', 'insufficent', 'insulin', 'insurance', 'insure', 'insures', 'int', 'intact', 'integral', 'integrate', 'integrated', 'integrates', 'integration', 'integrity', 'intelligent', 'intend', 'intended', 'intending', 'intense', 'intensity', 'intent', 'intention', 'interact', 'interaction', 'interactive', 'interchangeable', 'intercom', 'interconnected', 'interest', 'interested', 'interesting', 'interface', 'interfaceneeds', 'interfacing', 'interfere', 'interferes', 'interior', 'intermediate', 'intermittently', 'interms', 'intern', 'internal', 'internally', 'internals', 'international', 'internationally', 'internet', 'internet15gb', 'internetcamera', 'interpreted', 'interpreting', 'interrupted', 'interruption', 'interval', 'intervalometers', 'inthe', 'intimidated', 'intimidating', 'intrigued', 'intro', 'introduce', 'introduced', 'introducing', 'introduction', 'intrusive', 'intrusiveoverall', 'intuitive', 'intuitivevery', 'invasive', 'invent', 'invention', 'inventory', 'inverted', 'invest', 'invested', 'investigated', 'investigation', 'investing', 'investment', 'investmenti', 'investmentvery', 'involve', 'involved', 'involving', 'inward', 'io', 'iob', 'ion', 'iosandroid', 'ip', 'ipad', 'ipad2', 'ipadbut', 'ipadfor', 'ipadmini', 'ipadmy', 'ipadpro', 'ipads', 'ipadsamsug', 'ipadsbut', 'iphone', 'iphonepad', 'iphones', 'ipod', 'ireader', 'irrelevant', 'irrigation', 'irrigator', 'irritating', 'irritatingcolor', 'ise', 'iseasy', 'ishokey', 'island', 'isle', 'islikeany', 'isnot', 'isnt', 'isolated', 'israel', 'issue', 'issued', 'issueread', 'issuesfirst', 'issuesi', 'isthis', 'isulation', 'it3', 'itafter', 'itand', 'itas', 'itbattery', 'itbetter', 'itbottom', 'itcheaper', 'itcompatible', 'itd', 'iteasy', 'item', 'itemeasy', 'itemfast', 'itemgets', 'itemi', 'itemjunk', 'itemsbottom', 'itexcellent', 'itfigure', 'itfor', 'itglad', 'itgreat', 'ithave', 'iti', 'itif', 'itim', 'itin', 'itit', 'itits', 'itjust', 'itl', 'itll', 'itmore', 'itmuch', 'itmy', 'itmyself', 'itnice', 'itnolearning', 'itnoqw', 'itnough', 'itonly', 'itother', 'itprice', 'itprobably', 'itreading', 'itsafe', 'itshe', 'itshes', 'itso', 'itthat', 'itthe', 'itthere', 'ittt', 'itty', 'itunes', 'itvery', 'itwatch', 'itwe', 'itwell', 'itwhen', 'itworked', 'itwould', 'iut', 'iv', 'ive', 'iwas', 'iwe', 'ixl', 'iô', 'jack', 'jacket', 'jackpot', 'jammed', 'jamuary', 'jan', 'jansport', 'january', 'japan', 'japanese', 'japanesemade', 'jay', 'jazz', 'jazzed', 'jbl', 'jealous', 'jean', 'jeep', 'jeff', 'jefferson', 'jerk', 'jesus', 'jet', 'jiggy', 'jimmie', 'jissela', 'jk150601', 'jn', 'job', 'jod', 'john', 'johnny', 'join', 'joint', 'joke', 'jon', 'jostled', 'joule', 'joy', 'jr', 'judge', 'juggling', 'juice', 'juju', 'july', 'jumbled', 'jump', 'jumped', 'jumper', 'jumping', 'june', 'junk', 'junkiest', 'junksave', 'junky', 'jury', 'justa', 'justification', 'justify', 'juvenile', 'jynger', 'k', 'k8d', 'kangaroo', 'kaspersky', 'kdis', 'keep', 'keeper', 'keeping', 'kendal', 'kept', 'kerplot', 'kevo', 'key', 'keyboard', 'keyboardi', 'keyboardimpossible', 'keyboardsmice', 'keyboardtrackpad', 'keyless', 'keypad', 'keysadditionally', 'kf8', 'ki8ds', 'kick', 'kickbootie', 'kicked', 'kicking', 'kickstand', 'kid', 'kiddie', 'kidding', 'kiddingi', 'kiddo', 'kiddos', 'kiddy', 'kidfriendly', 'kidproof', 'kidproofi', 'kidseasy', 'kidsgood', 'kidsit', 'kidsits', 'kidsmode', 'kidsthey', 'kidswe', 'kidthe', 'kidz', 'kill', 'killed', 'killer', 'killing', 'kind', 'kinda', 'kindal', 'kinde', 'kindel', 'kindels', 'kindergarten', 'kindergartenersalso', 'kindie', 'kindle', 'kindle10', 'kindle2', 'kindle4nt', 'kindleamazon', 'kindled', 'kindleeasy', 'kindleereader', 'kindleeverything', 'kindleexcellant', 'kindlefire', 'kindlehowever', 'kindlei', 'kindleis', 'kindleit', 'kindleized', 'kindlelishous', 'kindleluckily', 'kindlely', 'kindlemakes', 'kindlemy', 'kindler', 'kindles', 'kindlestablets', 'kindlethe', 'kindlethis', 'kindleupgrading', 'kindlewent', 'kindleworks', 'kindlle', 'kindly', 'king', 'kink', 'kiosk', 'kirkland', 'kirklands', 'kissing', 'kit', 'kitchen', 'kitten', 'kitty', 'kkep', 'knack', 'knew', 'knife', 'knifeas', 'knitting', 'kno', 'knob', 'knock', 'knocked', 'knocking', 'knockoff', 'knockoffsand', 'know', 'knowing', 'knowledge', 'knowledgeable', 'knowledged', 'knowledgeuse', 'known', 'knowthese', 'kns', 'kobo', 'kodak', 'kodi', 'koozie', 'kore', 'koslosky', 'kudos', 'kuds', 'kurio', 'kurios', 'kwikset', 'ky', 'l', 'l2', 'la', 'lab', 'label', 'labeled', 'labeledmade', 'labeler', 'labor', 'labtop', 'lack', 'lacked', 'lacking', 'lackluster', 'ladder', 'lady', 'lag', 'lagginess', 'lagging', 'laggs', 'laggy', 'lagi', 'lake', 'lame', 'lamented', 'laminate', 'laminated', 'lamp', 'landed', 'landfill', 'landscape', 'language', 'languagesapps', 'lantern', 'lap', 'laptop', 'laptopa', 'laptopampmini', 'laptopits', 'laptopthe', 'large', 'larger', 'largest', 'largestthinnest', 'laser', 'lask', 'last', 'lastafter', 'lastbravo', 'lasted', 'lastedn', 'lasti', 'lasting', 'lastinggood', 'lastinghave', 'lastlonger', 'lastly', 'lastminute', 'laston', 'lastperform', 'lastsnow', 'lastthis', 'lastwhat', 'lat', 'late', 'lately', 'later', 'laterdead', 'laterthis', 'latest', 'latley', 'latter', 'laugh', 'laughing', 'launch', 'launched', 'launcher', 'laundry', 'law', 'lawrence', 'lay', 'layer', 'laying', 'layman', 'layout', 'lazer', 'lazy', 'lcd', 'lcdbased', 'le', 'lead', 'leader', 'leading', 'leaf', 'leaiagel', 'leak', 'leakage', 'leakagethat', 'leaked', 'leakedupdateok', 'leaker', 'leaking', 'leakingjust', 'leakswork', 'leaky', 'lean', 'leaning', 'leap', 'leapfrog', 'leappads', 'leapster', 'learn', 'learned', 'learner', 'learnered', 'learning', 'learns', 'leary', 'least', 'leasti', 'leather', 'leave', 'leaving', 'lecture', 'led', 'ledfake', 'leery', 'left', 'lefti', 'leg', 'legit', 'legitimately', 'lego', 'leisure', 'leisurereading', 'lemon', 'lending', 'length', 'lengthy', 'lenovo', 'lens', 'lensand', 'lessa', 'lesser', 'lesserknown', 'lesson', 'let', 'letchall', 'letter', 'lettering', 'lettersized', 'letting', 'level', 'lg', 'li', 'lib', 'liberal', 'library', 'librarystore', 'licensing', 'lick', 'lid', 'lie', 'lieu', 'lieutenant', 'life', 'lifeconsfeels', 'lifeconsno', 'lifeconsnone', 'lifecycle', 'lifei', 'lifein', 'lifelong', 'lifeor', 'lifesaver', 'lifeso', 'lifespan', 'lifestyle', 'lifesupports', 'lifetime', 'lifewould', 'lift', 'lifted', 'lifting', 'lifw', 'lifx', 'ligher', 'light', 'lighted', 'lightening', 'lightens', 'lighter', 'lighterfaster', 'lightest', 'lighting', 'lightlove', 'lightly', 'lightness', 'lightning', 'lightsaber', 'lightsguess', 'lightthe', 'lightweigh', 'lightweight', 'lighweight', 'ligths', 'lije', 'like', 'likealso', 'liked', 'likely', 'likelyotherwise', 'likemost', 'likenit', 'likeswould', 'likewould', 'liking', 'lil', 'limit', 'limitation', 'limited', 'limiting', 'limitssuch', 'lindle', 'line', 'lined', 'liner', 'lineso', 'lining', 'link', 'linked', 'linking', 'linsay', 'lint', 'linus', 'liquid', 'list', 'listacdelco', 'listed', 'listen', 'listened', 'listening', 'listenit', 'listens', 'listing', 'listnever', 'listof', 'lit', 'litchi', 'litcost', 'lite', 'literal', 'literally', 'lithium', 'lithiumi', 'litter', 'litthe', 'little', 'littlebit', 'live', 'lived', 'liver', 'living', 'llike', 'llite', 'lo', 'load', 'loaded', 'loading', 'loadingan', 'loadout', 'loadsand', 'loan', 'loathe', 'loathing', 'local', 'locally', 'locate', 'located', 'location', 'lock', 'locked', 'locking', 'lockscreen', 'log', 'logged', 'logging', 'logic', 'login', 'logitech', 'logo', 'lokes', 'lol', 'lolipop', 'lonely', 'long', 'longa', 'longafter', 'longbut', 'longdont', 'longer', 'longerdont', 'longernoticed', 'longerthis', 'longerupdate', 'longest', 'longestlasting', 'longevity', 'longing', 'longlasting', 'longlife', 'longlived', 'longperformance', 'longrun', 'longshot', 'longterm', 'longthe', 'longtime', 'look', 'looked', 'lookin', 'looking', 'looklike', 'looklove', 'lookstop', 'loooks', 'loooong', 'loooooong', 'looooooong', 'loooooove', 'loop', 'loopy', 'loose', 'loosened', 'loosens', 'loosing', 'los', 'lose', 'losewrong', 'losing', 'loss', 'lost', 'lot', 'lotcertainly', 'loti', 'lotmore', 'lotta', 'lotthanks', 'lotthats', 'lotthe', 'loud', 'louder', 'loudly', 'loudness', 'loudpop', 'lounger', 'lounging', 'lousy', 'love', 'loved', 'loveexcellent', 'lovely', 'lovem', 'lover', 'loverstoo', 'lovethis', 'lovin', 'loving', 'lovit', 'low', 'lowbattery', 'lowcost', 'lowdrain', 'lowend', 'lower', 'lowerend', 'lowering', 'lowes', 'lowest', 'lowlight', 'lowpower', 'lowpowered', 'lowpressure', 'lowpriced', 'lowwattage', 'loyal', 'loyalty', 'lrice', 'lst', 'lte', 'luck', 'luckily', 'lucky', 'luddite', 'lug', 'lugging', 'luke', 'luna', 'lunch', 'lunchbox', 'lunchtime', 'luv', 'lying', 'lynordering', 'lytes', 'm', 'mac', 'macair', 'macbook', 'machine', 'machinery', 'macular', 'mad', 'made', 'madegood', 'madehigh', 'madethe', 'madman', 'mag', 'magazine', 'magenta', 'magic', 'magical', 'magically', 'magicone', 'maglight', 'maglite', 'maglites', 'magnet', 'magnetic', 'magnetically', 'magnificent', 'magnifying', 'mah', 'mail', 'mailed', 'mailer', 'mailman', 'mailthe', 'main', 'mainly', 'mainstream', 'maintain', 'maintains', 'maisto', 'major', 'majority', 'majorly', 'make', 'maker', 'makeup', 'making', 'male', 'malfunction', 'malfunctioning', 'malfunctionupon', 'malice', 'mama', 'mami', 'man', 'manage', 'manageable', 'managed', 'management', 'manager', 'manages', 'managing', 'manards', 'mandate', 'mandated', 'mane', 'manegement', 'maneuver', 'manga', 'manilla', 'manipulate', 'manipulated', 'manner', 'mannereta', 'manny', 'mantelpiece', 'mantovani', 'manual', 'manually', 'manufacture', 'manufactured', 'manufacturer', 'manufacturing', 'manufators', 'many', 'map', 'mar', 'marc', 'march', 'mare', 'margin', 'marginal', 'marginally', 'marginalundervoltage', 'mariachi', 'marine', 'marino', 'mario', 'mark', 'marked', 'marker', 'market', 'marketamazon', 'marketchild', 'marketed', 'marketing', 'marketno', 'marketplace', 'marking', 'marriage', 'marvel', 'mask', 'mass', 'massive', 'master', 'mastered', 'match', 'matched', 'matching', 'material', 'materialscons', 'math', 'mathematically', 'matte', 'matted', 'matter', 'matthew', 'mature', 'maui', 'mauriat', 'mauro', 'mavic', 'max', 'maxcell', 'maxell', 'maximize', 'maximized', 'maximum', 'maxwell', 'maxx', 'may', 'maybe', 'mayday', 'mb', 'mbr', 'mea', 'mean', 'meanbatteries', 'meaning', 'meant', 'meantime', 'meanwhile', 'measly', 'measure', 'measured', 'measurement', 'measuring', 'meat', 'mechanic', 'mechanism', 'medical', 'mediocre', 'medium', 'mediumthe', 'meet', 'meeting', 'megapixel', 'megapixels', 'meh', 'mei', 'melatonin', 'melt', 'meltdown', 'melted', 'melting', 'memaybe', 'member', 'memberseasily', 'membership', 'memberskids', 'memberwhich', 'memorable', 'memorex', 'memorize', 'memory', 'memoryeasy', 'memorygreat', 'memorystoeage', 'memoryto', 'memoryupgradable', 'menards', 'menial', 'menopausal', 'mentally', 'mention', 'mentioned', 'mentioning', 'menu', 'merchandise', 'mercury', 'mere', 'merefurbished', 'merely', 'merlot', 'mesh', 'meshlike', 'meshvery', 'mess', 'message', 'messageer', 'messaging', 'messed', 'messenger', 'messing', 'mestill', 'met', 'metal', 'meter', 'methe', 'methey', 'method', 'meticulously', 'mexican', 'mexico', 'mgetjar', 'mgetjarcom', 'mgr', 'mi', 'mic', 'micekeyboard', 'michael', 'mici', 'mickey', 'micky', 'micro', 'microb', 'microhdmi', 'microphone', 'microphonessound', 'microsd', 'microsoft', 'microstream', 'microtransactions', 'microusb', 'mics', 'mid', 'midday', 'middle', 'midgrade', 'midrange', 'mids', 'midseventy', 'midshift', 'midsized', 'might', 'mightve', 'mighty', 'migraine', 'migrated', 'migration', 'mike', 'mil', 'milage', 'mildew', 'mile', 'military', 'milk', 'mill', 'milliamp', 'million', 'mimi', 'min', 'mind', 'mindless', 'mine', 'minecraft', 'minei', 'mini', 'mini4', 'miniature', 'minib', 'minicomputer', 'miniipad', 'minimal', 'minimalist', 'minimally', 'minimize', 'minimum', 'miniusb', 'minnie', 'minor', 'mint', 'minus', 'minuscule', 'minute', 'minuteseverything', 'minutesobviously', 'miracle', 'miro', 'mirror', 'mirroring', 'misbehaving', 'misc', 'miscellaneous', 'mishandled', 'mishap', 'misinformed', 'misleading', 'misled', 'misplaced', 'misplacedlost', 'miss', 'missed', 'missing', 'mission', 'mississippi', 'missouri', 'missso', 'mist', 'mistake', 'mistaken', 'mistakenly', 'mix', 'mixed', 'mixedbag', 'mixture', 'mlb', 'mm', 'mn2400', 'mo', 'mobey', 'mobi', 'mobile', 'mobility', 'moblie', 'modded', 'mode', 'model', 'modelif', 'modelsusing', 'modelvoyage', 'modem', 'moderate', 'modern', 'modest', 'modewhen', 'modification', 'modified', 'modify', 'modt', 'moisture', 'moly', 'mom', 'moment', 'mommy', 'monday', 'monetary', 'money', 'moneycan', 'moneyclear', 'moneyenough', 'moneygot', 'moneyi', 'moneyonly', 'moneyquality', 'moneysaver', 'moneythank', 'moneythese', 'moneywell', 'moneywhat', 'moneywhen', 'moneyyou', 'monfri', 'monitor', 'monitored', 'monitoring', 'monitornow', 'monkey', 'mono', 'monopoly', 'monoxide', 'monster', 'month', 'monthcameras', 'monthit', 'monthlong', 'monthly', 'monthsfirst', 'monthsi', 'monthsif', 'monthsin', 'monthsthese', 'monthvery', 'monthwill', 'mood', 'moon', 'mord', 'moreamazonbasics', 'moreanywhere', 'moreexpensive', 'morei', 'morem', 'morememory', 'morenothing', 'moreoverall', 'morepretty', 'morethese', 'moreyep', 'morn', 'morning', 'mortar', 'mortgage', 'mossouri', 'mostle', 'mostly', 'mostof', 'motel', 'mother', 'motherboard', 'motherinlaw', 'motion', 'motionactivated', 'motivate', 'motivated', 'motivates', 'motivation', 'motive', 'moto', 'motor', 'motorcycle', 'motorized', 'motorola', 'mount', 'mountain', 'mounted', 'mouse', 'mousea', 'mousebelieve', 'mousejosecards', 'mousethats', 'mousethis', 'mouseupdate', 'mouth', 'move', 'moved', 'movedthe', 'movement', 'mover', 'movie', 'moviereading', 'moviesgames', 'moviesgreat', 'moviesi', 'moviesnewsgames', 'moviesshows', 'moviestv', 'moviesvery', 'moving', 'mower', 'moztly', 'mp3', 'mp3s', 'mp4', 'mt', 'mtv', 'mu', 'muahahahahaha', 'much', 'mucheveryday', 'muchisimo', 'muchit', 'muchlovegratitude', 'muchmark', 'mucho', 'muchoh', 'mucholder', 'muchthe', 'muchwith', 'mulitpacks', 'multi', 'multifaceted', 'multifunction', 'multifuntional', 'multimedia', 'multimeter', 'multimeter22', 'multipacks', 'multiplack', 'multiple', 'multiplication', 'multiplied', 'multiply', 'multipurpose', 'multitasker', 'multitasking', 'multitasks', 'multitude', 'multiuse', 'multiuser', 'multiwindow', 'mundane', 'murphy', 'mus', 'mush', 'music', 'musical', 'musicality', 'musically', 'musicbeing', 'musicbest', 'musician', 'musicread', 'musicreading', 'musicthank', 'must', 'mustbuy', 'musthave', 'muted', 'mwh', 'my9', 'mybaby', 'mygirlfriend', 'mymom', 'myselfi', 'myselfsome', 'mystery', 'mystical', 'n', 'na', 'nabi', 'nabis', 'nad', 'nail', 'nailed', 'nakes', 'nalgene', 'name', 'namebasic', 'namebrand', 'namebrands', 'named', 'namely', 'namesake', 'namesgood', 'nana', 'nanas', 'nano', 'nap', 'narration', 'narrow', 'nashville', 'nasty', 'national', 'native', 'natural', 'naturally', 'nature', 'nauseum', 'navigate', 'navigated', 'navigateover', 'navigates', 'navigatesilk', 'navigating', 'navigation', 'navigationgood', 'nazareth', 'nbc', 'ncie', 'nd', 'ne', 'near', 'nearby', 'nearest', 'nearly', 'nearperfect', 'neat', 'neater', 'neatly', 'necessarily', 'necessary', 'necessitates', 'necessity', 'neck', 'ned', 'need', 'needcons', 'needed', 'neededspecial', 'needespecially', 'needing', 'needle', 'needlessly', 'needsit', 'needsmy', 'needsplit', 'needsthe', 'needswhen', 'needwant', 'needy', 'negative', 'negligible', 'negotiate', 'neice', 'neighbor', 'neighborhood', 'neil', 'neither', 'neoprene', 'nephew', 'ner', 'nerf', 'nervewracking', 'nervous', 'nespresso', 'nest', 'net', 'netbooks', 'netflexs', 'netflick', 'netflix', 'netflixamazon', 'netflixcon', 'netflixhulu', 'netflixs', 'netlfix', 'netted', 'netting', 'network', 'networking', 'never', 'nevertheless', 'new', 'newborn', 'newegg', 'newer', 'newest', 'newgoodbye', 'newi', 'newly', 'newoverally', 'newphew', 'news', 'newsetc', 'newsmovies', 'newspaper', 'newstand', 'next', 'nextbook', 'nextflix', 'nexus', 'nexus7', 'nfl', 'ng', 'nice', 'nicely', 'nicelyi', 'nicelyno', 'nicemiss', 'nicepros', 'nicer', 'nicest', 'nicethe', 'niche', 'nickle', 'niece', 'nieceshe', 'niecesthey', 'night', 'nightbut', 'nightevery', 'nightlight', 'nightlights', 'nightmare', 'nightstand', 'nighttime', 'nightvery', 'nighty', 'nikon', 'nimh', 'nimhs', 'nine', 'ninety', 'ninja', 'nintendo', 'nit', 'nite', 'nitpicks', 'nitpicky', 'nizn', 'nnby', 'noble', 'nobody', 'nobrained', 'nobrainer', 'nobraineri', 'nobrainier', 'nocost', 'nocturnal', 'noe', 'nofrills', 'nohassle', 'noise', 'noisemaker', 'noleak', 'nomad', 'nomagic', 'nomenclature', 'non', 'nonad', 'nonamazon', 'noname', 'nonchild', 'nondemanding', 'none', 'nonebut', 'noneoverall', 'nonetheless', 'nonexistent', 'nonexpensive', 'nonglare', 'nonhardcore', 'nonhd', 'nonhousehold', 'nonintimidating', 'noninvasive', 'nonipad', 'nonissue', 'nonkindle', 'nonperishable', 'nonportable', 'nonrechargable', 'nonrechargeable', 'nonresponsive', 'nonscientific', 'nonsense', 'nonstandard', 'nonstop', 'nontech', 'nontechnical', 'nontechny', 'nontouch', 'nontraditional', 'nonworking', 'nook', 'nookereader', 'nope', 'nopevibrating', 'noquestions', 'norc', 'nordic', 'normal', 'normall', 'normally', 'normalto', 'north', 'northern', 'norway', 'norwegian', 'nose', 'notable', 'notably', 'notation', 'notch', 'notchno', 'note', 'notebook', 'notech', 'noted', 'notei', 'notenergizer', 'notepad', 'noteven', 'noteyou', 'nothin', 'nothing', 'nothingthen', 'noti', 'notice', 'noticeable', 'noticeably', 'noticed', 'noticible', 'noticing', 'notification', 'noting', 'nougat', 'nough', 'nov', 'novel', 'novelty', 'november', 'novice', 'noviceeasy', 'nowadays', 'nowand', 'nowbroken', 'nowdefunct', 'nowe', 'noweasy', 'nowhere', 'nowi', 'nowits', 'nownumber', 'nowwhen', 'npr', 'nterface', 'ntfs', 'nuclear', 'nuf', 'nuff', 'number', 'numerous', 'nursery', 'nursing', 'nvidia', 'nxt', 'ny', 'nyetget', 'nylon', 'nymph', 'o', 'oasis', 'oasisas', 'oasisbattery', 'object', 'objective', 'obligatory', 'observe', 'obsessed', 'obsolescence', 'obsolete', 'obtain', 'obtainactivate', 'obtrusive', 'obvious', 'obviously', 'occasion', 'occasional', 'occasionally', 'occupied', 'occupy', 'occur', 'occurs', 'ocd', 'octane', 'october', 'od', 'odd', 'oddest', 'oddly', 'odds', 'of22500', 'offbrand', 'offen', 'offended', 'offer', 'offerdownside', 'offered', 'offering', 'offersglad', 'offi', 'office', 'officei', 'officer', 'official', 'offline', 'offon', 'offshoot', 'offshore', 'offtheshelf', 'ofmaking', 'often', 'oftenthose', 'ofyou', 'og', 'oh', 'ohg', 'ohsodependablecables', 'ohwaitamazon', 'oily', 'oit', 'ok', 'okay', 'okaythats', 'okaythere', 'okcomputer', 'okdef', 'okey', 'oki', 'okit', 'okjim', 'okk', 'ol', 'old', 'oldbut', 'older', 'oldest', 'oldsmall', 'oldso', 'oldthey', 'oldwhen', 'ole', 'omg', 'omissions1', 'onads', 'onall', 'onboard', 'ond', 'ondeck', 'one', 'oneawkward', 'onebut', 'oneclick', 'onecouldnt', 'onedependent', 'onegood', 'onei', 'oneit', 'onesso', 'onestar', 'onestill', 'onethe', 'onethird', 'onetime', 'onewe', 'onext', 'onggrevrf', 'ongreat', 'onion', 'onit', 'onless', 'online', 'onlinei', 'onoff', 'onother', 'onpar', 'onsale', 'onscreen', 'onslaught', 'onternet', 'onthego', 'onthese', 'ontime', 'ontimei', 'onto', 'ook', 'oonz', 'ooze', 'op', 'open', 'open1', 'openclosed', 'opened', 'opener', 'opening', 'operable', 'operate', 'operated', 'operateonly', 'operates', 'operating', 'operation', 'operational', 'operator', 'opinion', 'opportunity', 'opposed', 'opposite', 'oprah', 'opt', 'opted', 'optic', 'optical', 'optimal', 'optimist', 'optimum', 'opting', 'option', 'optional', 'optionnow', 'optionscomparisonthese', 'optionsi', 'optionsstarfall', 'opus', 'oral', 'orange', 'orangeish', 'ordeal', 'order', 'orderd', 'ordered', 'ordering', 'orderwould', 'ordinary', 'ore', 'organ', 'organical', 'organization', 'organizational', 'organize', 'organized', 'organizer', 'organizerpockets', 'organizing', 'orginal', 'orientation', 'origami', 'origin', 'original', 'originally', 'os', 'otber', 'others', 'othersthese', 'othersthis', 'othersyou', 'otherwise', 'otoh', 'otter', 'ouch', 'ought', 'ounce', 'ourth', 'ouststanding', 'out', 'outa', 'outage', 'outagewhile', 'outand', 'outcome', 'outdated', 'outdid', 'outdo', 'outdoor', 'outdoors', 'outdside', 'outer', 'outfitted', 'outgrown', 'outlast', 'outlasted', 'outlasting', 'outlasts', 'outlet', 'outleti', 'outlier', 'outlook', 'outmuch', 'outmy', 'outofdateevery', 'outofstock', 'outperform', 'outperformed', 'outperforms', 'output', 'outputlast', 'outputting', 'outrageous', 'outsell', 'outshines', 'outside', 'outsidei', 'outstanding', 'outstandingthe', 'outta', 'outthe', 'outthese', 'outweigh', 'outyes', 'outyou', 'oven', 'overage', 'overall', 'overallstill', 'overallthe', 'overcome', 'overdischarge', 'overdrive', 'overexposure', 'overhead', 'overheat', 'overheating', 'overjoyed', 'overjust', 'overloaded', 'overlooked', 'overly', 'overnight', 'overpaid', 'overpriced', 'overseas', 'overseasseems', 'overseem', 'oversized', 'overwhelmed', 'overwhelming', 'overwhelmingly', 'owl', 'ownded', 'owned', 'owner', 'ownerenduser', 'ownership', 'owning', 'ownmy', 'owns', 'oxidation', 'oximeter', 'oz', 'p', 'pa', 'pace', 'pacific', 'pack', 'package', 'packaged', 'packagedi', 'packagedif', 'packagedthere', 'packagedwell', 'packageill', 'packagethese', 'packaging', 'packaginggroups', 'packagingi', 'packagingput', 'packagingso', 'packagingthe', 'packagingthey', 'packcame', 'packduracell', 'packed', 'packet', 'packi', 'packin', 'packing', 'packingas', 'packive', 'packlots', 'packsno', 'pad', 'padded', 'paddedperfunctorystiff', 'padding', 'paddleamazon', 'padyou', 'page', 'pagean', 'pagepress', 'pager', 'pagesif', 'pageslastly', 'pagesometimes', 'pageturn', 'paging', 'paid', 'pain', 'painful', 'painless', 'painstakingly', 'paint', 'pair', 'paired', 'pairing', 'palate', 'palm', 'pan', 'panasonic', 'pandora', 'panel', 'panicked', 'pannier', 'pant', 'panted', 'pantry', 'paper', 'paperback', 'paperboard', 'paperweight', 'paperwhite', 'paperwhites', 'paperwite', 'papperwhite', 'par', 'paradigm', 'parameter', 'paranoia', 'paraphernaliathere', 'parcel', 'pare', 'parent', 'parental', 'parentchild', 'parenting', 'paretal', 'paring', 'paris', 'park', 'part', 'partial', 'partially', 'particular', 'particularly', 'partition', 'partly', 'partner', 'partnership', 'partnow', 'partway', 'party', 'pas', 'pass', 'passagesmy', 'passcode', 'passed', 'passion', 'passport', 'password', 'passwordperiodically', 'past', 'pastnot', 'patchy', 'patent', 'pathetic', 'patience', 'patient', 'patio', 'patrol', 'pattern', 'patternhowever', 'paul', 'pause', 'pausing', 'paw', 'pawbo', 'pay', 'payed', 'paying', 'payits', 'payment', 'paywe', 'pc', 'pc1500', 'pc2400bkd09energizer', 'pcupdate', 'pdf', 'pdfs', 'peace', 'peaceful', 'peak', 'pearl', 'peasy', 'pecker', 'pedi', 'peeled', 'peer', 'pefect', 'pen', 'pencil', 'pending', 'penny', 'penssundries', 'people', 'peoplei', 'peopleone', 'peppa', 'per', 'percent', 'percentage', 'perf', 'perfarmance', 'perfect', 'perfected', 'perfectgrandson', 'perfecti', 'perfection', 'perfectly', 'perfectlyafter', 'perfectlyand', 'perfectlyat', 'perfectlygreat', 'perfectmy', 'perfectwhat', 'perfer', 'perforated', 'perform', 'performance', 'performanceand', 'performancedon', 'performancedurability', 'performancelongevity', 'performanceso', 'performancethe', 'performancewise', 'performant', 'performed', 'performer', 'performing', 'performs', 'perhaps', 'period', 'periodical', 'periodically', 'periodicallyi', 'periodsthe', 'peripheral', 'perishable', 'perk', 'permanent', 'permanently', 'permission', 'permit', 'perpetually', 'person', 'personal', 'personalized', 'personally', 'personnel', 'perspective', 'pesky', 'pest', 'pet', 'peter', 'petty', 'petula', 'pf', 'ph', 'phablet', 'phantom', 'phenomenal', 'phenomenalthe', 'philip', 'phillips', 'philosophy', 'phone', 'phonebut', 'phonestablets', 'phonetablet', 'phonethe', 'phooey', 'photo', 'photographer', 'photographershousehold', 'photography', 'photosconclusionso', 'photosi', 'photosoverall', 'photovideo', 'phrase', 'phrased', 'phrasethere', 'physical', 'physically', 'piano', 'pic', 'pice', 'pick', 'picked', 'picking', 'pickup', 'pickupthe', 'picky', 'picsi', 'picslike', 'picsviber', 'picswe', 'pict', 'pictorialstart', 'picture', 'pictured', 'picturedata', 'pictureshe', 'picturessound', 'picturesvideos', 'pictureyoull', 'piddle', 'pie', 'piece', 'pig', 'pigeonholed', 'piggyback', 'pile', 'piled', 'piling', 'pill', 'pillow', 'pime', 'pin', 'pinch', 'pinched', 'pinging', 'pink', 'pinkish', 'pinsharp', 'pintrest', 'piping', 'pir', 'pirce', 'pit', 'pita', 'pitched', 'pity', 'pixel', 'pixelated', 'pixelating', 'pixelation', 'pixilated', 'pixles', 'pizza', 'pj', 'pkg', 'pkgcopper', 'pku', 'place', 'placed', 'placehighly', 'placement', 'placing', 'plagued', 'plain', 'plainly', 'plan', 'plane', 'planet', 'planing', 'planned', 'planning', 'plant', 'plastic', 'plasticthe', 'plasticwrapped', 'plated', 'platform', 'play', 'playable', 'playaway', 'playback', 'playbook', 'played', 'player', 'playimg', 'playing', 'playlist', 'playstation', 'playstore', 'playstoresearch', 'playtime', 'pleanty', 'pleasant', 'pleasantly', 'please', 'pleased', 'pleaseone', 'pleasing', 'pleasurable', 'pleasure', 'pleasurethe', 'pleasuretruthfully', 'plentiful', 'plenty', 'plot', 'plow', 'plug', 'plugged', 'pluggedin', 'plugging', 'plus', 'plusfor', 'plusit', 'plusthe', 'plying', 'pm', 'pocket', 'pocketbook', 'pocketed', 'pocketsit', 'pod', 'podcast', 'podcasts', 'poetic', 'pogo', 'point', 'pointed', 'pointer', 'pointespecially', 'pointi', 'pointless', 'pointsmy', 'pointuse', 'pokemon', 'pol', 'polarity', 'polarized', 'polarizing', 'pole', 'police', 'policy', 'polished', 'polite', 'political', 'politics', 'poloroid', 'ponying', 'pool', 'poolside', 'poop', 'pooped', 'poor', 'poorer', 'poorest', 'poorlowi', 'poorly', 'poorprossmooth', 'poorthe', 'pop', 'popped', 'popping', 'popular', 'popularknown', 'populated', 'popup', 'port', 'portability', 'portabilitybut', 'portable', 'portablealthough', 'portablebility', 'portablei', 'portal', 'portion', 'portrait', 'portugal', 'position', 'positional', 'positioned', 'positive', 'positively', 'positivesnot', 'possession', 'possibility', 'possibilty', 'possible', 'possiblethis', 'possibly', 'possitive', 'post', 'postage', 'posted', 'postedif', 'postive', 'posture', 'pot', 'potato', 'potential', 'potter', 'potty', 'pouch', 'pound', 'poundage', 'pove', 'powder', 'power', 'powerboth', 'powered', 'powerexcellent', 'powerfast', 'powerful', 'powerfull', 'powerhouse', 'poweri', 'powering', 'powermy', 'powerpacked', 'powerpoint', 'powerpoints', 'powervolume', 'powr', 'ppi', 'pptxall', 'practical', 'practically', 'practice', 'praise', 'prattle', 'pre', 'preapproved', 'prearranged', 'precharged', 'precious', 'precise', 'precision', 'predecessor', 'predicted', 'predominately', 'predownload', 'prefect', 'prefer', 'preferable', 'preferably', 'preference', 'preferred', 'preferring', 'prefers', 'preffered', 'preform', 'preformed', 'preinstall', 'preinstalled', 'prek', 'preloaded', 'prematurely', 'premitive', 'premium', 'premiumfinally', 'preoccupied', 'preorder', 'preordered', 'prep', 'prepackaged', 'prepaid', 'preparation', 'prepare', 'prepared', 'presales', 'preschool', 'preschooler', 'presence', 'present', 'preserve', 'preset', 'presets', 'president', 'press', 'pressed', 'pressing', 'pressure', 'pressuresensitive', 'presume', 'preteen', 'pretouch', 'prettier', 'pretty', 'prettymuch', 'prettythey', 'prety', 'pretyy', 'prevent', 'prevents', 'preview', 'previous', 'previously', 'prewrapped', 'price', 'price100', 'pricebatteries', 'pricebattery', 'pricebest', 'pricebut', 'pricechalk', 'pricecheaper', 'pricecons', 'priceconsnoneadditional', 'priced', 'pricedeal', 'pricednow', 'priceeffective', 'priceenergizeri', 'priceeven', 'priceeveryone', 'pricefeels', 'pricegood', 'pricegreat', 'pricehave', 'pricei', 'priceif', 'priceim', 'priceit', 'pricejust', 'priceless', 'pricelonglasting', 'pricelove', 'priceminor', 'pricemuch', 'pricenow', 'pricepff', 'pricepoint', 'priceprefered', 'pricequality', 'pricequick', 'pricequilty', 'pricereally', 'pricerecommended', 'pricesceen', 'priceseems', 'priceside', 'pricethey', 'pricevalue', 'pricevery', 'pricewish', 'priceworks', 'pricey', 'pricier', 'pricing', 'pricingbatteries', 'pricingblack', 'prick', 'pricr', 'pricy', 'primaril', 'primarily', 'primary', 'prime', 'primealexa', 'primeetc', 'primenetflix', 'primetime', 'primitive', 'prine', 'print', 'printable', 'printed', 'printer', 'printing', 'prior', 'prisrob', 'privacy', 'private', 'prize', 'pro', 'prob', 'probably', 'probe', 'problame', 'problem', 'problematic', 'problemi', 'problemive', 'problemsarrived', 'problemsi', 'problemsrecommend', 'problemsstrong', 'problemthere', 'problemyou', 'probley', 'probobly', 'procedure', 'procedurethats', 'proceeded', 'procell', 'procells', 'procesor', 'process', 'processing', 'processlooking', 'processor', 'processthe', 'proclaimed', 'proclaims', 'procrastinated', 'procuct', 'produ', 'produc', 'produce', 'produced', 'producing', 'producs', 'product', 'productbe', 'productbut', 'producteasy', 'productexcellent', 'productfair', 'productgreat', 'producti', 'productif', 'production', 'productis', 'productit', 'productive', 'productively', 'productivity', 'productjmac', 'productmodel', 'productmy', 'producto', 'productos', 'productrelablemaximum', 'productsi', 'productsins', 'productsoverall', 'productsthe', 'productstuck', 'productthey', 'productvalue', 'productvery', 'productwatching', 'productwell', 'prof', 'professional', 'professor', 'proff', 'proficient', 'profile', 'profilei', 'profitable', 'profitthey', 'profrssional', 'program', 'programmable', 'programmed', 'programmer', 'programming', 'progress', 'progressing', 'project', 'projector', 'projectorthe', 'prolonged', 'prolongs', 'promini', 'promise', 'promised', 'promo', 'promos', 'promote', 'promotes', 'promoting', 'promotion', 'promotional', 'prompt', 'prompted', 'promptly', 'promt', 'prone', 'pronouncedso', 'pronto', 'proof', 'prop', 'prope', 'propellent', 'proper', 'properly', 'property', 'propose', 'proposition', 'proprietary', 'prosgood', 'prosgreat', 'prosinstall', 'prosprice', 'prostheir', 'proswell', 'protect', 'protected', 'protecting', 'protection', 'protective', 'protector', 'protects', 'protocol', 'protruding', 'proud', 'proudly', 'prouducts', 'prove', 'proved', 'proven', 'provide', 'provided', 'provider', 'provides', 'providing', 'proximity', 'pry', 'ps3', 'ps4', 'public', 'published', 'puchase', 'puck', 'puddle', 'puedo', 'pull', 'pulled', 'pulling', 'pulltab', 'pulse', 'pump', 'pumper', 'pumping', 'pumpkin', 'punch', 'punctured', 'puppy', 'purcase', 'purchaed', 'purchase', 'purchaseand', 'purchased', 'purchasedbut', 'purchasedthey', 'purchasei', 'purchaser', 'purchasesi', 'purchaseswhat', 'purchaseswill', 'purchasethw', 'purchaseuse', 'purchashed', 'purchasing', 'purchasingrenting', 'pure', 'purely', 'purple', 'purpleish', 'purpose', 'purposefirst', 'purposeit', 'purposethese', 'purposly', 'purse', 'pursued', 'push', 'pushed', 'pushing', 'put', 'putin', 'putting', 'puzzle', 'puzzled', 'pw', 'pw1', 'pw2', 'pw2s', 'pw3', 'q', 'qc', 'qc15', 'qc25', 'qr', 'qty', 'quad', 'quadcore', 'quaility', 'qualiftyand', 'qualify', 'qualifying', 'quality', 'qualityenjoy', 'qualitygood', 'qualitygreat', 'qualityi', 'qualitylifespan', 'qualityno', 'qualityour', 'qualityquantity', 'qualityso', 'qualitythat', 'qualitythen', 'qualitythey', 'qualitywhat', 'qualm', 'quantity', 'quantityreally', 'quantum', 'quanty', 'quarter', 'quartermy', 'query', 'quest', 'question', 'questionable', 'questionamazonbasics', 'questionsbut', 'questionscan', 'questionso', 'questionsthe', 'questionswill', 'quetion', 'quibble', 'quick', 'quickaccess', 'quicker', 'quickly', 'quicklygreat', 'quicklyi', 'quicklyits', 'quicklyone', 'quickmy', 'quickness', 'quickrelease', 'quicly', 'quiet', 'quieter', 'quietly', 'quilty', 'quirk', 'quirky', 'quit', 'quite', 'qwerks', 'r', 'rabbit', 'rabhtu', 'rablet', 'race', 'rack', 'rad', 'radio', 'radioactive', 'radiocome', 'radioshack', 'radiosone', 'radiosticking', 'raffle', 'rage', 'raider', 'rail', 'rain', 'rainforest', 'raining', 'rainy', 'raise', 'raised', 'rake', 'rally', 'ram', 'ran', 'ranch', 'random', 'randomly', 'range', 'rangecons', 'ranged', 'rangeduracell', 'ranger', 'ranging', 'rank', 'raovac', 'rape', 'rapid', 'rapidly', 'rare', 'rarely', 'rate', 'rated', 'raters', 'ratesthe', 'rather', 'rating', 'ratingbut', 'ratio', 'ratioit', 'ration', 'rattling', 'raving', 'ravovac', 'raw', 'ray', 'ray333ray2001yahoocom', 'rayovac', 'rayovacs', 'rayovak', 'rayovaks', 'razor', 'rc', 'rcase', 'reaccuring', 'reach', 'reached', 'reaching', 'reaction', 'read', 'readability', 'readable', 'readalong', 'readalso', 'reader', 'readeri', 'readerlike', 'readersif', 'readerthe', 'readerwhen', 'readhappy', 'readhe', 'readif', 'readig', 'readily', 'reading', 'readingi', 'readingif', 'readingit', 'readinglistening', 'readingstill', 'readingthe', 'readit', 'readlisten', 'readlove', 'readout', 'readsecond', 'ready', 'real', 'realise', 'realistic', 'reality', 'realize', 'realized', 'realizing', 'reallllllllllllllllllllllllllllllllllllllllllllllly', 'really', 'realy', 'reaponse', 'reappearance', 'rear', 'rearvision', 'reason', 'reasonable', 'reasonably', 'reasonablypriced', 'reasons1', 'reassures', 'reassuring', 'reboot', 'rebooting', 'reboots', 'rebranded', 'recap', 'recargable', 'reccomend', 'reccoment', 'reccommend', 'receipt', 'receipting', 'receive', 'received', 'receivedamazon', 'receivedduracells', 'receivegreat', 'receiver', 'receives', 'receiving', 'recent', 'recently', 'recentlyive', 'reception', 'recessed', 'recharable', 'rechargable', 'rechargables', 'recharge', 'rechargeable', 'rechargeables', 'rechargebles', 'recharged', 'recharger', 'recharges', 'recharging', 'reciept', 'recieve', 'recieved', 'reciever', 'recipe', 'recipient', 'reckless', 'reclining', 'recloseable', 'recognition', 'recognize', 'recognized', 'recognizes', 'recomend', 'recomendarlo', 'recomended', 'recomiendo', 'recommend', 'recommendable', 'recommendation', 'recommended', 'recommendedhave', 'recommending', 'recommends', 'recommeneded', 'recommenf', 'recomment', 'reconnect', 'reconnecting', 'reconsider', 'record', 'recorder', 'recording', 'recovered', 'recovery', 'recreation', 'recreational', 'rectangleshaped', 'rectangular', 'recuperating', 'recurring', 'recyclable', 'recycle', 'recycled', 'recycling', 'red', 'redbox', 'redesign', 'redo', 'redownload', 'reduce', 'reduced', 'reduces', 'reducing', 'reduction', 'refer', 'reference', 'referred', 'referring', 'refill', 'refilled', 'refined', 'reflect', 'reflection', 'reflective', 'reflects', 'refresh', 'refreshes', 'refrig', 'refrigerator', 'refund', 'refunded', 'refundreturn', 'refurbished', 'refurbishment', 'refuse', 'refused', 'refusing', 'reg', 'regain', 'regard', 'regarding', 'regardless', 'register', 'registered', 'registering', 'registration', 'regret', 'regretted', 'regular', 'regularl', 'regularly', 'regulate', 'regulation', 'rehab', 'reimagined', 'reimbursement', 'reinstall', 'reiterate', 'rejected', 'relabeled', 'related', 'relation', 'relationship', 'relative', 'relatively', 'relax', 'relaxation', 'relaxing', 'release', 'released', 'releasing', 'relevant', 'reliability', 'reliable', 'reliablesome', 'reliably', 'relief', 'relies', 'relish', 'reloaded', 'relocate', 'reluctant', 'reluctantly', 'rely', 'relying', 'remain', 'remainder', 'remained', 'remaining', 'remains', 'remarkable', 'remarkably', 'remarked', 'remember', 'remembered', 'remembering', 'remembers', 'remind', 'reminded', 'reminder', 'reminds', 'remite', 'remote', 'remotea', 'remotecontrol', 'remotely', 'remotesnot', 'remotesthey', 'remotetime', 'remotewhich', 'removal', 'remove', 'removed', 'removing', 'render', 'rendering', 'renew', 'renewed', 'renowned', 'rent', 'rental', 'renting', 'reoccurring', 'reorder', 'reordered', 'reordering', 'rep', 'repair', 'repaired', 'repaved', 'repeat', 'repeatable', 'repeated', 'repeatedly', 'replace', 'replaceable', 'replaced', 'replacement', 'replacemwnt', 'replaces', 'replacing', 'replacinglove', 'replacments', 'replay', 'replenish', 'replenishment', 'reply', 'report', 'reported', 'reportedly', 'repository', 'repossess', 'representative', 'representing', 'repurchase', 'repurchasing', 'reputable', 'reputation', 'reputationthe', 'request', 'requested', 'requesting', 'requestits', 'require', 'required', 'requiredbut', 'requiredyou', 'requirement', 'requires', 'requiring', 'resale', 'reschedule', 'rescue', 'resealable', 'research', 'researched', 'researching', 'reservation', 'reserve', 'reserveand', 'reset', 'resetting', 'residue', 'resilience', 'resist', 'resistance', 'resistant', 'resisted', 'resists', 'resize', 'resolution', 'resolutionbut', 'resolutiondecent', 'resolutionupon', 'resolve', 'resolved', 'resonable', 'resort', 'resource', 'respect', 'respectable', 'respective', 'respectively', 'respond', 'responded', 'responding', 'responds', 'response', 'responsemore', 'responsibility', 'responsible', 'responsive', 'responsiveness', 'responsivethe', 'rest', 'restart', 'restarted', 'restarting', 'restarts', 'restaurant', 'resting', 'restock', 'restocked', 'restocking', 'restrict', 'restricted', 'restricting', 'restriction', 'restrictionscontent', 'restrictive', 'restricts', 'result', 'resultsdavid', 'resultsdisch', 'resultsthese', 'resultsupdate', 'resume', 'retail', 'retailer', 'retailersthese', 'retain', 'retains', 'retention', 'rethinking', 'retina', 'retire', 'retired', 'retirement', 'retract', 'retrieves', 'retrofit', 'return', 'returnabledont', 'returned', 'returnedno', 'returning', 'reusable', 'reuse', 'revenge', 'revers', 'reverse', 'review', 'reviewbought', 'reviewd', 'reviewed', 'reviewer', 'reviewfantastic', 'reviewincluded', 'reviewing', 'reviewive', 'reviewprevious', 'reviewsthe', 'revisit', 'reward', 'rhe', 'rhyme', 'rhythm', 'rice', 'rich', 'rid', 'ride', 'ridiculous', 'ridiculously', 'riding', 'right', 'rightand', 'righti', 'rightquality', 'rightso', 'rightthank', 'rigidly', 'rigorous', 'ring', 'ringer', 'ringsealer', 'rinse', 'rip', 'ripoff', 'ripp', 'ripped', 'ripping', 'rise', 'risk', 'rite', 'rival', 'rivet', 'rmv', 'road', 'roaming', 'robot', 'robotic', 'robotics', 'robust', 'rock', 'rockclimbing', 'rocket', 'rocking', 'rocky', 'roku', 'role', 'roll', 'rolled', 'roller', 'rolling', 'rood', 'roof', 'room', 'roomates', 'roomi', 'roommate', 'root', 'rooting', 'rotate', 'rotates', 'rotating', 'rotation', 'rotten', 'rough', 'rougher', 'roughly', 'round', 'rounded', 'rounding', 'rout', 'route', 'router', 'routinely', 'row', 'royal', 'royallynow', 'rt', 'rub', 'rubber', 'rubberbands', 'rude', 'rugged', 'ruggedised', 'ruin', 'ruined', 'ruining', 'rule', 'ruleshaha', 'rummaging', 'run', 'rundown', 'runner', 'runnercoyote', 'runnerup', 'runnig', 'running', 'runningunfortunately', 'runout', 'runtime', 'runtime100', 'rush', 'rust', 'rustler', 'rusty', 's2', 's7', 's8', 'saavy', 'sacked', 'sacrifice', 'sad', 'sadly', 'safe', 'safeguard', 'safely', 'safelyim', 'safer', 'safety', 'saggy', 'sahre', 'said', 'sail', 'sake', 'salary', 'sale', 'saleit', 'saleman', 'saleoverall', 'saleprosliterally', 'salesgirl', 'salesman', 'salesperson', 'salevery', 'sam', 'samaumg', 'sameif', 'samethey', 'sametime', 'sample', 'sampling', 'samsclub', 'samsung', 'samsungapple', 'samsungs', 'samsungsthis', 'samsungverizon', 'san', 'sand', 'sandisk', 'sandwichesit', 'sanity', 'santa', 'sanyo', 'sat', 'satchel', 'satellite', 'satified', 'satisfaction', 'satisfactorily', 'satisfactory', 'satisfied', 'satisfiedeasier', 'satisfiedthank', 'satisfies', 'satisfy', 'satisfying', 'satistfy', 'sauce', 'savd', 'save', 'saved', 'saver', 'savethese', 'saving', 'savior', 'savoy', 'savvy', 'savy', 'saw', 'sawing', 'say', 'saying', 'sayits', 'sbe', 'scad', 'scale', 'scan', 'scanned', 'scanner', 'scared', 'scaring', 'scary', 'scaryso', 'scatter', 'scattered', 'scavenging', 'sceen', 'scenario', 'scene', 'sceptical', 'scew', 'schedule', 'scheduled', 'scheduling', 'schlage', 'school', 'schoolbut', 'schooled', 'schooli', 'schooling', 'schoolwork', 'science', 'scientific', 'scientifically', 'scientificother', 'scientist', 'scissors', 'scoop', 'scope', 'score', 'scoresschedules', 'scott', 'scrabble', 'scratch', 'scratched', 'scratchy', 'screaming', 'screamreal', 'screan', 'scree', 'screed', 'screen', 'screencons', 'screendamaged', 'screeneasier', 'screening', 'screenlike', 'screenoverall', 'screenprostablet', 'screensaver', 'screenshot', 'screensif', 'screw', 'screwing', 'scroll', 'scrolling', 'scrutiny', 'scuba', 'scuf', 'sd', 'sdfgsdfgsdfgsdfgsdfg', 'sdmini', 'se', 'sea', 'seagate', 'seal', 'sealed', 'sealedwrapped', 'seam', 'seamless', 'seamlessly', 'search', 'searched', 'searching', 'season', 'seasonnot', 'seat', 'seated', 'seatmate', 'seattle', 'sebastian', 'sec', 'second', 'secondary', 'secondly', 'secret', 'section', 'secure', 'secured', 'securely', 'security', 'securityparental', 'see', 'seeing', 'seek', 'seeking', 'seem', 'seemed', 'seeming', 'seemingly', 'seemless', 'seems', 'seen', 'seenused', 'seeping', 'sega', 'segment', 'seldom', 'select', 'selected', 'selecting', 'selection', 'selectrics', 'selects', 'self', 'selfadjust', 'selfadjusting', 'selfbranded', 'sell', 'seller', 'selling', 'sellthanks', 'semester', 'semiprofessional', 'semitransparent', 'sems', 'send', 'sending', 'sends', 'senior', 'sennheiser', 'sennheisers', 'sensation', 'sense', 'sensibility', 'sensing', 'sensitive', 'sensitivity', 'sensor', 'sent', 'sentence', 'separate', 'separated', 'separately', 'separating', 'sept', 'september', 'sequencing', 'sequin', 'serf', 'series', 'seriesmovies', 'serious', 'seriously', 'serve', 'served', 'server', 'service', 'serviceand', 'servicebut', 'serviceman', 'servicepick', 'servicesbuy', 'serviceskindle', 'servicesthe', 'serving', 'sesame', 'session', 'set', 'setbackthe', 'setso', 'setting', 'settingslight', 'settle', 'settled', 'settling', 'setup', 'setupbought', 'setupread', 'setupthe', 'seven', 'seventh', 'seventynine', 'sevenyearold', 'several', 'severely', 'sewed', 'sewing', 'sewn', 'sf', 'shabby', 'shack', 'shade', 'shadow', 'shakey', 'shaking', 'shaky', 'shall', 'shame', 'shameful', 'shape', 'shaped', 'shaping', 'share', 'shared', 'sharing', 'sharp', 'sharpener', 'sharper', 'sharpness', 'shatter', 'shattered', 'shaver', 'shear', 'shed', 'sheer', 'sheet', 'shekel', 'shelf', 'shelflife', 'shell', 'shelter', 'shelve', 'shes', 'shield', 'shielded', 'shielding', 'shift', 'shifted', 'shifting', 'shimmering', 'shine', 'shiny', 'ship', 'shiparrival', 'shipment', 'shipmenthigh', 'shipped', 'shipper', 'shipping', 'shippingadequate', 'shippinggot', 'shippingi', 'shirt', 'shock', 'shocked', 'shocking', 'shockingly', 'shoddy', 'shoe', 'shook', 'shoot', 'shooted', 'shooting', 'shop', 'shopemail', 'shopped', 'shopper', 'shoppersquality', 'shopping', 'shoppingi', 'shoppingworks', 'short', 'shortcoming', 'shorted', 'shortens', 'shorter', 'shortest', 'shorting', 'shortlived', 'shortly', 'shortterm', 'shortwave', 'shot', 'shoulder', 'shouldnt', 'shouldve', 'shoutout', 'shove', 'show', 'showed', 'shower', 'showexplain', 'showing', 'shown', 'showsmovies', 'showsmy', 'showtime', 'shredder', 'shrink', 'shrinkwrap', 'shrinkwrapped', 'shrunk', 'shud', 'shuffle', 'shure', 'shut', 'shuts', 'shutting', 'shuttle', 'shy', 'si', 'siberia', 'sibling', 'sick', 'sicnce', 'side', 'sidebyside', 'sided', 'sideload', 'sideloaded', 'sideloading', 'sideotherwise', 'sidepress', 'sieve', 'sight', 'sign', 'signal', 'signalalso', 'signature', 'signed', 'significant', 'significantly', 'signing', 'signon', 'silent', 'silicon', 'silicone', 'silk', 'silky', 'silly', 'silver', 'sim', 'simcard', 'similar', 'similarlooking', 'similarly', 'similarlypriced', 'simple', 'simplecontent', 'simplei', 'simpler', 'simplest', 'simplicity', 'simplistic', 'simplty', 'simply', 'sims', 'simultaneously', 'since', 'sincefinal', 'sincemy', 'sing', 'singing', 'single', 'sings', 'sinister', 'siri', 'siriusxm', 'sister', 'sisterinlaw', 'sistersnice', 'sit', 'site', 'sits', 'sitter', 'sitting', 'situation', 'situationsshould', 'situationtakes', 'six', 'sixmonth', 'sixth', 'sixyearolds', 'size', 'sizeable', 'sized', 'sizefits', 'sizegood', 'sizei', 'sizematerial', 'sizeof', 'sizesound', 'sizethe', 'sizewise', 'sizing', 'sizzling', 'sked', 'skeptic', 'skeptical', 'ski', 'skill', 'skimp', 'skimping', 'skin', 'skinned', 'skinny', 'skip', 'skipping', 'sky', 'skype', 'skyperightly', 'slamming', 'slant', 'slanting', 'slarts', 'slash', 'slavelabor', 'sleek', 'sleeker', 'sleekness', 'sleep', 'sleeping', 'sleeve', 'slice', 'slick', 'slicone', 'slide', 'sliding', 'slight', 'slightly', 'sligtly', 'slik', 'slim', 'slime', 'slimmer', 'slimybut', 'sling', 'slip', 'slippage', 'slipped', 'slippery', 'slippes', 'slipping', 'slippy', 'slit', 'sloppy', 'slot', 'slouch', 'slow', 'slowed', 'slower', 'slowest', 'slowing', 'slowly', 'slowness', 'slows', 'slowthe', 'slowthis', 'slowwwwww', 'slr', 'slugginess', 'sluggish', 'small', 'smallbutheavy', 'smaller', 'smallest', 'smallish', 'smallwill', 'smallwiredled', 'smart', 'smarter', 'smarthome', 'smartness', 'smartphone', 'smartphones', 'smartthings', 'smartwatch', 'smashing', 'smeary', 'smell', 'smile', 'smiling', 'smoke', 'smokeco2', 'smooth', 'smoother', 'smootherim', 'smoothest', 'smoothly', 'smudge', 'snack', 'snag', 'snail', 'snap', 'snapon', 'snappier', 'snappy', 'sneakily', 'snmap', 'snob', 'snow', 'snowshoe', 'snuck', 'snuff', 'snug', 'snuggly', 'soaked', 'soap', 'soapdispenser', 'social', 'sock', 'socket', 'sodium', 'sodoko', 'sofar', 'sofisticated', 'soft', 'software', 'soi', 'soit', 'solar', 'sold', 'sole', 'solely', 'solicited', 'solid', 'solidly', 'solitair', 'solitaire', 'solitare', 'solitary', 'solo', 'solution', 'solutionpraiseworthy', 'solve', 'solved', 'solves', 'solving', 'somamy', 'somany', 'somebody', 'someday', 'somehow', 'someone', 'someplace', 'something', 'somethings', 'sometime', 'sometimes', 'sometimesif', 'sometine', 'someways', 'somewhat', 'somewhe', 'somewhere', 'somthing', 'son', 'son12', 'sone', 'song', 'songradio', 'songreat', 'sono', 'sonos', 'sonsgreat', 'sonsvery', 'sony', 'soo', 'soon', 'sooner', 'soonive', 'sooo', 'soooo', 'sooooo', 'soooooo', 'sooooooo', 'sophisticated', 'sorcerer', 'sore', 'sorely', 'sorry', 'sort', 'sorted', 'sorting', 'sortswe', 'soul', 'sound', 'soundbar', 'soundeasy', 'sounded', 'sounding', 'soundlink', 'soundopted', 'soundresponsivealexa', 'soundspa', 'soundstage', 'soundwell', 'souped', 'source', 'south', 'space', 'spacehas', 'spacewhile', 'spacious', 'spam', 'span', 'spanish', 'spare', 'sparse', 'spazzed', 'spead', 'speak', 'speaker', 'speakerand', 'speakeri', 'speakersoverall', 'speakes', 'speaking', 'spec', 'special', 'specialist', 'specialized', 'specially', 'specialonclude', 'specialty', 'specific', 'specifically', 'specification', 'specified', 'specify', 'specsthere', 'spectacular', 'spectrum', 'speech', 'speechless', 'speed', 'speedcons', 'speedfast', 'speedflash', 'speedincluding', 'speeding', 'speedlight', 'speedlite', 'speedlites', 'speedy', 'spell', 'spelling', 'spen', 'spend', 'spending', 'spends', 'spendy', 'spent', 'spill', 'spillage', 'spilled', 'spin', 'spine', 'spinethis', 'spinning', 'split', 'splitsecond', 'splurge', 'splurged', 'spoil', 'spoiled', 'spoiler', 'spoke', 'spoken', 'spongbob', 'spongy', 'sport', 'sporting', 'spot', 'spotify', 'spotsjust', 'spouse', 'sprained', 'spray', 'sprayed', 'spread', 'spreadsheet', 'spring', 'springsteen', 'springsummerfall', 'sprint', 'sprout', 'spy', 'squad', 'square', 'squarish', 'squattier', 'squeeze', 'squenting', 'squillions', 'sso', 'st', 'stable', 'stache', 'stack', 'stacked', 'staff', 'stage', 'stager', 'staggering', 'stain', 'stair', 'stalk', 'stall', 'stamp', 'stanby', 'stand', 'standard', 'standardnon', 'standardtype', 'standby', 'standcover', 'stander', 'standing', 'standinguser', 'standpoint', 'staple', 'star', 'starbucks', 'stark', 'starshope', 'starsif', 'starsno', 'starsthey', 'start', 'starte', 'started', 'starter', 'starting', 'startled', 'startup', 'stash', 'state', 'stateaside', 'stated', 'statement', 'stateoftheart', 'static', 'stating', 'station', 'stationary', 'stationpodcast', 'stats', 'status', 'stay', 'stayed', 'staying', 'steady', 'steal', 'stealing', 'steam', 'steaming', 'steelbook', 'steep', 'steer', 'stem', 'step', 'stepdaughter', 'stepkids', 'stepmom', 'stepped', 'stepping', 'stepsoverall', 'sterdy', 'stereo', 'stern', 'steroid', 'sth', 'stick', 'sticked', 'sticker', 'sticking', 'stickon', 'stickum', 'sticky', 'stiff', 'still', 'stillalso', 'stillno', 'stillnow', 'stingy', 'stink', 'stinkin', 'stock', 'stocked', 'stockedi', 'stockedup', 'stocking', 'stockpile', 'stockpiling', 'stockup', 'stole', 'stolen', 'stomach', 'stone', 'stood', 'stool', 'stop', 'stoped', 'stopped', 'stopper', 'stopping', 'stopspoofingamazoncom', 'storage', 'storagei', 'storageit', 'storagelove', 'storagenever', 'storageretrievalediting', 'storagethe', 'store', 'storeandroid', 'storebought', 'storebrand', 'storebrands', 'stored', 'storei', 'storenet', 'storesi', 'storesourced', 'storesquality', 'storethanks', 'storethese', 'storethey', 'storevery', 'storing', 'storm', 'story', 'straight', 'straighten', 'straightforward', 'strain', 'straitjacketeven', 'strand', 'stranger', 'strap', 'strapalthough', 'strapthe', 'strategically', 'strategy', 'straw', 'stream', 'streamed', 'streaming', 'streamingcannot', 'streamlight', 'streamline', 'streamlined', 'streamming', 'street', 'strength', 'stress', 'stressful', 'stretch', 'stretched', 'strict', 'strictly', 'stride', 'strike', 'string', 'stringer', 'strip', 'stripped', 'stripping', 'stroke', 'strong', 'strongamazon', 'stronger', 'strongi', 'strongly', 'strongthis', 'strongwe', 'stroyek', 'structural', 'structure', 'struggle', 'struggled', 'struggleit', 'struggling', 'stuck', 'student', 'studio', 'study', 'studying', 'stuff', 'stuffand', 'stuffed', 'stuffer', 'stuffrecommend', 'stufftheres', 'stumbled', 'stupid', 'sturdier', 'sturdiness', 'sturdy', 'sturdyeasy', 'stutdy', 'stutter', 'style', 'stylish', 'stylus', 'sub', 'sub100', 'subcompartmentsorganizer', 'subject', 'subjective', 'submit', 'submitted', 'subpar', 'subscdiption', 'subscribe', 'subscribed', 'subscriber', 'subscribesave', 'subscribing', 'subscription', 'subsequent', 'subsequently', 'subsidize', 'subsidized', 'substance', 'substandarddollar', 'substantial', 'substantially', 'substitute', 'succeed', 'success', 'successful', 'successfully', 'suchhow', 'suchthis', 'suck', 'sucked', 'suckedwouldnt', 'sucker', 'suckered', 'sucking', 'suckstay', 'suction', 'sudden', 'suddenly', 'sudoku', 'sued', 'suffer', 'suffers', 'suffice', 'sufficient', 'sufficiently', 'suggest', 'suggested', 'suggesting', 'suggestion', 'suggests', 'suit', 'suitable', 'suitcase', 'suite', 'suited', 'sulight', 'summarizing', 'summary', 'summer', 'summon', 'summons', 'sun', 'sunbeam', 'sunday', 'sunglass', 'sungoodreads', 'sunlight', 'sunlightordered', 'sunny', 'sunshine', 'super', 'superb', 'superbly', 'superduper', 'supereasy', 'superior', 'supermarket', 'supersharp', 'supervise', 'supervision', 'supper', 'supplement', 'supplemental', 'supplied', 'supplier', 'suppliesi', 'supply', 'supplyi', 'supplying', 'supplythe', 'support', 'supportable', 'supported', 'supporter', 'supporting', 'supportive', 'supportled', 'supportthe', 'suppose', 'supposed', 'supposedly', 'suprised', 'suprises', 'suprisingly', 'sure', 'surebut', 'surecamera', 'surefire', 'sureit', 'surel', 'surely', 'suremaybe', 'surf', 'surface', 'surfacing', 'surfing', 'surfingshoppingetc', 'surfuring', 'surgeon', 'surgery', 'surpassed', 'surpasses', 'surpised', 'surplus', 'surprise', 'surprised', 'surprisedit', 'surprising', 'surprisingly', 'surreptitiously', 'surround', 'surrounded', 'surrounding', 'surroundings', 'surveillance', 'survey', 'survival', 'survive', 'survived', 'survives', 'suspect', 'suspended', 'suster', 'sw', 'swap', 'swapped', 'swapping', 'swear', 'swears', 'sweat', 'sweaty', 'sweden', 'sweeeeeeeeet', 'sweet', 'swelling', 'swift', 'swing', 'swipe', 'swipedi', 'swiping', 'swissphone', 'switch', 'switched', 'switchesremembers', 'switching', 'swooped', 'swoosh', 'swooshing', 'sword', 'swore', 'swype', 'swyping', 'symbol', 'sync', 'synced', 'syncing', 'syncs', 'syndrome', 'system', 'systemfire', 'systemsmy', 'systemtimers', 'ta', 'tab', 'tab3', 'tabelt', 'tabet', 'tabi', 'tabket', 'table', 'tableswork', 'tablet', 'tabletalso', 'tabletdoes', 'tableteasy', 'tabletereader', 'tabletfirst', 'tabletfor', 'tabletgood', 'tablethe', 'tableti', 'tabletim', 'tabletipad', 'tabletit', 'tabletits', 'tabletjust', 'tabletkindle', 'tabletlike', 'tabletlove', 'tabletmuch', 'tabletmy', 'tabletno', 'tabletotherwise', 'tabletperfect', 'tabletperforms', 'tabletpoor', 'tabletreader', 'tabletrecently', 'tabletsconskind', 'tabletshe', 'tabletsipad', 'tabletsize', 'tabletso', 'tabletsome', 'tabletspaperwork', 'tabletsrecommended', 'tabletsso', 'tabletsthey', 'tablett', 'tabletthank', 'tabletthe', 'tabletwithstands', 'tabletwould', 'tabletyou', 'tabley', 'tabwet', 'tackle', 'tacky', 'tact', 'tactical', 'tad', 'tag', 'taillight', 'tailor', 'tailored', 'take', 'taken', 'taking', 'talk', 'talked', 'talkie', 'talking', 'talkinglightup', 'talkreally', 'tall', 'taller', 'tamiya', 'tampered', 'tangerine', 'tangy', 'tank', 'tap', 'tapbecause', 'tape', 'taplet', 'tapping', 'tappy', 'target', 'targetcom', 'targeted', 'tarnished', 'task', 'tasking', 'taste', 'tatty', 'taught', 'tax', 'taylor', 'tbbq', 'tbe', 'tbey', 'tea', 'teach', 'teacher', 'teaching', 'team', 'tear', 'tease', 'teblets', 'tech', 'techie', 'technical', 'technician', 'technilogical', 'technological', 'technologically', 'technology', 'techonology', 'techy', 'teddy', 'teen', 'teenage', 'teenager', 'teenagerand', 'teeshirt', 'teeth', 'teething', 'tekkie', 'telegramads', 'telephone', 'television', 'tell', 'telling', 'temp', 'temperamental', 'temperature', 'tempered', 'tempeture', 'temporarily', 'temporary', 'tempted', 'ten', 'tend', 'tendency', 'tends', 'tension', 'tensionafter', 'term', 'terminal', 'terrible', 'terribly', 'terrifc', 'terrific', 'terrified', 'test', 'tested', 'testedpros', 'tester', 'testernot', 'testeroh', 'testing', 'testsreviews', 'testsreviewsi', 'teststherefore', 'tether', 'tethered', 'tethering', 'texas', 'text', 'texta', 'textbook', 'textbooksso', 'texted', 'texthowever', 'texting', 'textstill', 'textthose', 'texttospeech', 'textured', 'tge', 'th', 'tha', 'thailand', 'thangs', 'thank', 'thankful', 'thankfully', 'thanks', 'thanksgiving', 'thatas', 'thatedited', 'thatfills', 'thati', 'thatit', 'thats', 'thatsnice', 'thea', 'theach', 'theamazon', 'theater', 'theatre', 'thee', 'theft', 'thelarge', 'themalready', 'themalso', 'thembut', 'themdefinitely', 'themeslves', 'themexpected', 'themgo', 'themhad', 'themi', 'themlol', 'themmaybe', 'themmuch', 'themmy', 'themnegatives', 'themplus', 'themread', 'themthanks', 'themthe', 'themthese', 'themwhich', 'themyou', 'then10', 'thentakes', 'theon', 'theorize', 'theory', 'ther', 'therapy', 'there', 'thereafter', 'therebutfor', 'therefore', 'theregreat', 'thereoverall', 'therethe', 'therethis', 'thermometer', 'thermostat', 'thery', 'thes', 'thesealways', 'theseas', 'thesebatteries', 'theseboth', 'thesed', 'theseduracelldespite', 'thesegood', 'thesei', 'theselink', 'theseplease', 'thesethe', 'thesethey', 'theseupdate', 'theseweve', 'theseyoure', 'thesis', 'thess', 'thestore', 'thetap', 'theyblast', 'theyd', 'theyll', 'theyor', 'theyre', 'theyve', 'thhought', 'thick', 'thicker', 'thief', 'thier', 'thin', 'thing', 'things1', 'thingslike', 'thingthe', 'thingto', 'thingy', 'think', 'thinkgrat', 'thinking', 'thinner', 'thinness', 'thinnest', 'third', 'thirdparty', 'thirty', 'thisand', 'thisdevice', 'thisi', 'thisill', 'thisit', 'thisits', 'thisive', 'thison', 'thisportability', 'thisreturned', 'thisstill', 'thisthe', 'thks', 'tho', 'thomas', 'thorough', 'thoroughly', 'thosebut', 'thoseive', 'though', 'thought', 'thoughthe', 'thoughti', 'thoughtsfirst', 'thouroughly', 'thousand', 'thr', 'three', 'threethey', 'threw', 'thrifty', 'thrilled', 'thrilled1', 'throne', 'throughly', 'throughout', 'throughput', 'throw', 'throwing', 'thrown', 'thru', 'thruout', 'thumb', 'thunder', 'thunking', 'thur', 'thursday', 'thus', 'thwy', 'thx', 'thy', 'ti', 'ti83', 'ti84', 'tick', 'ticking', 'tie', 'tied', 'tier', 'tight', 'tighten', 'tightest', 'tightly', 'tike', 'til', 'till', 'tilt', 'tilted', 'tilting', 'timberline', 'time', 'timeamazon', 'timeawesome', 'timed', 'timedisclosure', 'timeframe', 'timehave', 'timei', 'timeits', 'timelots', 'timely', 'timepages', 'timer', 'timersalarms', 'timesoverall', 'timesseems', 'timesthe', 'timethank', 'timethe', 'timethey', 'timewe', 'timing', 'tin', 'tine', 'tinged', 'tinier', 'tiniest', 'tinny', 'tint', 'tiny', 'tip', 'tipping', 'tire', 'tired', 'tiredsecondly', 'titan', 'titanium', 'title', 'tivo', 'tix', 'tjis', 'tmtis', 'to12', 'to12v', 'toast', 'toattach', 'today', 'today20', 'todayi', 'todayotherwise', 'toddler', 'toddlerseasy', 'toddlerwith', 'todead', 'todo', 'tofor', 'together', 'toggle', 'toggling', 'toilet', 'token', 'told', 'toldpeople', 'tolerance', 'tomorrow', 'tomy', 'ton', 'tone', 'toned', 'tongift', 'tonice', 'tonight', 'tony', 'toodler', 'took', 'tool', 'tooo', 'tooprice', 'tooseriously', 'toospecial', 'tooth', 'toothbrush', 'toothe', 'tootight', 'toowould', 'top', 'topay', 'topbrand', 'topic', 'topoverall', 'topped', 'topright', 'topsa', 'topselling', 'topsi', 'topsspend', 'toptier', 'tore', 'torn', 'tornado', 'torpedo', 'tos', 'tosed', 'toshiba', 'toss', 'tossed', 'tossing', 'tot', 'total', 'totally', 'totalwe', 'tote', 'tothe', 'tou', 'touch', 'touchable', 'touched', 'touchee', 'touching', 'touchpadthe', 'touchscreen', 'touchy', 'tough', 'toughshe', 'touted', 'tovery', 'toward', 'towards', 'towel', 'towell', 'tower', 'town', 'toy', 'toyedit', 'toysas', 'toysbatteries', 'toysbut', 'toysflashlights', 'toysgadgets', 'toysi', 'toysremotes', 'toysremotesgame', 'toyswhen', 'trace', 'track', 'trackball', 'tracking', 'trackpad', 'tract', 'trade', 'traded', 'tradeoff', 'trading', 'traditional', 'traditionalist', 'traffic', 'trail', 'trailer', 'train', 'training', 'tranquil', 'transaction', 'transcribe', 'transfer', 'transfered', 'transferred', 'transferredaccessed', 'transferring', 'transformer', 'transition', 'transitioning', 'translate', 'translation', 'transmitter', 'transmtter', 'transport', 'transportability', 'transportable', 'transportation', 'trash', 'trashing', 'travel', 'traveled', 'traveler', 'traveling', 'travelingeasy', 'travelling', 'travelmakes', 'traxxas', 'tray', 'tread', 'treadmill', 'treat', 'treated', 'treble', 'tree', 'tremendous', 'tremendously', 'trending', 'trendy', 'trial', 'triby', 'trick', 'tricked', 'tricky', 'tried', 'triedi', 'trifold', 'trigger', 'trilogy', 'trim', 'trimmer', 'trip', 'triple', 'triplea', 'triplet', 'tripped', 'tripping', 'trivia', 'trouble', 'troublesome', 'trst', 'truck', 'true', 'truely', 'truethese', 'truly', 'trump', 'trust', 'trusted', 'trusting', 'trustworthy', 'trusty', 'truth', 'truthfully', 'try', 'tryafter', 'tryed', 'tryi', 'trying', 'tryinggave', 'tryout', 'tryso', 'tsa', 'tthrough', 'ttje', 'ttry', 'tu', 'tub', 'tube', 'tubitv', 'tuck', 'tucked', 'tuff', 'tug', 'tulsa', 'tumble', 'tumbled', 'tumblr', 'tune', 'tunein', 'tuning', 'tunnel', 'turbo', 'turkey', 'turn', 'turned', 'turner', 'turning', 'turningsometimes', 'turnoff', 'turnover', 'turtle', 'tutorial', 'tutorialsthe', 'tv', 'tvand', 'tvmovies', 'tvstb', 'tweak', 'tweaking', 'tween', 'tweens', 'tweeting', 'twelve', 'twenty', 'twentytwo', 'twhat', 'twice', 'twicemy', 'twin', 'twist', 'twisting', 'twitch', 'twitchy', 'twitter', 'two', 'twothree', 'twotone', 'twoyear', 'twoyearold', 'tx', 'ty', 'tying', 'type', 'typed', 'typethe', 'typewriter', 'typical', 'typically', 'typing', 'typo', 'u', 'uber', 'ubiquitous', 'udated', 'ue', 'ugh', 'ugly', 'uhhhhh', 'uhhhhhyeah', 'uhi', 'uhoh', 'ui', 'uising', 'uithe', 'ultimate', 'ultimately', 'ultra', 'ultraportable', 'ultrasonic', 'um', 'umm', 'unable', 'unacceptable', 'unaceptable', 'unauthorized', 'unavailable', 'unaware', 'unbearably', 'unbeatable', 'unbecoming', 'unbelievable', 'unbelievably', 'unbiased', 'unbox', 'unboxed', 'unboxing', 'unbrandedbatteries', 'unbreakable', 'uncanny', 'uncertain', 'uncertainty', 'uncle', 'unclear', 'uncomfortable', 'uncommon', 'uncomplicated', 'unconditional', 'unconditionally', 'undamaged', 'undemanding', 'undergo', 'undergraduate', 'undergrond', 'underground', 'undergroundcons', 'underneath', 'underpowered', 'understand', 'understandable', 'understandfor', 'understanding', 'understands', 'understatement', 'understood', 'undervoltage', 'underway', 'underwhelming', 'undesirable', 'undone', 'undoubtedly', 'undue', 'unequalled', 'unexpected', 'unexpectedly', 'unexplainably', 'unexplained', 'unfair', 'unfortunate', 'unfortunately', 'unfortunetly', 'unfriendly', 'unhappy', 'uniform', 'uniformity', 'unimportant', 'unimpressive', 'uninterrupted', 'unique', 'uniquelooking', 'unit', 'unitsfire', 'universal', 'universe', 'unknowingly', 'unknown', 'unless', 'unlike', 'unlikely', 'unlimited', 'unlock', 'unlocking', 'unlucky', 'unmetered', 'unnecessary', 'unobtrusive', 'unoped', 'unopened', 'unorganized', 'unpack', 'unparalleled', 'unplug', 'unplugged', 'unpredictable', 'unprepared', 'unread', 'unreal', 'unreasonable', 'unrechargablesbut', 'unrelated', 'unreliable', 'unremarkable', 'unresponsive', 'unrivaled', 'unsafe', 'unsatisfactory', 'unschooled', 'unselfish', 'unsnaps', 'unstable', 'unsubscribed', 'unsupervised', 'unsure', 'unsurpassed', 'unsurprisingly', 'untrustworthydies', 'unusable', 'unused', 'unusual', 'unwanted', 'unwilling', 'unworthy', 'unwrap', 'unwrapped', 'unwrapping', 'upat', 'upcharge', 'upcoming', 'upcon', 'update', 'updated', 'updatescamera', 'updating', 'updead', 'upfloating', 'upfront', 'upgradable', 'upgrade', 'upgraded', 'upgradereplacement', 'upgradesôºålove', 'upgrading', 'upholds', 'upholstery', 'upive', 'upload', 'uploaded', 'uploading', 'uploads', 'upon', 'upone', 'upper', 'uppity', 'upright', 'ups', 'upset', 'upside', 'upsized', 'upstairs', 'upto', 'ur', 'urge', 'us', 'usa', 'usability', 'usable', 'usage', 'usageits', 'usb', 'usb3', 'usbc', 'usbmini', 'usbpower', 'usbs', 'usd15000', 'use', 'useage', 'usebut', 'usecant', 'used', 'used6', 'usedd', 'usedold', 'usedoverall', 'usedwont', 'usefits', 'useful', 'usefule', 'usefully', 'usefulness', 'usefulto', 'usegreat', 'usehave', 'usehe', 'usehighly', 'useholdthe', 'usei', 'usekeeping', 'useless', 'uselife', 'uselove', 'usemy', 'useperfect', 'usepicture', 'useplus', 'user', 'userexpandable', 'userfriendly', 'useshe', 'usesill', 'useso', 'usethe', 'usetheres', 'usevery', 'usewhich', 'usewould', 'usin', 'using', 'usingplaying', 'usingwe', 'usr', 'usrussian', 'ussourced', 'usual', 'usually', 'uswe', 'ut', 'utilitarian', 'utility', 'utilize', 'utilizes', 'utilizing', 'utter', 'utterly', 'utube', 'uxcelplastic', 'v', 'v1', 'v20the', 'vac', 'vacation', 'vacuum', 'vacuumsealed', 'vader', 'vague', 'valid', 'valuable', 'valuation', 'value', 'valueand', 'valuebest', 'valueconsnone', 'valued', 'valuegreat', 'valueright', 'valuesame', 'valueupdated', 'valuewe', 'valuewise', 'valueworks', 'valve', 'vanilla', 'vanished', 'variable', 'variablethoughtsamazons', 'variant', 'variation', 'varies', 'variety', 'various', 'vary', 'varying', 'vast', 'vastly', 'vdc', 'vector', 'veeery', 'vehicle', 'velcro', 'vender', 'vendor', 'vent', 'ventilated', 'ventured', 'venue', 'ver', 'verbally', 'verified', 'verify', 'verizon', 'versatile', 'versatility', 'verse', 'version', 'versiongreat', 'versioni', 'versionwife', 'versus', 'vertical', 'vertically', 'veru', 'verygood', 'vet', 'veteran', 'vey', 'vg', 'vga', 'vgf', 'vi', 'via', 'viable', 'viber', 'vibrant', 'vibrantfor', 'vibrate', 'vibrating', 'vibration', 'vibrator', 'vice', 'victim', 'victory', 'video', 'videoit', 'videosbrowse', 'videosgames', 'videosmovies', 'videosonly', 'videosplaying', 'videosthis', 'videosuser', 'viedosthanks', 'vietnam', 'view', 'viewable', 'viewed', 'viewer', 'viewing', 'viewwhere', 'vigor', 'village', 'violent', 'virtual', 'virtually', 'virus', 'visa', 'visibility', 'visible', 'visibly', 'vision', 'visit', 'visiting', 'visual', 'visualize', 'visually', 'visuals', 'vital', 'vivid', 'vlc', 'vocabulary', 'vocal', 'voice', 'voiceactivated', 'voicecast', 'voicenow', 'void', 'voiding', 'volt', 'voltage', 'voltmeter', 'volume', 'volumedidnt', 'voracious', 'voraciously', 'vote', 'vouch', 'vouche', 'vowed', 'voyage', 'voyageamazing', 'voyagebig', 'voyagei', 'voyager', 'vudu', 'vulcan', 'w', 'wa', 'wacky', 'wad', 'wager', 'wagging', 'waist', 'waistband', 'wait', 'waited', 'waiting', 'waitingrooms', 'wake', 'waking', 'walgreens', 'walk', 'walkabout', 'walked', 'walkie', 'walkies', 'walkietalkie', 'walkietalkies', 'walking', 'walkway', 'wall', 'walled', 'wallet', 'walli', 'wallpaper', 'wallpaperbeyond', 'wally', 'wallymart', 'walmart', 'walmartcomtheir', 'wand', 'wandering', 'wanna', 'want', 'wanted', 'wantedbest', 'wanting', 'wantneed', 'wantthe', 'war', 'ware', 'warehouse', 'warentee', 'warenty', 'warm', 'warmer', 'warned', 'warning', 'warrant', 'warrantee', 'warranty', 'warrantyif', 'warrantyone', 'warrenty', 'wasabout', 'wasd', 'wasdisch', 'wash', 'washed', 'washer', 'washington', 'wasnt', 'wast', 'waste', 'wasted', 'wasteful', 'wasteyour', 'wasthe', 'wasting', 'wat', 'watch', 'watched', 'watcher', 'watching', 'watchread', 'water', 'watering', 'waterproof', 'waterproofamazon', 'watt', 'wattage', 'watthour', 'wave', 'wax', 'way', 'waysand', 'waysremote', 'wayyyyy', 'wd', 'weak', 'weakened', 'weaker', 'weakest', 'weakness', 'wear', 'wearable', 'wearing', 'weartear', 'weary', 'weather', 'weatherall', 'web', 'webgames', 'webpage', 'webroot', 'website', 'websurfing', 'wed', 'wedding', 'wee', 'week', 'weekandahalf', 'weekblah', 'weekday', 'weekend', 'weeki', 'weekly', 'weeksi', 'weeksjunk', 'weekslowresolution', 'weels', 'wegmans', 'weigh', 'weighed', 'weighing', 'weighs', 'weight', 'weighted', 'weightless', 'weightso', 'weird', 'wel', 'welcome', 'welcomed', 'welded', 'well', 'wellafter', 'wellfeels', 'welli', 'wellinformed', 'wellit', 'welljust', 'wellknown', 'welllet', 'wellmade', 'wellonly', 'wellpackaged', 'wellpriced', 'wellprotected', 'wellreasonably', 'wellsize', 'wellspaced', 'wellsuper', 'wellthe', 'wellthere', 'welltheres', 'wellthey', 'wellthis', 'wellworth', 'wemo', 'wemodevice', 'wen', 'went', 'weredisch', 'werent', 'west', 'western', 'westland', 'wet', 'wether', 'weve', 'wfi', 'what13', 'whatever', 'whateveryou', 'whatif', 'whats', 'whatsoever', 'whatthey', 'wheel', 'whenever', 'wheni', 'whereas', 'wherever', 'whether', 'whey', 'whichever', 'whilst', 'whim', 'whip', 'whispersync', 'whistle', 'whit', 'white', 'whitepage', 'whiter', 'whivh', 'who', 'whoever', 'whole', 'wholesale', 'whooping', 'whopping', 'whose', 'whywouldamazonbother', 'wi', 'wide', 'widelyaccepted', 'wider', 'width', 'wieght', 'wif', 'wife', 'wifei', 'wifi', 'wifienabled', 'wifisseems', 'wiggle', 'wii', 'wiimote', 'wiimotes', 'wikipedia', 'wikipediafarmers', 'wil', 'wild', 'wilderness', 'wildlife', 'willbe', 'willing', 'willynilly', 'wilol', 'win', 'wind', 'window', 'wine', 'wink', 'winner', 'winter', 'winwin', 'wipe', 'wire', 'wired', 'wireless', 'wirelessit', 'wirelessly', 'wirth', 'wise', 'wisei', 'wish', 'wished', 'wishing', 'wishlist', 'wit', 'with2', 'withi', 'within', 'withing', 'without', 'withoutadoubt', 'withrugged', 'withstand', 'withstands', 'withstood', 'withunderstandably', 'witnessed', 'wizard', 'wll', 'wnough', 'wo', 'woeful', 'woeks', 'woke', 'woken', 'wold', 'wolf', 'woman', 'wonder', 'wondered', 'wonderful', 'wonderfull', 'wonderfully', 'wondering', 'wonky', 'wont', 'wonti', 'woo', 'wood', 'woohoo', 'wor', 'word', 'worded', 'wordless', 'wore', 'work', 'workable', 'workamazon', 'workand', 'workaround', 'workbut', 'worked', 'worker', 'worki', 'workim', 'workin', 'working', 'workingshort', 'workingso', 'workingwtf', 'worklike', 'workmanship', 'workno', 'workout', 'workoutamazons', 'workrelated', 'workscons', 'worksheet', 'worksince', 'worksnot', 'workso', 'workthey', 'workused', 'workyay', 'world', 'worldwide', 'worm', 'worn', 'worried', 'worriesthey', 'worry', 'worrying', 'worse', 'worst', 'worth', 'worthiness', 'worthless', 'worthwhat', 'worthwhile', 'worthy', 'wotks', 'woudl', 'would', 'wouldeasy', 'wouldnt', 'wouldseeing', 'wouldso', 'wouldve', 'wound', 'wow', 'wowing', 'wowthe', 'wrap', 'wrapped', 'wrapper', 'wrapperthe', 'wrapping', 'wrath', 'wreath', 'wrecked', 'wrestle', 'wretched', 'wrist', 'write', 'writes', 'writing', 'written', 'wrone', 'wrong', 'wrongthe', 'wrongthese', 'wrongwe', 'wrote', 'wrt', 'wry', 'wth', 'wthe', 'wuality', 'wud', 'wv', 'ww2', 'wwan', 'wyou', 'x', 'x1', 'x2', 'x3', 'xan', 'xb1', 'xb360', 'xbone', 'xbox', 'xbox1', 'xboxwii', 'xd', 'xfat', 'xfinity', 'xl', 'xl200s', 'xlarge', 'xlsx', 'xm', 'xmas', 'xmas2015', 'xmashave', 'xmaswas', 'xpected', 'xray', 'ya', 'yafine', 'yahoo', 'yall', 'yard', 'yassss', 'yay', 'yea', 'yeah', 'year', 'yearbook', 'yearbut', 'yeargot', 'yeari', 'yearly', 'yearnot', 'yearold', 'yearolds', 'yearscant', 'yearsmy', 'yearsold', 'yearsthe', 'yearswhat', 'yeartime', 'yell', 'yelled', 'yellow', 'yellowish', 'yep', 'yepportable', 'yer', 'yes', 'yeshope', 'yesterday', 'yet', 'yetall', 'yetfastestand', 'yetthe', 'yetthis', 'yo', 'yoga', 'yokod', 'york', 'yoru', 'youand', 'youbut', 'youd', 'youe', 'youjose', 'youkathleen', 'youll', 'young', 'younger', 'youngest', 'youngster', 'youprosum', 'youre', 'youreyesprobably', 'yourselfjs', 'youse', 'youself', 'youth', 'youtube', 'youtubeoverall', 'youtypically', 'youve', 'ypu', 'yr', 'ytd', 'yucky', 'yup', 'yupthey', 'zap', 'zer0', 'zerg', 'zero', 'zillion', 'zillionth', 'zinio', 'ziploc', 'ziplock', 'zipper', 'zippered', 'zippo', 'zippy', 'zombie', 'zone', 'zoom', 'zr', 'ztotop', 'zwave', 'ä', 'äãis', 'äì', 'äô', 'äôd', 'äôll', 'äôm', 'äôre', 'äôs', 'äôsadvertisement', 'äôt', 'äôve', 'äù', 'äùtablet', 'äúdualbattery', 'äúparent', 'äúyoutube', 'è', 'ò', 'ôºå', 'ƒ']\n"
     ]
    },
    {
     "name": "stderr",
     "output_type": "stream",
     "text": [
      "C:\\Users\\49178\\anaconda3\\envs\\final_project\\lib\\site-packages\\sklearn\\utils\\deprecation.py:87: FutureWarning: Function get_feature_names is deprecated; get_feature_names is deprecated in 1.0 and will be removed in 1.2. Please use get_feature_names_out instead.\n",
      "  warnings.warn(msg, category=FutureWarning)\n"
     ]
    }
   ],
   "source": [
    "tfidf_vector = TfidfVectorizer(analyzer=clean_text, ngram_range=(1, 5), sublinear_tf=True)\n",
    "X_tfidf = tfidf_vector.fit_transform(df['reviews_text'])\n",
    "\n",
    "\n",
    "print(X_tfidf.shape)\n",
    "print(tfidf_vector.get_feature_names())"
   ]
  },
  {
   "cell_type": "markdown",
   "id": "b33c3e5e",
   "metadata": {},
   "source": [
    "Apply TfidfVectorizer to smaller sample to take a peek"
   ]
  },
  {
   "cell_type": "code",
   "execution_count": 14,
   "id": "070b0b36",
   "metadata": {},
   "outputs": [
    {
     "name": "stdout",
     "output_type": "stream",
     "text": [
      "(20, 79)\n",
      "['3', 'aa', 'aaa', 'aluminum', 'always', 'amazon', 'amazonbasics', 'amount', 'appear', 'arrive', 'backup', 'bad', 'basic', 'battery', 'better', 'bought', 'brand', 'bulk', 'buy', 'cell', 'cheap', 'christmas', 'difference', 'done', 'duracell', 'easier', 'energizer', 'expensive', 'go', 'good', 'great', 'half', 'hand', 'happy', 'havent', 'high', 'hold', 'house', 'ill', 'item', 'ive', 'juice', 'last', 'lasting', 'le', 'life', 'like', 'long', 'looking', 'lot', 'make', 'missing', 'much', 'name', 'nonrechargeable', 'nothing', 'noticed', 'one', 'order', 'ordered', 'past', 'pc', 'perfect', 'pleased', 'power', 'price', 'problame', 'product', 'purchase', 'put', 'quality', 'quite', 'say', 'seem', 'shelf', 'spring', 'way', 'well', 'work']\n"
     ]
    }
   ],
   "source": [
    "df_sample = df[0:20]\n",
    "\n",
    "tfidf_vector_sample = TfidfVectorizer(analyzer=clean_text, ngram_range=(1, 5), sublinear_tf=True)\n",
    "X_tfidf_sample = tfidf_vector_sample.fit_transform(df_sample['reviews_text'])\n",
    "print(X_tfidf_sample.shape)\n",
    "print(tfidf_vector_sample.get_feature_names())"
   ]
  },
  {
   "cell_type": "code",
   "execution_count": 18,
   "id": "353c9f42",
   "metadata": {},
   "outputs": [
    {
     "data": {
      "text/html": [
       "<div>\n",
       "<style scoped>\n",
       "    .dataframe tbody tr th:only-of-type {\n",
       "        vertical-align: middle;\n",
       "    }\n",
       "\n",
       "    .dataframe tbody tr th {\n",
       "        vertical-align: top;\n",
       "    }\n",
       "\n",
       "    .dataframe thead th {\n",
       "        text-align: right;\n",
       "    }\n",
       "</style>\n",
       "<table border=\"1\" class=\"dataframe\">\n",
       "  <thead>\n",
       "    <tr style=\"text-align: right;\">\n",
       "      <th></th>\n",
       "      <th>3</th>\n",
       "      <th>aa</th>\n",
       "      <th>aaa</th>\n",
       "      <th>aluminum</th>\n",
       "      <th>always</th>\n",
       "      <th>amazon</th>\n",
       "      <th>amazonbasics</th>\n",
       "      <th>amount</th>\n",
       "      <th>appear</th>\n",
       "      <th>arrive</th>\n",
       "      <th>...</th>\n",
       "      <th>put</th>\n",
       "      <th>quality</th>\n",
       "      <th>quite</th>\n",
       "      <th>say</th>\n",
       "      <th>seem</th>\n",
       "      <th>shelf</th>\n",
       "      <th>spring</th>\n",
       "      <th>way</th>\n",
       "      <th>well</th>\n",
       "      <th>work</th>\n",
       "    </tr>\n",
       "  </thead>\n",
       "  <tbody>\n",
       "    <tr>\n",
       "      <th>0</th>\n",
       "      <td>0.268326</td>\n",
       "      <td>0.000000</td>\n",
       "      <td>0.000000</td>\n",
       "      <td>0.268326</td>\n",
       "      <td>0.000000</td>\n",
       "      <td>0.00000</td>\n",
       "      <td>0.000000</td>\n",
       "      <td>0.000000</td>\n",
       "      <td>0.000000</td>\n",
       "      <td>0.00000</td>\n",
       "      <td>...</td>\n",
       "      <td>0.268326</td>\n",
       "      <td>0.268326</td>\n",
       "      <td>0.000000</td>\n",
       "      <td>0.000000</td>\n",
       "      <td>0.000000</td>\n",
       "      <td>0.000000</td>\n",
       "      <td>0.268326</td>\n",
       "      <td>0.000000</td>\n",
       "      <td>0.000000</td>\n",
       "      <td>0.221798</td>\n",
       "    </tr>\n",
       "    <tr>\n",
       "      <th>1</th>\n",
       "      <td>0.268326</td>\n",
       "      <td>0.000000</td>\n",
       "      <td>0.000000</td>\n",
       "      <td>0.268326</td>\n",
       "      <td>0.000000</td>\n",
       "      <td>0.00000</td>\n",
       "      <td>0.000000</td>\n",
       "      <td>0.000000</td>\n",
       "      <td>0.000000</td>\n",
       "      <td>0.00000</td>\n",
       "      <td>...</td>\n",
       "      <td>0.268326</td>\n",
       "      <td>0.268326</td>\n",
       "      <td>0.000000</td>\n",
       "      <td>0.000000</td>\n",
       "      <td>0.000000</td>\n",
       "      <td>0.000000</td>\n",
       "      <td>0.268326</td>\n",
       "      <td>0.000000</td>\n",
       "      <td>0.000000</td>\n",
       "      <td>0.221798</td>\n",
       "    </tr>\n",
       "    <tr>\n",
       "      <th>2</th>\n",
       "      <td>0.000000</td>\n",
       "      <td>0.000000</td>\n",
       "      <td>0.000000</td>\n",
       "      <td>0.000000</td>\n",
       "      <td>0.360767</td>\n",
       "      <td>0.00000</td>\n",
       "      <td>0.000000</td>\n",
       "      <td>0.000000</td>\n",
       "      <td>0.000000</td>\n",
       "      <td>0.00000</td>\n",
       "      <td>...</td>\n",
       "      <td>0.000000</td>\n",
       "      <td>0.000000</td>\n",
       "      <td>0.000000</td>\n",
       "      <td>0.000000</td>\n",
       "      <td>0.000000</td>\n",
       "      <td>0.000000</td>\n",
       "      <td>0.000000</td>\n",
       "      <td>0.360767</td>\n",
       "      <td>0.000000</td>\n",
       "      <td>0.000000</td>\n",
       "    </tr>\n",
       "    <tr>\n",
       "      <th>3</th>\n",
       "      <td>0.000000</td>\n",
       "      <td>0.000000</td>\n",
       "      <td>0.000000</td>\n",
       "      <td>0.000000</td>\n",
       "      <td>0.360767</td>\n",
       "      <td>0.00000</td>\n",
       "      <td>0.000000</td>\n",
       "      <td>0.000000</td>\n",
       "      <td>0.000000</td>\n",
       "      <td>0.00000</td>\n",
       "      <td>...</td>\n",
       "      <td>0.000000</td>\n",
       "      <td>0.000000</td>\n",
       "      <td>0.000000</td>\n",
       "      <td>0.000000</td>\n",
       "      <td>0.000000</td>\n",
       "      <td>0.000000</td>\n",
       "      <td>0.000000</td>\n",
       "      <td>0.360767</td>\n",
       "      <td>0.000000</td>\n",
       "      <td>0.000000</td>\n",
       "    </tr>\n",
       "    <tr>\n",
       "      <th>4</th>\n",
       "      <td>0.000000</td>\n",
       "      <td>0.000000</td>\n",
       "      <td>0.000000</td>\n",
       "      <td>0.000000</td>\n",
       "      <td>0.000000</td>\n",
       "      <td>0.00000</td>\n",
       "      <td>0.000000</td>\n",
       "      <td>0.000000</td>\n",
       "      <td>0.000000</td>\n",
       "      <td>0.00000</td>\n",
       "      <td>...</td>\n",
       "      <td>0.000000</td>\n",
       "      <td>0.000000</td>\n",
       "      <td>0.000000</td>\n",
       "      <td>0.000000</td>\n",
       "      <td>0.000000</td>\n",
       "      <td>0.000000</td>\n",
       "      <td>0.000000</td>\n",
       "      <td>0.000000</td>\n",
       "      <td>0.399020</td>\n",
       "      <td>0.000000</td>\n",
       "    </tr>\n",
       "    <tr>\n",
       "      <th>5</th>\n",
       "      <td>0.000000</td>\n",
       "      <td>0.000000</td>\n",
       "      <td>0.000000</td>\n",
       "      <td>0.000000</td>\n",
       "      <td>0.000000</td>\n",
       "      <td>0.00000</td>\n",
       "      <td>0.000000</td>\n",
       "      <td>0.000000</td>\n",
       "      <td>0.000000</td>\n",
       "      <td>0.00000</td>\n",
       "      <td>...</td>\n",
       "      <td>0.000000</td>\n",
       "      <td>0.000000</td>\n",
       "      <td>0.000000</td>\n",
       "      <td>0.000000</td>\n",
       "      <td>0.000000</td>\n",
       "      <td>0.000000</td>\n",
       "      <td>0.000000</td>\n",
       "      <td>0.000000</td>\n",
       "      <td>0.399020</td>\n",
       "      <td>0.000000</td>\n",
       "    </tr>\n",
       "    <tr>\n",
       "      <th>6</th>\n",
       "      <td>0.000000</td>\n",
       "      <td>0.000000</td>\n",
       "      <td>0.000000</td>\n",
       "      <td>0.000000</td>\n",
       "      <td>0.000000</td>\n",
       "      <td>0.00000</td>\n",
       "      <td>0.000000</td>\n",
       "      <td>0.000000</td>\n",
       "      <td>0.000000</td>\n",
       "      <td>0.00000</td>\n",
       "      <td>...</td>\n",
       "      <td>0.000000</td>\n",
       "      <td>0.000000</td>\n",
       "      <td>0.000000</td>\n",
       "      <td>0.000000</td>\n",
       "      <td>0.406825</td>\n",
       "      <td>0.000000</td>\n",
       "      <td>0.000000</td>\n",
       "      <td>0.000000</td>\n",
       "      <td>0.255109</td>\n",
       "      <td>0.336281</td>\n",
       "    </tr>\n",
       "    <tr>\n",
       "      <th>7</th>\n",
       "      <td>0.000000</td>\n",
       "      <td>0.000000</td>\n",
       "      <td>0.000000</td>\n",
       "      <td>0.000000</td>\n",
       "      <td>0.000000</td>\n",
       "      <td>0.00000</td>\n",
       "      <td>0.000000</td>\n",
       "      <td>0.000000</td>\n",
       "      <td>0.000000</td>\n",
       "      <td>0.00000</td>\n",
       "      <td>...</td>\n",
       "      <td>0.000000</td>\n",
       "      <td>0.000000</td>\n",
       "      <td>0.000000</td>\n",
       "      <td>0.000000</td>\n",
       "      <td>0.406825</td>\n",
       "      <td>0.000000</td>\n",
       "      <td>0.000000</td>\n",
       "      <td>0.000000</td>\n",
       "      <td>0.255109</td>\n",
       "      <td>0.336281</td>\n",
       "    </tr>\n",
       "    <tr>\n",
       "      <th>8</th>\n",
       "      <td>0.000000</td>\n",
       "      <td>0.000000</td>\n",
       "      <td>0.000000</td>\n",
       "      <td>0.000000</td>\n",
       "      <td>0.000000</td>\n",
       "      <td>0.00000</td>\n",
       "      <td>0.000000</td>\n",
       "      <td>0.000000</td>\n",
       "      <td>0.000000</td>\n",
       "      <td>0.00000</td>\n",
       "      <td>...</td>\n",
       "      <td>0.000000</td>\n",
       "      <td>0.000000</td>\n",
       "      <td>0.000000</td>\n",
       "      <td>0.000000</td>\n",
       "      <td>0.000000</td>\n",
       "      <td>0.000000</td>\n",
       "      <td>0.000000</td>\n",
       "      <td>0.000000</td>\n",
       "      <td>0.000000</td>\n",
       "      <td>0.000000</td>\n",
       "    </tr>\n",
       "    <tr>\n",
       "      <th>9</th>\n",
       "      <td>0.000000</td>\n",
       "      <td>0.000000</td>\n",
       "      <td>0.000000</td>\n",
       "      <td>0.000000</td>\n",
       "      <td>0.000000</td>\n",
       "      <td>0.00000</td>\n",
       "      <td>0.000000</td>\n",
       "      <td>0.000000</td>\n",
       "      <td>0.000000</td>\n",
       "      <td>0.00000</td>\n",
       "      <td>...</td>\n",
       "      <td>0.000000</td>\n",
       "      <td>0.000000</td>\n",
       "      <td>0.000000</td>\n",
       "      <td>0.000000</td>\n",
       "      <td>0.000000</td>\n",
       "      <td>0.000000</td>\n",
       "      <td>0.000000</td>\n",
       "      <td>0.000000</td>\n",
       "      <td>0.000000</td>\n",
       "      <td>0.000000</td>\n",
       "    </tr>\n",
       "    <tr>\n",
       "      <th>10</th>\n",
       "      <td>0.000000</td>\n",
       "      <td>0.000000</td>\n",
       "      <td>0.000000</td>\n",
       "      <td>0.000000</td>\n",
       "      <td>0.000000</td>\n",
       "      <td>0.21745</td>\n",
       "      <td>0.179744</td>\n",
       "      <td>0.000000</td>\n",
       "      <td>0.000000</td>\n",
       "      <td>0.21745</td>\n",
       "      <td>...</td>\n",
       "      <td>0.000000</td>\n",
       "      <td>0.000000</td>\n",
       "      <td>0.000000</td>\n",
       "      <td>0.000000</td>\n",
       "      <td>0.000000</td>\n",
       "      <td>0.000000</td>\n",
       "      <td>0.000000</td>\n",
       "      <td>0.000000</td>\n",
       "      <td>0.000000</td>\n",
       "      <td>0.000000</td>\n",
       "    </tr>\n",
       "    <tr>\n",
       "      <th>11</th>\n",
       "      <td>0.000000</td>\n",
       "      <td>0.000000</td>\n",
       "      <td>0.000000</td>\n",
       "      <td>0.000000</td>\n",
       "      <td>0.000000</td>\n",
       "      <td>0.21745</td>\n",
       "      <td>0.179744</td>\n",
       "      <td>0.000000</td>\n",
       "      <td>0.000000</td>\n",
       "      <td>0.21745</td>\n",
       "      <td>...</td>\n",
       "      <td>0.000000</td>\n",
       "      <td>0.000000</td>\n",
       "      <td>0.000000</td>\n",
       "      <td>0.000000</td>\n",
       "      <td>0.000000</td>\n",
       "      <td>0.000000</td>\n",
       "      <td>0.000000</td>\n",
       "      <td>0.000000</td>\n",
       "      <td>0.000000</td>\n",
       "      <td>0.000000</td>\n",
       "    </tr>\n",
       "    <tr>\n",
       "      <th>12</th>\n",
       "      <td>0.000000</td>\n",
       "      <td>0.000000</td>\n",
       "      <td>0.000000</td>\n",
       "      <td>0.000000</td>\n",
       "      <td>0.000000</td>\n",
       "      <td>0.00000</td>\n",
       "      <td>0.000000</td>\n",
       "      <td>0.000000</td>\n",
       "      <td>0.000000</td>\n",
       "      <td>0.00000</td>\n",
       "      <td>...</td>\n",
       "      <td>0.000000</td>\n",
       "      <td>0.000000</td>\n",
       "      <td>0.000000</td>\n",
       "      <td>0.000000</td>\n",
       "      <td>0.000000</td>\n",
       "      <td>0.000000</td>\n",
       "      <td>0.000000</td>\n",
       "      <td>0.000000</td>\n",
       "      <td>0.000000</td>\n",
       "      <td>0.000000</td>\n",
       "    </tr>\n",
       "    <tr>\n",
       "      <th>13</th>\n",
       "      <td>0.000000</td>\n",
       "      <td>0.000000</td>\n",
       "      <td>0.000000</td>\n",
       "      <td>0.000000</td>\n",
       "      <td>0.000000</td>\n",
       "      <td>0.00000</td>\n",
       "      <td>0.000000</td>\n",
       "      <td>0.000000</td>\n",
       "      <td>0.000000</td>\n",
       "      <td>0.00000</td>\n",
       "      <td>...</td>\n",
       "      <td>0.000000</td>\n",
       "      <td>0.000000</td>\n",
       "      <td>0.000000</td>\n",
       "      <td>0.000000</td>\n",
       "      <td>0.000000</td>\n",
       "      <td>0.000000</td>\n",
       "      <td>0.000000</td>\n",
       "      <td>0.000000</td>\n",
       "      <td>0.000000</td>\n",
       "      <td>0.000000</td>\n",
       "    </tr>\n",
       "    <tr>\n",
       "      <th>14</th>\n",
       "      <td>0.000000</td>\n",
       "      <td>0.000000</td>\n",
       "      <td>0.000000</td>\n",
       "      <td>0.000000</td>\n",
       "      <td>0.000000</td>\n",
       "      <td>0.00000</td>\n",
       "      <td>0.000000</td>\n",
       "      <td>0.000000</td>\n",
       "      <td>0.000000</td>\n",
       "      <td>0.00000</td>\n",
       "      <td>...</td>\n",
       "      <td>0.000000</td>\n",
       "      <td>0.000000</td>\n",
       "      <td>0.341016</td>\n",
       "      <td>0.341016</td>\n",
       "      <td>0.000000</td>\n",
       "      <td>0.000000</td>\n",
       "      <td>0.000000</td>\n",
       "      <td>0.000000</td>\n",
       "      <td>0.213842</td>\n",
       "      <td>0.000000</td>\n",
       "    </tr>\n",
       "    <tr>\n",
       "      <th>15</th>\n",
       "      <td>0.000000</td>\n",
       "      <td>0.000000</td>\n",
       "      <td>0.000000</td>\n",
       "      <td>0.000000</td>\n",
       "      <td>0.000000</td>\n",
       "      <td>0.00000</td>\n",
       "      <td>0.000000</td>\n",
       "      <td>0.000000</td>\n",
       "      <td>0.000000</td>\n",
       "      <td>0.00000</td>\n",
       "      <td>...</td>\n",
       "      <td>0.000000</td>\n",
       "      <td>0.000000</td>\n",
       "      <td>0.341016</td>\n",
       "      <td>0.341016</td>\n",
       "      <td>0.000000</td>\n",
       "      <td>0.000000</td>\n",
       "      <td>0.000000</td>\n",
       "      <td>0.000000</td>\n",
       "      <td>0.213842</td>\n",
       "      <td>0.000000</td>\n",
       "    </tr>\n",
       "    <tr>\n",
       "      <th>16</th>\n",
       "      <td>0.000000</td>\n",
       "      <td>0.000000</td>\n",
       "      <td>0.000000</td>\n",
       "      <td>0.000000</td>\n",
       "      <td>0.000000</td>\n",
       "      <td>0.00000</td>\n",
       "      <td>0.000000</td>\n",
       "      <td>0.337874</td>\n",
       "      <td>0.000000</td>\n",
       "      <td>0.00000</td>\n",
       "      <td>...</td>\n",
       "      <td>0.000000</td>\n",
       "      <td>0.000000</td>\n",
       "      <td>0.000000</td>\n",
       "      <td>0.000000</td>\n",
       "      <td>0.000000</td>\n",
       "      <td>0.000000</td>\n",
       "      <td>0.000000</td>\n",
       "      <td>0.000000</td>\n",
       "      <td>0.000000</td>\n",
       "      <td>0.000000</td>\n",
       "    </tr>\n",
       "    <tr>\n",
       "      <th>17</th>\n",
       "      <td>0.000000</td>\n",
       "      <td>0.000000</td>\n",
       "      <td>0.000000</td>\n",
       "      <td>0.000000</td>\n",
       "      <td>0.000000</td>\n",
       "      <td>0.00000</td>\n",
       "      <td>0.000000</td>\n",
       "      <td>0.337874</td>\n",
       "      <td>0.000000</td>\n",
       "      <td>0.00000</td>\n",
       "      <td>...</td>\n",
       "      <td>0.000000</td>\n",
       "      <td>0.000000</td>\n",
       "      <td>0.000000</td>\n",
       "      <td>0.000000</td>\n",
       "      <td>0.000000</td>\n",
       "      <td>0.000000</td>\n",
       "      <td>0.000000</td>\n",
       "      <td>0.000000</td>\n",
       "      <td>0.000000</td>\n",
       "      <td>0.000000</td>\n",
       "    </tr>\n",
       "    <tr>\n",
       "      <th>18</th>\n",
       "      <td>0.000000</td>\n",
       "      <td>0.321931</td>\n",
       "      <td>0.321931</td>\n",
       "      <td>0.000000</td>\n",
       "      <td>0.000000</td>\n",
       "      <td>0.00000</td>\n",
       "      <td>0.266108</td>\n",
       "      <td>0.000000</td>\n",
       "      <td>0.321931</td>\n",
       "      <td>0.00000</td>\n",
       "      <td>...</td>\n",
       "      <td>0.000000</td>\n",
       "      <td>0.000000</td>\n",
       "      <td>0.000000</td>\n",
       "      <td>0.000000</td>\n",
       "      <td>0.000000</td>\n",
       "      <td>0.321931</td>\n",
       "      <td>0.000000</td>\n",
       "      <td>0.000000</td>\n",
       "      <td>0.201874</td>\n",
       "      <td>0.000000</td>\n",
       "    </tr>\n",
       "    <tr>\n",
       "      <th>19</th>\n",
       "      <td>0.000000</td>\n",
       "      <td>0.321931</td>\n",
       "      <td>0.321931</td>\n",
       "      <td>0.000000</td>\n",
       "      <td>0.000000</td>\n",
       "      <td>0.00000</td>\n",
       "      <td>0.266108</td>\n",
       "      <td>0.000000</td>\n",
       "      <td>0.321931</td>\n",
       "      <td>0.00000</td>\n",
       "      <td>...</td>\n",
       "      <td>0.000000</td>\n",
       "      <td>0.000000</td>\n",
       "      <td>0.000000</td>\n",
       "      <td>0.000000</td>\n",
       "      <td>0.000000</td>\n",
       "      <td>0.321931</td>\n",
       "      <td>0.000000</td>\n",
       "      <td>0.000000</td>\n",
       "      <td>0.201874</td>\n",
       "      <td>0.000000</td>\n",
       "    </tr>\n",
       "  </tbody>\n",
       "</table>\n",
       "<p>20 rows × 79 columns</p>\n",
       "</div>"
      ],
      "text/plain": [
       "           3        aa       aaa  aluminum    always   amazon  amazonbasics  \\\n",
       "0   0.268326  0.000000  0.000000  0.268326  0.000000  0.00000      0.000000   \n",
       "1   0.268326  0.000000  0.000000  0.268326  0.000000  0.00000      0.000000   \n",
       "2   0.000000  0.000000  0.000000  0.000000  0.360767  0.00000      0.000000   \n",
       "3   0.000000  0.000000  0.000000  0.000000  0.360767  0.00000      0.000000   \n",
       "4   0.000000  0.000000  0.000000  0.000000  0.000000  0.00000      0.000000   \n",
       "5   0.000000  0.000000  0.000000  0.000000  0.000000  0.00000      0.000000   \n",
       "6   0.000000  0.000000  0.000000  0.000000  0.000000  0.00000      0.000000   \n",
       "7   0.000000  0.000000  0.000000  0.000000  0.000000  0.00000      0.000000   \n",
       "8   0.000000  0.000000  0.000000  0.000000  0.000000  0.00000      0.000000   \n",
       "9   0.000000  0.000000  0.000000  0.000000  0.000000  0.00000      0.000000   \n",
       "10  0.000000  0.000000  0.000000  0.000000  0.000000  0.21745      0.179744   \n",
       "11  0.000000  0.000000  0.000000  0.000000  0.000000  0.21745      0.179744   \n",
       "12  0.000000  0.000000  0.000000  0.000000  0.000000  0.00000      0.000000   \n",
       "13  0.000000  0.000000  0.000000  0.000000  0.000000  0.00000      0.000000   \n",
       "14  0.000000  0.000000  0.000000  0.000000  0.000000  0.00000      0.000000   \n",
       "15  0.000000  0.000000  0.000000  0.000000  0.000000  0.00000      0.000000   \n",
       "16  0.000000  0.000000  0.000000  0.000000  0.000000  0.00000      0.000000   \n",
       "17  0.000000  0.000000  0.000000  0.000000  0.000000  0.00000      0.000000   \n",
       "18  0.000000  0.321931  0.321931  0.000000  0.000000  0.00000      0.266108   \n",
       "19  0.000000  0.321931  0.321931  0.000000  0.000000  0.00000      0.266108   \n",
       "\n",
       "      amount    appear   arrive  ...       put   quality     quite       say  \\\n",
       "0   0.000000  0.000000  0.00000  ...  0.268326  0.268326  0.000000  0.000000   \n",
       "1   0.000000  0.000000  0.00000  ...  0.268326  0.268326  0.000000  0.000000   \n",
       "2   0.000000  0.000000  0.00000  ...  0.000000  0.000000  0.000000  0.000000   \n",
       "3   0.000000  0.000000  0.00000  ...  0.000000  0.000000  0.000000  0.000000   \n",
       "4   0.000000  0.000000  0.00000  ...  0.000000  0.000000  0.000000  0.000000   \n",
       "5   0.000000  0.000000  0.00000  ...  0.000000  0.000000  0.000000  0.000000   \n",
       "6   0.000000  0.000000  0.00000  ...  0.000000  0.000000  0.000000  0.000000   \n",
       "7   0.000000  0.000000  0.00000  ...  0.000000  0.000000  0.000000  0.000000   \n",
       "8   0.000000  0.000000  0.00000  ...  0.000000  0.000000  0.000000  0.000000   \n",
       "9   0.000000  0.000000  0.00000  ...  0.000000  0.000000  0.000000  0.000000   \n",
       "10  0.000000  0.000000  0.21745  ...  0.000000  0.000000  0.000000  0.000000   \n",
       "11  0.000000  0.000000  0.21745  ...  0.000000  0.000000  0.000000  0.000000   \n",
       "12  0.000000  0.000000  0.00000  ...  0.000000  0.000000  0.000000  0.000000   \n",
       "13  0.000000  0.000000  0.00000  ...  0.000000  0.000000  0.000000  0.000000   \n",
       "14  0.000000  0.000000  0.00000  ...  0.000000  0.000000  0.341016  0.341016   \n",
       "15  0.000000  0.000000  0.00000  ...  0.000000  0.000000  0.341016  0.341016   \n",
       "16  0.337874  0.000000  0.00000  ...  0.000000  0.000000  0.000000  0.000000   \n",
       "17  0.337874  0.000000  0.00000  ...  0.000000  0.000000  0.000000  0.000000   \n",
       "18  0.000000  0.321931  0.00000  ...  0.000000  0.000000  0.000000  0.000000   \n",
       "19  0.000000  0.321931  0.00000  ...  0.000000  0.000000  0.000000  0.000000   \n",
       "\n",
       "        seem     shelf    spring       way      well      work  \n",
       "0   0.000000  0.000000  0.268326  0.000000  0.000000  0.221798  \n",
       "1   0.000000  0.000000  0.268326  0.000000  0.000000  0.221798  \n",
       "2   0.000000  0.000000  0.000000  0.360767  0.000000  0.000000  \n",
       "3   0.000000  0.000000  0.000000  0.360767  0.000000  0.000000  \n",
       "4   0.000000  0.000000  0.000000  0.000000  0.399020  0.000000  \n",
       "5   0.000000  0.000000  0.000000  0.000000  0.399020  0.000000  \n",
       "6   0.406825  0.000000  0.000000  0.000000  0.255109  0.336281  \n",
       "7   0.406825  0.000000  0.000000  0.000000  0.255109  0.336281  \n",
       "8   0.000000  0.000000  0.000000  0.000000  0.000000  0.000000  \n",
       "9   0.000000  0.000000  0.000000  0.000000  0.000000  0.000000  \n",
       "10  0.000000  0.000000  0.000000  0.000000  0.000000  0.000000  \n",
       "11  0.000000  0.000000  0.000000  0.000000  0.000000  0.000000  \n",
       "12  0.000000  0.000000  0.000000  0.000000  0.000000  0.000000  \n",
       "13  0.000000  0.000000  0.000000  0.000000  0.000000  0.000000  \n",
       "14  0.000000  0.000000  0.000000  0.000000  0.213842  0.000000  \n",
       "15  0.000000  0.000000  0.000000  0.000000  0.213842  0.000000  \n",
       "16  0.000000  0.000000  0.000000  0.000000  0.000000  0.000000  \n",
       "17  0.000000  0.000000  0.000000  0.000000  0.000000  0.000000  \n",
       "18  0.000000  0.321931  0.000000  0.000000  0.201874  0.000000  \n",
       "19  0.000000  0.321931  0.000000  0.000000  0.201874  0.000000  \n",
       "\n",
       "[20 rows x 79 columns]"
      ]
     },
     "execution_count": 18,
     "metadata": {},
     "output_type": "execute_result"
    }
   ],
   "source": [
    "# Convert sparsed matrix to Dataframe for better view of the sample data frame\n",
    "X_tfidf_df = pd.DataFrame(X_tfidf_sample.toarray())\n",
    "X_tfidf_df.columns = tfidf_vector_sample.get_feature_names_out()\n",
    "X_tfidf_df"
   ]
  },
  {
   "cell_type": "code",
   "execution_count": 44,
   "id": "ee7d3793",
   "metadata": {},
   "outputs": [],
   "source": [
    "df_array = X_tfidf.toarray()"
   ]
  },
  {
   "cell_type": "code",
   "execution_count": 45,
   "id": "fd6033aa",
   "metadata": {},
   "outputs": [
    {
     "name": "stdout",
     "output_type": "stream",
     "text": [
      "(46774, 11675)\n"
     ]
    },
    {
     "data": {
      "text/plain": [
       "array([[ 0.09336869,  0.00291277,  0.10905824, ..., -0.0024184 ,\n",
       "         0.02833485, -0.05618597],\n",
       "       [ 0.09336869,  0.00291277,  0.10905824, ..., -0.0024184 ,\n",
       "         0.02833485, -0.05618597],\n",
       "       [ 0.07173948, -0.00200262,  0.04224094, ...,  0.05549049,\n",
       "        -0.04125828, -0.00045565],\n",
       "       ...,\n",
       "       [ 0.12899368,  0.09609925,  0.00557858, ..., -0.02248136,\n",
       "        -0.01116389,  0.01497497],\n",
       "       [ 0.02859521, -0.00598369,  0.02337158, ...,  0.00939324,\n",
       "        -0.01766751, -0.02334101],\n",
       "       [ 0.10959952,  0.12535443, -0.00139382, ..., -0.01521751,\n",
       "        -0.01476988,  0.02287094]])"
      ]
     },
     "execution_count": 45,
     "metadata": {},
     "output_type": "execute_result"
    }
   ],
   "source": [
    "#Reduce Dimension of features to 55 and check to get the array of the sparsed matrix\n",
    "svd = TruncatedSVD(n_components=55)\n",
    "svd.fit(df_array)\n",
    "df_array_transformed = svd.fit_transform(df_array)\n",
    "df_array_transformed"
   ]
  },
  {
   "cell_type": "code",
   "execution_count": 46,
   "id": "adfd46ae",
   "metadata": {},
   "outputs": [
    {
     "data": {
      "text/plain": [
       "(46774, 55)"
      ]
     },
     "execution_count": 46,
     "metadata": {},
     "output_type": "execute_result"
    }
   ],
   "source": [
    "#Confirm reduced dimension\n",
    "df_array_transformed.shape"
   ]
  },
  {
   "cell_type": "code",
   "execution_count": 47,
   "id": "92484f5d",
   "metadata": {},
   "outputs": [
    {
     "data": {
      "text/html": [
       "<div>\n",
       "<style scoped>\n",
       "    .dataframe tbody tr th:only-of-type {\n",
       "        vertical-align: middle;\n",
       "    }\n",
       "\n",
       "    .dataframe tbody tr th {\n",
       "        vertical-align: top;\n",
       "    }\n",
       "\n",
       "    .dataframe thead th {\n",
       "        text-align: right;\n",
       "    }\n",
       "</style>\n",
       "<table border=\"1\" class=\"dataframe\">\n",
       "  <thead>\n",
       "    <tr style=\"text-align: right;\">\n",
       "      <th></th>\n",
       "      <th>0</th>\n",
       "      <th>1</th>\n",
       "      <th>2</th>\n",
       "      <th>3</th>\n",
       "      <th>4</th>\n",
       "      <th>5</th>\n",
       "      <th>6</th>\n",
       "      <th>7</th>\n",
       "      <th>8</th>\n",
       "      <th>9</th>\n",
       "      <th>...</th>\n",
       "      <th>45</th>\n",
       "      <th>46</th>\n",
       "      <th>47</th>\n",
       "      <th>48</th>\n",
       "      <th>49</th>\n",
       "      <th>50</th>\n",
       "      <th>51</th>\n",
       "      <th>52</th>\n",
       "      <th>53</th>\n",
       "      <th>54</th>\n",
       "    </tr>\n",
       "  </thead>\n",
       "  <tbody>\n",
       "    <tr>\n",
       "      <th>0</th>\n",
       "      <td>0.093369</td>\n",
       "      <td>0.002913</td>\n",
       "      <td>0.109058</td>\n",
       "      <td>0.048729</td>\n",
       "      <td>0.017686</td>\n",
       "      <td>-0.014118</td>\n",
       "      <td>0.049754</td>\n",
       "      <td>0.024837</td>\n",
       "      <td>0.017717</td>\n",
       "      <td>-0.017800</td>\n",
       "      <td>...</td>\n",
       "      <td>0.016916</td>\n",
       "      <td>0.000618</td>\n",
       "      <td>0.073683</td>\n",
       "      <td>-0.064255</td>\n",
       "      <td>-0.078288</td>\n",
       "      <td>-0.040110</td>\n",
       "      <td>0.071897</td>\n",
       "      <td>-0.002418</td>\n",
       "      <td>0.028335</td>\n",
       "      <td>-0.056186</td>\n",
       "    </tr>\n",
       "    <tr>\n",
       "      <th>1</th>\n",
       "      <td>0.093369</td>\n",
       "      <td>0.002913</td>\n",
       "      <td>0.109058</td>\n",
       "      <td>0.048729</td>\n",
       "      <td>0.017686</td>\n",
       "      <td>-0.014118</td>\n",
       "      <td>0.049754</td>\n",
       "      <td>0.024837</td>\n",
       "      <td>0.017717</td>\n",
       "      <td>-0.017800</td>\n",
       "      <td>...</td>\n",
       "      <td>0.016916</td>\n",
       "      <td>0.000618</td>\n",
       "      <td>0.073683</td>\n",
       "      <td>-0.064255</td>\n",
       "      <td>-0.078288</td>\n",
       "      <td>-0.040110</td>\n",
       "      <td>0.071897</td>\n",
       "      <td>-0.002418</td>\n",
       "      <td>0.028335</td>\n",
       "      <td>-0.056186</td>\n",
       "    </tr>\n",
       "    <tr>\n",
       "      <th>2</th>\n",
       "      <td>0.071739</td>\n",
       "      <td>-0.002003</td>\n",
       "      <td>0.042241</td>\n",
       "      <td>-0.030889</td>\n",
       "      <td>0.077079</td>\n",
       "      <td>-0.008035</td>\n",
       "      <td>-0.022858</td>\n",
       "      <td>-0.056750</td>\n",
       "      <td>0.251206</td>\n",
       "      <td>0.019655</td>\n",
       "      <td>...</td>\n",
       "      <td>-0.030414</td>\n",
       "      <td>0.077983</td>\n",
       "      <td>0.029484</td>\n",
       "      <td>-0.062353</td>\n",
       "      <td>0.030769</td>\n",
       "      <td>-0.035277</td>\n",
       "      <td>0.063570</td>\n",
       "      <td>0.055490</td>\n",
       "      <td>-0.041258</td>\n",
       "      <td>-0.000456</td>\n",
       "    </tr>\n",
       "    <tr>\n",
       "      <th>3</th>\n",
       "      <td>0.071739</td>\n",
       "      <td>-0.002003</td>\n",
       "      <td>0.042241</td>\n",
       "      <td>-0.030889</td>\n",
       "      <td>0.077079</td>\n",
       "      <td>-0.008035</td>\n",
       "      <td>-0.022858</td>\n",
       "      <td>-0.056750</td>\n",
       "      <td>0.251206</td>\n",
       "      <td>0.019655</td>\n",
       "      <td>...</td>\n",
       "      <td>-0.030414</td>\n",
       "      <td>0.077983</td>\n",
       "      <td>0.029484</td>\n",
       "      <td>-0.062353</td>\n",
       "      <td>0.030769</td>\n",
       "      <td>-0.035277</td>\n",
       "      <td>0.063570</td>\n",
       "      <td>0.055490</td>\n",
       "      <td>-0.041258</td>\n",
       "      <td>-0.000456</td>\n",
       "    </tr>\n",
       "    <tr>\n",
       "      <th>4</th>\n",
       "      <td>0.187807</td>\n",
       "      <td>-0.010289</td>\n",
       "      <td>0.059314</td>\n",
       "      <td>0.010254</td>\n",
       "      <td>-0.028726</td>\n",
       "      <td>-0.205541</td>\n",
       "      <td>-0.148055</td>\n",
       "      <td>0.157864</td>\n",
       "      <td>0.004963</td>\n",
       "      <td>0.130848</td>\n",
       "      <td>...</td>\n",
       "      <td>0.004190</td>\n",
       "      <td>-0.109338</td>\n",
       "      <td>0.160678</td>\n",
       "      <td>0.054039</td>\n",
       "      <td>0.098266</td>\n",
       "      <td>0.043561</td>\n",
       "      <td>-0.084887</td>\n",
       "      <td>-0.069241</td>\n",
       "      <td>-0.194429</td>\n",
       "      <td>-0.061747</td>\n",
       "    </tr>\n",
       "  </tbody>\n",
       "</table>\n",
       "<p>5 rows × 55 columns</p>\n",
       "</div>"
      ],
      "text/plain": [
       "         0         1         2         3         4         5         6   \\\n",
       "0  0.093369  0.002913  0.109058  0.048729  0.017686 -0.014118  0.049754   \n",
       "1  0.093369  0.002913  0.109058  0.048729  0.017686 -0.014118  0.049754   \n",
       "2  0.071739 -0.002003  0.042241 -0.030889  0.077079 -0.008035 -0.022858   \n",
       "3  0.071739 -0.002003  0.042241 -0.030889  0.077079 -0.008035 -0.022858   \n",
       "4  0.187807 -0.010289  0.059314  0.010254 -0.028726 -0.205541 -0.148055   \n",
       "\n",
       "         7         8         9   ...        45        46        47        48  \\\n",
       "0  0.024837  0.017717 -0.017800  ...  0.016916  0.000618  0.073683 -0.064255   \n",
       "1  0.024837  0.017717 -0.017800  ...  0.016916  0.000618  0.073683 -0.064255   \n",
       "2 -0.056750  0.251206  0.019655  ... -0.030414  0.077983  0.029484 -0.062353   \n",
       "3 -0.056750  0.251206  0.019655  ... -0.030414  0.077983  0.029484 -0.062353   \n",
       "4  0.157864  0.004963  0.130848  ...  0.004190 -0.109338  0.160678  0.054039   \n",
       "\n",
       "         49        50        51        52        53        54  \n",
       "0 -0.078288 -0.040110  0.071897 -0.002418  0.028335 -0.056186  \n",
       "1 -0.078288 -0.040110  0.071897 -0.002418  0.028335 -0.056186  \n",
       "2  0.030769 -0.035277  0.063570  0.055490 -0.041258 -0.000456  \n",
       "3  0.030769 -0.035277  0.063570  0.055490 -0.041258 -0.000456  \n",
       "4  0.098266  0.043561 -0.084887 -0.069241 -0.194429 -0.061747  \n",
       "\n",
       "[5 rows x 55 columns]"
      ]
     },
     "execution_count": 47,
     "metadata": {},
     "output_type": "execute_result"
    }
   ],
   "source": [
    "#Convert array to dataframe\n",
    "X_features1 = pd.DataFrame(df_array_transformed)\n",
    "X_features1.head()"
   ]
  },
  {
   "cell_type": "markdown",
   "id": "6a2ed7c9",
   "metadata": {},
   "source": [
    "Check RandomForestClassifier through k-fold Cross-Validation on Fisrt DF"
   ]
  },
  {
   "cell_type": "code",
   "execution_count": 48,
   "id": "e95a316e",
   "metadata": {},
   "outputs": [
    {
     "data": {
      "text/plain": [
       "array([0.75456975, 0.70946018, 0.83303046, 0.92185997, 0.88379303])"
      ]
     },
     "execution_count": 48,
     "metadata": {},
     "output_type": "execute_result"
    }
   ],
   "source": [
    "#K-fold Cross-Validation \n",
    "rf = RandomForestClassifier(n_jobs=-1)\n",
    "k_fold = KFold(n_splits=5)\n",
    "cross_val_score(rf, X_features1, df['emotions'], cv=k_fold, scoring='accuracy', n_jobs=-1)"
   ]
  },
  {
   "cell_type": "code",
   "execution_count": 32,
   "id": "dcd72713",
   "metadata": {},
   "outputs": [
    {
     "data": {
      "image/png": "[encoded data removed]",
      "text/plain": [
       "<Figure size 432x288 with 1 Axes>"
      ]
     },
     "metadata": {
      "needs_background": "light"
     },
     "output_type": "display_data"
    }
   ],
   "source": [
    "#Get the number of components that should be used using SVD for dimensionality reduction\n",
    "U, D, VT =  np.linalg.svd(df_array)\n",
    "plt.plot(D)\n",
    "plt.show()"
   ]
  },
  {
   "cell_type": "markdown",
   "id": "9c8d22e1",
   "metadata": {},
   "source": [
    "We see a proposed dimension of about 8,400 features. But that is too high still. So we will reduce to 300 features instead and see if we get something better"
   ]
  },
  {
   "cell_type": "code",
   "execution_count": 18,
   "id": "8bcda322",
   "metadata": {},
   "outputs": [
    {
     "data": {
      "text/plain": [
       "array([[ 0.09336869,  0.00291277,  0.10905825, ...,  0.01009437,\n",
       "         0.00433878,  0.01353108],\n",
       "       [ 0.09336869,  0.00291277,  0.10905825, ...,  0.01009437,\n",
       "         0.00433878,  0.01353108],\n",
       "       [ 0.07173948, -0.00200262,  0.04224075, ..., -0.01711381,\n",
       "        -0.04108047,  0.01158478],\n",
       "       ...,\n",
       "       [ 0.12899368,  0.09609924,  0.00557859, ...,  0.00388418,\n",
       "         0.0131913 , -0.01923772],\n",
       "       [ 0.02859521, -0.00598369,  0.02337151, ..., -0.06058069,\n",
       "         0.00582859,  0.00184865],\n",
       "       [ 0.10959952,  0.12535444, -0.00139391, ...,  0.03547864,\n",
       "         0.04993361, -0.04085111]])"
      ]
     },
     "execution_count": 18,
     "metadata": {},
     "output_type": "execute_result"
    }
   ],
   "source": [
    "#SVD for 300 components instead\n",
    "from sklearn.decomposition import TruncatedSVD\n",
    "svd = TruncatedSVD(n_components=300)\n",
    "svd.fit(df_array)\n",
    "df_array_transformed2 = svd.fit_transform(df_array)\n",
    "df_array_transformed2"
   ]
  },
  {
   "cell_type": "code",
   "execution_count": 19,
   "id": "bb820ef7",
   "metadata": {},
   "outputs": [
    {
     "data": {
      "text/plain": [
       "(46774, 300)"
      ]
     },
     "execution_count": 19,
     "metadata": {},
     "output_type": "execute_result"
    }
   ],
   "source": [
    "#Confirm the new shape of data\n",
    "df_array_transformed2.shape"
   ]
  },
  {
   "cell_type": "code",
   "execution_count": 20,
   "id": "9e2d3378",
   "metadata": {},
   "outputs": [
    {
     "data": {
      "text/html": [
       "<div>\n",
       "<style scoped>\n",
       "    .dataframe tbody tr th:only-of-type {\n",
       "        vertical-align: middle;\n",
       "    }\n",
       "\n",
       "    .dataframe tbody tr th {\n",
       "        vertical-align: top;\n",
       "    }\n",
       "\n",
       "    .dataframe thead th {\n",
       "        text-align: right;\n",
       "    }\n",
       "</style>\n",
       "<table border=\"1\" class=\"dataframe\">\n",
       "  <thead>\n",
       "    <tr style=\"text-align: right;\">\n",
       "      <th></th>\n",
       "      <th>0</th>\n",
       "      <th>1</th>\n",
       "      <th>2</th>\n",
       "      <th>3</th>\n",
       "      <th>4</th>\n",
       "      <th>5</th>\n",
       "      <th>6</th>\n",
       "      <th>7</th>\n",
       "      <th>8</th>\n",
       "      <th>9</th>\n",
       "      <th>...</th>\n",
       "      <th>290</th>\n",
       "      <th>291</th>\n",
       "      <th>292</th>\n",
       "      <th>293</th>\n",
       "      <th>294</th>\n",
       "      <th>295</th>\n",
       "      <th>296</th>\n",
       "      <th>297</th>\n",
       "      <th>298</th>\n",
       "      <th>299</th>\n",
       "    </tr>\n",
       "  </thead>\n",
       "  <tbody>\n",
       "    <tr>\n",
       "      <th>0</th>\n",
       "      <td>0.093369</td>\n",
       "      <td>0.002913</td>\n",
       "      <td>0.109058</td>\n",
       "      <td>0.048729</td>\n",
       "      <td>0.017685</td>\n",
       "      <td>-0.014119</td>\n",
       "      <td>0.049751</td>\n",
       "      <td>0.024835</td>\n",
       "      <td>0.017707</td>\n",
       "      <td>-0.017810</td>\n",
       "      <td>...</td>\n",
       "      <td>0.021195</td>\n",
       "      <td>0.000914</td>\n",
       "      <td>0.003548</td>\n",
       "      <td>-0.014353</td>\n",
       "      <td>0.016597</td>\n",
       "      <td>-0.008615</td>\n",
       "      <td>0.01491</td>\n",
       "      <td>0.010094</td>\n",
       "      <td>0.004339</td>\n",
       "      <td>0.013531</td>\n",
       "    </tr>\n",
       "    <tr>\n",
       "      <th>1</th>\n",
       "      <td>0.093369</td>\n",
       "      <td>0.002913</td>\n",
       "      <td>0.109058</td>\n",
       "      <td>0.048729</td>\n",
       "      <td>0.017685</td>\n",
       "      <td>-0.014119</td>\n",
       "      <td>0.049751</td>\n",
       "      <td>0.024835</td>\n",
       "      <td>0.017707</td>\n",
       "      <td>-0.017810</td>\n",
       "      <td>...</td>\n",
       "      <td>0.021195</td>\n",
       "      <td>0.000914</td>\n",
       "      <td>0.003548</td>\n",
       "      <td>-0.014353</td>\n",
       "      <td>0.016597</td>\n",
       "      <td>-0.008615</td>\n",
       "      <td>0.01491</td>\n",
       "      <td>0.010094</td>\n",
       "      <td>0.004339</td>\n",
       "      <td>0.013531</td>\n",
       "    </tr>\n",
       "    <tr>\n",
       "      <th>2</th>\n",
       "      <td>0.071739</td>\n",
       "      <td>-0.002003</td>\n",
       "      <td>0.042241</td>\n",
       "      <td>-0.030890</td>\n",
       "      <td>0.077078</td>\n",
       "      <td>-0.008034</td>\n",
       "      <td>-0.022864</td>\n",
       "      <td>-0.056749</td>\n",
       "      <td>0.251197</td>\n",
       "      <td>0.019763</td>\n",
       "      <td>...</td>\n",
       "      <td>0.037787</td>\n",
       "      <td>0.016286</td>\n",
       "      <td>-0.002090</td>\n",
       "      <td>-0.022498</td>\n",
       "      <td>0.007312</td>\n",
       "      <td>-0.010472</td>\n",
       "      <td>-0.02656</td>\n",
       "      <td>-0.017114</td>\n",
       "      <td>-0.041080</td>\n",
       "      <td>0.011585</td>\n",
       "    </tr>\n",
       "    <tr>\n",
       "      <th>3</th>\n",
       "      <td>0.071739</td>\n",
       "      <td>-0.002003</td>\n",
       "      <td>0.042241</td>\n",
       "      <td>-0.030890</td>\n",
       "      <td>0.077078</td>\n",
       "      <td>-0.008034</td>\n",
       "      <td>-0.022864</td>\n",
       "      <td>-0.056749</td>\n",
       "      <td>0.251197</td>\n",
       "      <td>0.019763</td>\n",
       "      <td>...</td>\n",
       "      <td>0.037787</td>\n",
       "      <td>0.016286</td>\n",
       "      <td>-0.002090</td>\n",
       "      <td>-0.022498</td>\n",
       "      <td>0.007312</td>\n",
       "      <td>-0.010472</td>\n",
       "      <td>-0.02656</td>\n",
       "      <td>-0.017114</td>\n",
       "      <td>-0.041080</td>\n",
       "      <td>0.011585</td>\n",
       "    </tr>\n",
       "    <tr>\n",
       "      <th>4</th>\n",
       "      <td>0.187807</td>\n",
       "      <td>-0.010289</td>\n",
       "      <td>0.059314</td>\n",
       "      <td>0.010255</td>\n",
       "      <td>-0.028723</td>\n",
       "      <td>-0.205541</td>\n",
       "      <td>-0.148057</td>\n",
       "      <td>0.157870</td>\n",
       "      <td>0.004997</td>\n",
       "      <td>0.130933</td>\n",
       "      <td>...</td>\n",
       "      <td>-0.006004</td>\n",
       "      <td>-0.009353</td>\n",
       "      <td>0.010510</td>\n",
       "      <td>0.000800</td>\n",
       "      <td>0.004265</td>\n",
       "      <td>-0.001284</td>\n",
       "      <td>-0.00615</td>\n",
       "      <td>-0.004996</td>\n",
       "      <td>0.002891</td>\n",
       "      <td>-0.005888</td>\n",
       "    </tr>\n",
       "  </tbody>\n",
       "</table>\n",
       "<p>5 rows × 300 columns</p>\n",
       "</div>"
      ],
      "text/plain": [
       "        0         1         2         3         4         5         6    \\\n",
       "0  0.093369  0.002913  0.109058  0.048729  0.017685 -0.014119  0.049751   \n",
       "1  0.093369  0.002913  0.109058  0.048729  0.017685 -0.014119  0.049751   \n",
       "2  0.071739 -0.002003  0.042241 -0.030890  0.077078 -0.008034 -0.022864   \n",
       "3  0.071739 -0.002003  0.042241 -0.030890  0.077078 -0.008034 -0.022864   \n",
       "4  0.187807 -0.010289  0.059314  0.010255 -0.028723 -0.205541 -0.148057   \n",
       "\n",
       "        7         8         9    ...       290       291       292       293  \\\n",
       "0  0.024835  0.017707 -0.017810  ...  0.021195  0.000914  0.003548 -0.014353   \n",
       "1  0.024835  0.017707 -0.017810  ...  0.021195  0.000914  0.003548 -0.014353   \n",
       "2 -0.056749  0.251197  0.019763  ...  0.037787  0.016286 -0.002090 -0.022498   \n",
       "3 -0.056749  0.251197  0.019763  ...  0.037787  0.016286 -0.002090 -0.022498   \n",
       "4  0.157870  0.004997  0.130933  ... -0.006004 -0.009353  0.010510  0.000800   \n",
       "\n",
       "        294       295      296       297       298       299  \n",
       "0  0.016597 -0.008615  0.01491  0.010094  0.004339  0.013531  \n",
       "1  0.016597 -0.008615  0.01491  0.010094  0.004339  0.013531  \n",
       "2  0.007312 -0.010472 -0.02656 -0.017114 -0.041080  0.011585  \n",
       "3  0.007312 -0.010472 -0.02656 -0.017114 -0.041080  0.011585  \n",
       "4  0.004265 -0.001284 -0.00615 -0.004996  0.002891 -0.005888  \n",
       "\n",
       "[5 rows x 300 columns]"
      ]
     },
     "execution_count": 20,
     "metadata": {},
     "output_type": "execute_result"
    }
   ],
   "source": [
    "X_features2 = pd.DataFrame(df_array_transformed2)\n",
    "X_features2.head()"
   ]
  },
  {
   "cell_type": "markdown",
   "id": "ccfd8c6b",
   "metadata": {},
   "source": [
    "### The Benchmark"
   ]
  },
  {
   "cell_type": "code",
   "execution_count": null,
   "id": "39f09a49",
   "metadata": {},
   "outputs": [],
   "source": [
    "K-Fold Cross Validation\n",
    "Check RandomForestClassifier through k-fold Cross-Validation on Second DF"
   ]
  },
  {
   "cell_type": "code",
   "execution_count": 49,
   "id": "c8960c1a",
   "metadata": {},
   "outputs": [
    {
     "data": {
      "text/plain": [
       "array([0.71822555, 0.69000534, 0.82159273, 0.92196686, 0.87705794])"
      ]
     },
     "execution_count": 49,
     "metadata": {},
     "output_type": "execute_result"
    }
   ],
   "source": [
    "rf = RandomForestClassifier(n_jobs=-1)\n",
    "k_fold = KFold(n_splits=5)\n",
    "cross_val_score(rf, X_features2, df['emotions'], cv=k_fold, scoring='accuracy', n_jobs=-1)"
   ]
  },
  {
   "cell_type": "markdown",
   "id": "7ec2e2f3",
   "metadata": {},
   "source": [
    "This doesn't look too good. Let's dig deeper and see"
   ]
  },
  {
   "cell_type": "markdown",
   "id": "e491d295",
   "metadata": {},
   "source": [
    "<a id ='3' ></a>\n",
    "### Explore other Classifiers"
   ]
  },
  {
   "cell_type": "markdown",
   "id": "72a25c3b",
   "metadata": {},
   "source": [
    "Through Holdout Set - for this we have to split our dataset - DF 1"
   ]
  },
  {
   "cell_type": "code",
   "execution_count": 40,
   "id": "bcb13d4b",
   "metadata": {},
   "outputs": [],
   "source": [
    "# Train - test split\n",
    "X_train, X_test, y_train, y_test = train_test_split(X_features1, df['emotions'], test_size=0.2)"
   ]
  },
  {
   "cell_type": "code",
   "execution_count": 41,
   "id": "4758828a",
   "metadata": {},
   "outputs": [],
   "source": [
    "#Train and fit model\n",
    "rf = RandomForestClassifier(n_jobs=-1)\n",
    "rf_model = rf.fit(X_train, y_train)"
   ]
  },
  {
   "cell_type": "code",
   "execution_count": 43,
   "id": "520c1547",
   "metadata": {},
   "outputs": [],
   "source": [
    "# Get the predictions and see the initial scores\n",
    "y_pred = rf_model.predict(X_test)"
   ]
  },
  {
   "cell_type": "code",
   "execution_count": 44,
   "id": "cc4d5b56",
   "metadata": {},
   "outputs": [
    {
     "name": "stdout",
     "output_type": "stream",
     "text": [
      "              precision    recall  f1-score   support\n",
      "\n",
      "Disappointed       0.95      0.88      0.91       782\n",
      "       Happy       0.92      0.90      0.91      3012\n",
      " Indifferent       0.94      0.92      0.93       957\n",
      "   Satisfied       1.00      0.83      0.91       341\n",
      "  Very Happy       0.92      0.96      0.94      4263\n",
      "\n",
      "    accuracy                           0.93      9355\n",
      "   macro avg       0.94      0.90      0.92      9355\n",
      "weighted avg       0.93      0.93      0.93      9355\n",
      "\n"
     ]
    }
   ],
   "source": [
    "# Print results\n",
    "print(classification_report(y_test, y_pred))"
   ]
  },
  {
   "cell_type": "markdown",
   "id": "cc747564",
   "metadata": {},
   "source": [
    "This looks better than the result from the k-fold cross validation. But let's Try with larger number of columns - DF 2"
   ]
  },
  {
   "cell_type": "code",
   "execution_count": 22,
   "id": "44afe37d",
   "metadata": {},
   "outputs": [],
   "source": [
    "# Train - test split\n",
    "X_train2, X_test2, y_train2, y_test2 = train_test_split(X_features2, df['emotions'], test_size=0.2)"
   ]
  },
  {
   "cell_type": "code",
   "execution_count": 184,
   "id": "c416b26f",
   "metadata": {},
   "outputs": [],
   "source": [
    "#Train and fit model\n",
    "rf2 = RandomForestClassifier(n_jobs=-1)\n",
    "rf_model2 = rf2.fit(X_train2, y_train2)"
   ]
  },
  {
   "cell_type": "code",
   "execution_count": 185,
   "id": "915f1ebb",
   "metadata": {},
   "outputs": [],
   "source": [
    "# Get the predictions and see the initial scores\n",
    "y_pred2 = rf_model2.predict(X_test2)"
   ]
  },
  {
   "cell_type": "code",
   "execution_count": 53,
   "id": "7f7d9f82",
   "metadata": {},
   "outputs": [
    {
     "name": "stdout",
     "output_type": "stream",
     "text": [
      "              precision    recall  f1-score   support\n",
      "\n",
      "Disappointed       0.98      0.86      0.92       728\n",
      "       Happy       0.94      0.91      0.92      2948\n",
      " Indifferent       0.99      0.93      0.96      1003\n",
      "   Satisfied       1.00      0.89      0.94       389\n",
      "  Very Happy       0.91      0.97      0.94      4287\n",
      "\n",
      "    accuracy                           0.94      9355\n",
      "   macro avg       0.96      0.91      0.94      9355\n",
      "weighted avg       0.94      0.94      0.93      9355\n",
      "\n"
     ]
    }
   ],
   "source": [
    "# Print results\n",
    "print(classification_report(y_test2, y_pred2))"
   ]
  },
  {
   "cell_type": "markdown",
   "id": "d4809a8a",
   "metadata": {},
   "source": [
    "Larger number of features does seem a little bit better - I will still dig deeper in case I find something better"
   ]
  },
  {
   "cell_type": "code",
   "execution_count": 23,
   "id": "28d546d6",
   "metadata": {},
   "outputs": [
    {
     "data": {
      "text/plain": [
       "Very Happy      21371\n",
       "Happy           14825\n",
       "Indifferent      4943\n",
       "Disappointed     3766\n",
       "Satisfied        1869\n",
       "Name: emotions, dtype: int64"
      ]
     },
     "execution_count": 23,
     "metadata": {},
     "output_type": "execute_result"
    }
   ],
   "source": [
    "#Check value count for possible imbalance\n",
    "df['emotions'].value_counts()"
   ]
  },
  {
   "cell_type": "markdown",
   "id": "330a03b2",
   "metadata": {},
   "source": [
    "We can see some data imbalance. Let's upsample with Smote"
   ]
  },
  {
   "cell_type": "code",
   "execution_count": 24,
   "id": "7e23b883",
   "metadata": {},
   "outputs": [
    {
     "data": {
      "text/plain": [
       "Happy           17035\n",
       "Very Happy      17035\n",
       "Disappointed    17035\n",
       "Indifferent     17035\n",
       "Satisfied       17035\n",
       "Name: emotions, dtype: int64"
      ]
     },
     "execution_count": 24,
     "metadata": {},
     "output_type": "execute_result"
    }
   ],
   "source": [
    "#Smote Object\n",
    "smote = SMOTE()\n",
    "\n",
    "X_sm, y_sm = smote.fit_resample(np.array(X_train2), y_train2)\n",
    "y_sm.value_counts()"
   ]
  },
  {
   "cell_type": "markdown",
   "id": "c62f3393",
   "metadata": {},
   "source": [
    "We have balanced the data. Let's try different algorithms and see if we get something good"
   ]
  },
  {
   "cell_type": "code",
   "execution_count": 26,
   "id": "3e277054",
   "metadata": {},
   "outputs": [],
   "source": [
    "# for PCA, it is important to make everything between 0 and 1 first:\n",
    "scaler = MinMaxScaler().fit(X_sm)\n",
    "\n",
    "X_sm = scaler.transform(X_sm)\n",
    "\n",
    "#PCA object\n",
    "pca = PCA(n_components=.95, random_state=42)\n",
    "pca.fit(X_sm, y_sm)\n",
    "\n",
    "X_train2_pca = pca.transform(X_sm)\n",
    "X_test2_pca = pca.transform(scaler.transform(X_test2))"
   ]
  },
  {
   "cell_type": "code",
   "execution_count": 59,
   "id": "cc53834a",
   "metadata": {},
   "outputs": [
    {
     "name": "stdout",
     "output_type": "stream",
     "text": [
      "              precision    recall  f1-score   support\n",
      "\n",
      "Disappointed       0.40      0.58      0.47       728\n",
      "       Happy       0.55      0.45      0.50      2948\n",
      " Indifferent       0.59      0.78      0.67      1003\n",
      "   Satisfied       0.20      0.52      0.29       389\n",
      "  Very Happy       0.76      0.63      0.69      4287\n",
      "\n",
      "    accuracy                           0.58      9355\n",
      "   macro avg       0.50      0.59      0.52      9355\n",
      "weighted avg       0.63      0.58      0.59      9355\n",
      "\n"
     ]
    }
   ],
   "source": [
    "# Logistic Regression Algorithm\n",
    "\n",
    "lr = LogisticRegression(n_jobs=7)\n",
    "\n",
    "lr.fit(X_train2_pca, y_sm)\n",
    "\n",
    "y_pred_lr = lr.predict(X_test2_pca)\n",
    "\n",
    "print(classification_report(y_test2, y_pred_lr))"
   ]
  },
  {
   "cell_type": "code",
   "execution_count": 52,
   "id": "ef3bbb3e",
   "metadata": {},
   "outputs": [
    {
     "name": "stdout",
     "output_type": "stream",
     "text": [
      "              precision    recall  f1-score   support\n",
      "\n",
      "Disappointed       0.92      0.87      0.90       759\n",
      "       Happy       0.93      0.91      0.92      2929\n",
      " Indifferent       0.98      0.94      0.96       947\n",
      "   Satisfied       0.98      0.88      0.93       384\n",
      "  Very Happy       0.92      0.96      0.94      4336\n",
      "\n",
      "    accuracy                           0.93      9355\n",
      "   macro avg       0.95      0.91      0.93      9355\n",
      "weighted avg       0.93      0.93      0.93      9355\n",
      "\n"
     ]
    }
   ],
   "source": [
    "# Random Forest Algorithm\n",
    "\n",
    "classiffier_model = RandomForestClassifier(n_jobs=7)\n",
    "\n",
    "classiffier_model.fit(X_train2_pca,y_sm)\n",
    "\n",
    "y_pred_classifier= classiffier_model.predict(X_test2_pca)\n",
    "\n",
    "print(classification_report(y_test2, y_pred_classifier))"
   ]
  },
  {
   "cell_type": "code",
   "execution_count": 62,
   "id": "0a90aa6f",
   "metadata": {},
   "outputs": [
    {
     "name": "stderr",
     "output_type": "stream",
     "text": [
      "C:\\Users\\49178\\anaconda3\\envs\\final_project\\lib\\site-packages\\xgboost\\compat.py:36: FutureWarning: pandas.Int64Index is deprecated and will be removed from pandas in a future version. Use pandas.Index with the appropriate dtype instead.\n",
      "  from pandas import MultiIndex, Int64Index\n",
      "C:\\Users\\49178\\anaconda3\\envs\\final_project\\lib\\site-packages\\xgboost\\sklearn.py:1224: UserWarning: The use of label encoder in XGBClassifier is deprecated and will be removed in a future release. To remove this warning, do the following: 1) Pass option use_label_encoder=False when constructing XGBClassifier object; and 2) Encode your labels (y) as integers starting with 0, i.e. 0, 1, 2, ..., [num_class - 1].\n",
      "  warnings.warn(label_encoder_deprecation_msg, UserWarning)\n"
     ]
    },
    {
     "name": "stdout",
     "output_type": "stream",
     "text": [
      "[08:33:10] WARNING: C:/Users/Administrator/workspace/xgboost-win64_release_1.5.1/src/learner.cc:1115: Starting in XGBoost 1.3.0, the default evaluation metric used with the objective 'multi:softprob' was changed from 'merror' to 'mlogloss'. Explicitly set eval_metric if you'd like to restore the old behavior.\n",
      "              precision    recall  f1-score   support\n",
      "\n",
      "Disappointed       0.87      0.90      0.88       728\n",
      "       Happy       0.89      0.90      0.90      2948\n",
      " Indifferent       0.93      0.93      0.93      1003\n",
      "   Satisfied       0.91      0.91      0.91       389\n",
      "  Very Happy       0.94      0.93      0.94      4287\n",
      "\n",
      "    accuracy                           0.92      9355\n",
      "   macro avg       0.91      0.91      0.91      9355\n",
      "weighted avg       0.92      0.92      0.92      9355\n",
      "\n"
     ]
    }
   ],
   "source": [
    "# The XGBoost Algorithm\n",
    "\n",
    "xgb = XGBClassifier(n_jobs=7)\n",
    "\n",
    "xgb.fit(X_train2_pca,y_sm)\n",
    "\n",
    "y_preds_xgb = xgb.predict(np.array(X_test2_pca))\n",
    "\n",
    "print(classification_report(y_test2, y_preds_xgb))"
   ]
  },
  {
   "cell_type": "code",
   "execution_count": 63,
   "id": "ccd8c7f6",
   "metadata": {},
   "outputs": [
    {
     "name": "stdout",
     "output_type": "stream",
     "text": [
      "              precision    recall  f1-score   support\n",
      "\n",
      "Disappointed       0.84      0.87      0.86       728\n",
      "       Happy       0.86      0.88      0.87      2948\n",
      " Indifferent       0.89      0.93      0.91      1003\n",
      "   Satisfied       0.90      0.90      0.90       389\n",
      "  Very Happy       0.94      0.91      0.93      4287\n",
      "\n",
      "    accuracy                           0.90      9355\n",
      "   macro avg       0.89      0.90      0.89      9355\n",
      "weighted avg       0.90      0.90      0.90      9355\n",
      "\n"
     ]
    }
   ],
   "source": [
    "# The Support Vector Machine - Classifier\n",
    "\n",
    "svc = SVC()\n",
    "\n",
    "svc = SVC().fit(X_train2_pca,y_sm)\n",
    "\n",
    "y_preds_svc = svc.predict(X_test2_pca)\n",
    "\n",
    "print(classification_report(y_test2, y_preds_svc))"
   ]
  },
  {
   "cell_type": "code",
   "execution_count": 66,
   "id": "d35a3179",
   "metadata": {},
   "outputs": [
    {
     "name": "stdout",
     "output_type": "stream",
     "text": [
      "              precision    recall  f1-score   support\n",
      "\n",
      "Disappointed       0.43      0.66      0.52       728\n",
      "       Happy       0.69      0.53      0.60      2948\n",
      " Indifferent       0.64      0.71      0.68      1003\n",
      "   Satisfied       0.34      0.54      0.41       389\n",
      "  Very Happy       0.77      0.76      0.76      4287\n",
      "\n",
      "    accuracy                           0.67      9355\n",
      "   macro avg       0.57      0.64      0.59      9355\n",
      "weighted avg       0.68      0.67      0.67      9355\n",
      "\n"
     ]
    }
   ],
   "source": [
    "# The Gradient Boosting Classifier\n",
    "gb = GradientBoostingClassifier()\n",
    "\n",
    "gb = gb.fit(X_train2_pca, y_sm)\n",
    "    \n",
    "y_pred_gb = gb.predict(X_test2_pca)\n",
    "\n",
    "print(classification_report(y_test2, y_pred_gb))"
   ]
  },
  {
   "cell_type": "markdown",
   "id": "4c9388a1",
   "metadata": {},
   "source": [
    "<a id ='4' ></a>\n",
    "### The Classifier & Exportation"
   ]
  },
  {
   "cell_type": "code",
   "execution_count": null,
   "id": "9f53069b",
   "metadata": {},
   "outputs": [],
   "source": [
    "# Model\n",
    "rf_model2"
   ]
  },
  {
   "cell_type": "markdown",
   "id": "b3d3a79d",
   "metadata": {},
   "source": [
    " #### Export the model"
   ]
  },
  {
   "cell_type": "code",
   "execution_count": 187,
   "id": "9fe16762",
   "metadata": {},
   "outputs": [],
   "source": [
    "frame = {\"model\": rf_model2}\n",
    "with open('model_steps.pkl', 'wb') as file:\n",
    "    pickle.dump(frame, file)"
   ]
  },
  {
   "cell_type": "markdown",
   "id": "b53c984a",
   "metadata": {},
   "source": [
    "<a id ='5' ></a>\n",
    "### Conclusions:\n",
    "\n",
    "Interestingly the results we got from the Random Forest Classifier just after cleaning the text and reducing the dimension to 300 gave us a better result overall :)\n",
    "However, all the exploration and testing of several other classifiers were necessary to have come to a decision on which Classifier to build our model with."
   ]
  },
  {
   "cell_type": "code",
   "execution_count": null,
   "id": "4cec28fa",
   "metadata": {},
   "outputs": [],
   "source": []
  }
 ],
 "metadata": {
  "kernelspec": {
   "display_name": "final_project",
   "language": "python",
   "name": "final_project"
  },
  "language_info": {
   "codemirror_mode": {
    "name": "ipython",
    "version": 3
   },
   "file_extension": ".py",
   "mimetype": "text/x-python",
   "name": "python",
   "nbconvert_exporter": "python",
   "pygments_lexer": "ipython3",
   "version": "3.10.0"
  }
 },
 "nbformat": 4,
 "nbformat_minor": 5
}
